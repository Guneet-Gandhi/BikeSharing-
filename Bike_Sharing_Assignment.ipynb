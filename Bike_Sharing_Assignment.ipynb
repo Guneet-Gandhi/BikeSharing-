{
 "cells": [
  {
   "cell_type": "code",
   "execution_count": 734,
   "id": "789ca0a1",
   "metadata": {},
   "outputs": [
    {
     "name": "stdout",
     "output_type": "stream",
     "text": [
      "[WinError 2] The system cannot find the file specified: 'Desktop/'\n",
      "C:\\Users\\gandhig\\Desktop\n"
     ]
    }
   ],
   "source": [
    "cd Desktop/"
   ]
  },
  {
   "cell_type": "code",
   "execution_count": 735,
   "id": "e1f67b58",
   "metadata": {},
   "outputs": [],
   "source": [
    "import numpy as np\n",
    "import pandas as pd\n",
    "import matplotlib.pyplot as plt\n",
    "import seaborn as sns\n",
    "%matplotlib inline\n"
   ]
  },
  {
   "cell_type": "code",
   "execution_count": 736,
   "id": "1025534c",
   "metadata": {},
   "outputs": [],
   "source": [
    "df = pd.read_csv(\"day.csv\")"
   ]
  },
  {
   "cell_type": "code",
   "execution_count": 737,
   "id": "848b9acd",
   "metadata": {},
   "outputs": [
    {
     "data": {
      "text/html": [
       "<div>\n",
       "<style scoped>\n",
       "    .dataframe tbody tr th:only-of-type {\n",
       "        vertical-align: middle;\n",
       "    }\n",
       "\n",
       "    .dataframe tbody tr th {\n",
       "        vertical-align: top;\n",
       "    }\n",
       "\n",
       "    .dataframe thead th {\n",
       "        text-align: right;\n",
       "    }\n",
       "</style>\n",
       "<table border=\"1\" class=\"dataframe\">\n",
       "  <thead>\n",
       "    <tr style=\"text-align: right;\">\n",
       "      <th></th>\n",
       "      <th>instant</th>\n",
       "      <th>dteday</th>\n",
       "      <th>season</th>\n",
       "      <th>yr</th>\n",
       "      <th>mnth</th>\n",
       "      <th>holiday</th>\n",
       "      <th>weekday</th>\n",
       "      <th>workingday</th>\n",
       "      <th>weathersit</th>\n",
       "      <th>temp</th>\n",
       "      <th>atemp</th>\n",
       "      <th>hum</th>\n",
       "      <th>windspeed</th>\n",
       "      <th>casual</th>\n",
       "      <th>registered</th>\n",
       "      <th>cnt</th>\n",
       "    </tr>\n",
       "  </thead>\n",
       "  <tbody>\n",
       "    <tr>\n",
       "      <th>0</th>\n",
       "      <td>1</td>\n",
       "      <td>01-01-2018</td>\n",
       "      <td>1</td>\n",
       "      <td>0</td>\n",
       "      <td>1</td>\n",
       "      <td>0</td>\n",
       "      <td>6</td>\n",
       "      <td>0</td>\n",
       "      <td>2</td>\n",
       "      <td>14.110847</td>\n",
       "      <td>18.18125</td>\n",
       "      <td>80.5833</td>\n",
       "      <td>10.749882</td>\n",
       "      <td>331</td>\n",
       "      <td>654</td>\n",
       "      <td>985</td>\n",
       "    </tr>\n",
       "    <tr>\n",
       "      <th>1</th>\n",
       "      <td>2</td>\n",
       "      <td>02-01-2018</td>\n",
       "      <td>1</td>\n",
       "      <td>0</td>\n",
       "      <td>1</td>\n",
       "      <td>0</td>\n",
       "      <td>0</td>\n",
       "      <td>0</td>\n",
       "      <td>2</td>\n",
       "      <td>14.902598</td>\n",
       "      <td>17.68695</td>\n",
       "      <td>69.6087</td>\n",
       "      <td>16.652113</td>\n",
       "      <td>131</td>\n",
       "      <td>670</td>\n",
       "      <td>801</td>\n",
       "    </tr>\n",
       "    <tr>\n",
       "      <th>2</th>\n",
       "      <td>3</td>\n",
       "      <td>03-01-2018</td>\n",
       "      <td>1</td>\n",
       "      <td>0</td>\n",
       "      <td>1</td>\n",
       "      <td>0</td>\n",
       "      <td>1</td>\n",
       "      <td>1</td>\n",
       "      <td>1</td>\n",
       "      <td>8.050924</td>\n",
       "      <td>9.47025</td>\n",
       "      <td>43.7273</td>\n",
       "      <td>16.636703</td>\n",
       "      <td>120</td>\n",
       "      <td>1229</td>\n",
       "      <td>1349</td>\n",
       "    </tr>\n",
       "    <tr>\n",
       "      <th>3</th>\n",
       "      <td>4</td>\n",
       "      <td>04-01-2018</td>\n",
       "      <td>1</td>\n",
       "      <td>0</td>\n",
       "      <td>1</td>\n",
       "      <td>0</td>\n",
       "      <td>2</td>\n",
       "      <td>1</td>\n",
       "      <td>1</td>\n",
       "      <td>8.200000</td>\n",
       "      <td>10.60610</td>\n",
       "      <td>59.0435</td>\n",
       "      <td>10.739832</td>\n",
       "      <td>108</td>\n",
       "      <td>1454</td>\n",
       "      <td>1562</td>\n",
       "    </tr>\n",
       "    <tr>\n",
       "      <th>4</th>\n",
       "      <td>5</td>\n",
       "      <td>05-01-2018</td>\n",
       "      <td>1</td>\n",
       "      <td>0</td>\n",
       "      <td>1</td>\n",
       "      <td>0</td>\n",
       "      <td>3</td>\n",
       "      <td>1</td>\n",
       "      <td>1</td>\n",
       "      <td>9.305237</td>\n",
       "      <td>11.46350</td>\n",
       "      <td>43.6957</td>\n",
       "      <td>12.522300</td>\n",
       "      <td>82</td>\n",
       "      <td>1518</td>\n",
       "      <td>1600</td>\n",
       "    </tr>\n",
       "  </tbody>\n",
       "</table>\n",
       "</div>"
      ],
      "text/plain": [
       "   instant      dteday  season  yr  mnth  holiday  weekday  workingday  \\\n",
       "0        1  01-01-2018       1   0     1        0        6           0   \n",
       "1        2  02-01-2018       1   0     1        0        0           0   \n",
       "2        3  03-01-2018       1   0     1        0        1           1   \n",
       "3        4  04-01-2018       1   0     1        0        2           1   \n",
       "4        5  05-01-2018       1   0     1        0        3           1   \n",
       "\n",
       "   weathersit       temp     atemp      hum  windspeed  casual  registered  \\\n",
       "0           2  14.110847  18.18125  80.5833  10.749882     331         654   \n",
       "1           2  14.902598  17.68695  69.6087  16.652113     131         670   \n",
       "2           1   8.050924   9.47025  43.7273  16.636703     120        1229   \n",
       "3           1   8.200000  10.60610  59.0435  10.739832     108        1454   \n",
       "4           1   9.305237  11.46350  43.6957  12.522300      82        1518   \n",
       "\n",
       "    cnt  \n",
       "0   985  \n",
       "1   801  \n",
       "2  1349  \n",
       "3  1562  \n",
       "4  1600  "
      ]
     },
     "execution_count": 737,
     "metadata": {},
     "output_type": "execute_result"
    }
   ],
   "source": [
    "df.head()"
   ]
  },
  {
   "cell_type": "code",
   "execution_count": 738,
   "id": "4fe3b990",
   "metadata": {},
   "outputs": [
    {
     "data": {
      "text/plain": [
       "instant       0\n",
       "dteday        0\n",
       "season        0\n",
       "yr            0\n",
       "mnth          0\n",
       "holiday       0\n",
       "weekday       0\n",
       "workingday    0\n",
       "weathersit    0\n",
       "temp          0\n",
       "atemp         0\n",
       "hum           0\n",
       "windspeed     0\n",
       "casual        0\n",
       "registered    0\n",
       "cnt           0\n",
       "dtype: int64"
      ]
     },
     "execution_count": 738,
     "metadata": {},
     "output_type": "execute_result"
    }
   ],
   "source": [
    "#checking for null values in the dataset\n",
    "df.isnull().sum()"
   ]
  },
  {
   "cell_type": "code",
   "execution_count": 739,
   "id": "5b4e769b",
   "metadata": {},
   "outputs": [
    {
     "name": "stdout",
     "output_type": "stream",
     "text": [
      "<class 'pandas.core.frame.DataFrame'>\n",
      "RangeIndex: 730 entries, 0 to 729\n",
      "Data columns (total 16 columns):\n",
      " #   Column      Non-Null Count  Dtype  \n",
      "---  ------      --------------  -----  \n",
      " 0   instant     730 non-null    int64  \n",
      " 1   dteday      730 non-null    object \n",
      " 2   season      730 non-null    int64  \n",
      " 3   yr          730 non-null    int64  \n",
      " 4   mnth        730 non-null    int64  \n",
      " 5   holiday     730 non-null    int64  \n",
      " 6   weekday     730 non-null    int64  \n",
      " 7   workingday  730 non-null    int64  \n",
      " 8   weathersit  730 non-null    int64  \n",
      " 9   temp        730 non-null    float64\n",
      " 10  atemp       730 non-null    float64\n",
      " 11  hum         730 non-null    float64\n",
      " 12  windspeed   730 non-null    float64\n",
      " 13  casual      730 non-null    int64  \n",
      " 14  registered  730 non-null    int64  \n",
      " 15  cnt         730 non-null    int64  \n",
      "dtypes: float64(4), int64(11), object(1)\n",
      "memory usage: 91.4+ KB\n"
     ]
    }
   ],
   "source": [
    "df.info()"
   ]
  },
  {
   "cell_type": "code",
   "execution_count": 740,
   "id": "6c1e7899",
   "metadata": {},
   "outputs": [
    {
     "data": {
      "text/plain": [
       "(730, 16)"
      ]
     },
     "execution_count": 740,
     "metadata": {},
     "output_type": "execute_result"
    }
   ],
   "source": [
    "df.shape"
   ]
  },
  {
   "cell_type": "code",
   "execution_count": 741,
   "id": "c0e98245",
   "metadata": {},
   "outputs": [
    {
     "data": {
      "text/plain": [
       "1     62\n",
       "3     62\n",
       "5     62\n",
       "7     62\n",
       "8     62\n",
       "10    62\n",
       "12    62\n",
       "4     60\n",
       "6     60\n",
       "9     60\n",
       "11    60\n",
       "2     56\n",
       "Name: mnth, dtype: int64"
      ]
     },
     "execution_count": 741,
     "metadata": {},
     "output_type": "execute_result"
    }
   ],
   "source": [
    "df[\"yr\"].value_counts()\n",
    "df[\"mnth\"].value_counts()"
   ]
  },
  {
   "cell_type": "code",
   "execution_count": 742,
   "id": "8cfdd6a9",
   "metadata": {},
   "outputs": [],
   "source": [
    "df['date'] = pd.DatetimeIndex(df['dteday']).day"
   ]
  },
  {
   "cell_type": "code",
   "execution_count": 743,
   "id": "2d885911",
   "metadata": {},
   "outputs": [
    {
     "data": {
      "text/plain": [
       "1     24\n",
       "26    24\n",
       "11    24\n",
       "10    24\n",
       "9     24\n",
       "8     24\n",
       "7     24\n",
       "6     24\n",
       "5     24\n",
       "4     24\n",
       "3     24\n",
       "2     24\n",
       "28    24\n",
       "13    24\n",
       "27    24\n",
       "25    24\n",
       "24    24\n",
       "23    24\n",
       "22    24\n",
       "21    24\n",
       "20    24\n",
       "19    24\n",
       "18    24\n",
       "17    24\n",
       "16    24\n",
       "15    24\n",
       "14    24\n",
       "12    24\n",
       "29    22\n",
       "30    22\n",
       "31    14\n",
       "Name: date, dtype: int64"
      ]
     },
     "execution_count": 743,
     "metadata": {},
     "output_type": "execute_result"
    }
   ],
   "source": [
    "df['date'].value_counts()\n",
    "#not much value is provided by the date, hence we can drop this"
   ]
  },
  {
   "cell_type": "code",
   "execution_count": 744,
   "id": "070dc864",
   "metadata": {},
   "outputs": [],
   "source": [
    "#dropping dteday as well : same data is present in mnth and year\n",
    "#also dropping atemp and instnat as they won't be useful in our analysis.\n",
    "df1 = df.drop(['date','dteday','atemp','instant','registered','casual'] , axis =1)"
   ]
  },
  {
   "cell_type": "code",
   "execution_count": 745,
   "id": "cb66ba43",
   "metadata": {},
   "outputs": [
    {
     "data": {
      "text/plain": [
       "(730, 11)"
      ]
     },
     "execution_count": 745,
     "metadata": {},
     "output_type": "execute_result"
    }
   ],
   "source": [
    "df1.shape"
   ]
  },
  {
   "cell_type": "code",
   "execution_count": 746,
   "id": "150a54c8",
   "metadata": {},
   "outputs": [
    {
     "data": {
      "text/html": [
       "<div>\n",
       "<style scoped>\n",
       "    .dataframe tbody tr th:only-of-type {\n",
       "        vertical-align: middle;\n",
       "    }\n",
       "\n",
       "    .dataframe tbody tr th {\n",
       "        vertical-align: top;\n",
       "    }\n",
       "\n",
       "    .dataframe thead th {\n",
       "        text-align: right;\n",
       "    }\n",
       "</style>\n",
       "<table border=\"1\" class=\"dataframe\">\n",
       "  <thead>\n",
       "    <tr style=\"text-align: right;\">\n",
       "      <th></th>\n",
       "      <th>season</th>\n",
       "      <th>yr</th>\n",
       "      <th>mnth</th>\n",
       "      <th>holiday</th>\n",
       "      <th>weekday</th>\n",
       "      <th>workingday</th>\n",
       "      <th>weathersit</th>\n",
       "      <th>temp</th>\n",
       "      <th>hum</th>\n",
       "      <th>windspeed</th>\n",
       "      <th>cnt</th>\n",
       "    </tr>\n",
       "  </thead>\n",
       "  <tbody>\n",
       "    <tr>\n",
       "      <th>0</th>\n",
       "      <td>Spring</td>\n",
       "      <td>0</td>\n",
       "      <td>Jan</td>\n",
       "      <td>0</td>\n",
       "      <td>Sat</td>\n",
       "      <td>0</td>\n",
       "      <td>Mist_Cloudy</td>\n",
       "      <td>14.110847</td>\n",
       "      <td>80.5833</td>\n",
       "      <td>10.749882</td>\n",
       "      <td>985</td>\n",
       "    </tr>\n",
       "    <tr>\n",
       "      <th>1</th>\n",
       "      <td>Spring</td>\n",
       "      <td>0</td>\n",
       "      <td>Jan</td>\n",
       "      <td>0</td>\n",
       "      <td>Sun</td>\n",
       "      <td>0</td>\n",
       "      <td>Mist_Cloudy</td>\n",
       "      <td>14.902598</td>\n",
       "      <td>69.6087</td>\n",
       "      <td>16.652113</td>\n",
       "      <td>801</td>\n",
       "    </tr>\n",
       "    <tr>\n",
       "      <th>2</th>\n",
       "      <td>Spring</td>\n",
       "      <td>0</td>\n",
       "      <td>Jan</td>\n",
       "      <td>0</td>\n",
       "      <td>Mon</td>\n",
       "      <td>1</td>\n",
       "      <td>Clear_Few_Clouds</td>\n",
       "      <td>8.050924</td>\n",
       "      <td>43.7273</td>\n",
       "      <td>16.636703</td>\n",
       "      <td>1349</td>\n",
       "    </tr>\n",
       "    <tr>\n",
       "      <th>3</th>\n",
       "      <td>Spring</td>\n",
       "      <td>0</td>\n",
       "      <td>Jan</td>\n",
       "      <td>0</td>\n",
       "      <td>Tue</td>\n",
       "      <td>1</td>\n",
       "      <td>Clear_Few_Clouds</td>\n",
       "      <td>8.200000</td>\n",
       "      <td>59.0435</td>\n",
       "      <td>10.739832</td>\n",
       "      <td>1562</td>\n",
       "    </tr>\n",
       "    <tr>\n",
       "      <th>4</th>\n",
       "      <td>Spring</td>\n",
       "      <td>0</td>\n",
       "      <td>Jan</td>\n",
       "      <td>0</td>\n",
       "      <td>Wed</td>\n",
       "      <td>1</td>\n",
       "      <td>Clear_Few_Clouds</td>\n",
       "      <td>9.305237</td>\n",
       "      <td>43.6957</td>\n",
       "      <td>12.522300</td>\n",
       "      <td>1600</td>\n",
       "    </tr>\n",
       "  </tbody>\n",
       "</table>\n",
       "</div>"
      ],
      "text/plain": [
       "   season  yr mnth  holiday weekday  workingday        weathersit       temp  \\\n",
       "0  Spring   0  Jan        0     Sat           0       Mist_Cloudy  14.110847   \n",
       "1  Spring   0  Jan        0     Sun           0       Mist_Cloudy  14.902598   \n",
       "2  Spring   0  Jan        0     Mon           1  Clear_Few_Clouds   8.050924   \n",
       "3  Spring   0  Jan        0     Tue           1  Clear_Few_Clouds   8.200000   \n",
       "4  Spring   0  Jan        0     Wed           1  Clear_Few_Clouds   9.305237   \n",
       "\n",
       "       hum  windspeed   cnt  \n",
       "0  80.5833  10.749882   985  \n",
       "1  69.6087  16.652113   801  \n",
       "2  43.7273  16.636703  1349  \n",
       "3  59.0435  10.739832  1562  \n",
       "4  43.6957  12.522300  1600  "
      ]
     },
     "execution_count": 746,
     "metadata": {},
     "output_type": "execute_result"
    }
   ],
   "source": [
    "#mapping the data\n",
    "\n",
    "df1['season']=df1.season.map({1: 'Spring', 2: 'Summer',3:'Fall', 4:'Winter' })\n",
    "df1['mnth']=df1.mnth.map({1:'Jan',2:'Feb',3:'Mar',4:'Apr',5:'May',6:'June',7:'July',8:'Aug',9:'Sep',10:'Oct',11:'Nov',12:'Dec'})\n",
    "df1['weathersit']=df1.weathersit.map({1: 'Clear_Few_Clouds',2:'Mist_Cloudy',3:'Light_Snow_Rain_Thunderstorm',4:'HeavyRain__Snow_Fog_Pallets_Thunderstorm'})\n",
    "df1['weekday']=df1.weekday.map({0:'Sun',1:'Mon',2:'Tue',3:'Wed',4:'Thu',5:'Fri',6:'Sat'})\n",
    "\n",
    "df1.head()"
   ]
  },
  {
   "cell_type": "code",
   "execution_count": 747,
   "id": "295450de",
   "metadata": {},
   "outputs": [
    {
     "data": {
      "image/png": "[encoded data removed]",
      "text/plain": [
       "<Figure size 720x720 with 20 Axes>"
      ]
     },
     "metadata": {
      "needs_background": "light"
     },
     "output_type": "display_data"
    }
   ],
   "source": [
    "#performing analysis\n",
    "sns.pairplot(df1, vars=[\"temp\", \"hum\",'windspeed','cnt'])\n",
    "plt.show()\n"
   ]
  },
  {
   "cell_type": "code",
   "execution_count": 748,
   "id": "5306a4de",
   "metadata": {},
   "outputs": [
    {
     "data": {
      "image/png": "[encoded data removed]",
      "text/plain": [
       "<Figure size 1440x864 with 2 Axes>"
      ]
     },
     "metadata": {
      "needs_background": "light"
     },
     "output_type": "display_data"
    }
   ],
   "source": [
    "#checking for correlation b/w variables \n",
    "#variables which show strong correlation with cnt(dependent variable) : temp , regaistered and casual\n",
    "\n",
    "plt.figure(figsize = (20, 12))\n",
    "sns.heatmap(df1.corr(), annot = True)\n",
    "plt.show()"
   ]
  },
  {
   "cell_type": "code",
   "execution_count": 749,
   "id": "c39ccd3f",
   "metadata": {},
   "outputs": [],
   "source": [
    "#Performing univariate analysis "
   ]
  },
  {
   "cell_type": "code",
   "execution_count": 750,
   "id": "16dfffcd",
   "metadata": {},
   "outputs": [
    {
     "name": "stderr",
     "output_type": "stream",
     "text": [
      "C:\\Users\\gandhig\\Anaconda3\\lib\\site-packages\\seaborn\\_decorators.py:36: FutureWarning: Pass the following variables as keyword args: x, y. From version 0.12, the only valid positional argument will be `data`, and passing other arguments without an explicit keyword will result in an error or misinterpretation.\n",
      "  warnings.warn(\n"
     ]
    },
    {
     "data": {
      "image/png": "[encoded data removed]",
      "text/plain": [
       "<Figure size 432x288 with 1 Axes>"
      ]
     },
     "metadata": {
      "needs_background": "light"
     },
     "output_type": "display_data"
    }
   ],
   "source": [
    "sns.barplot('weathersit','cnt',data=df1)\n",
    "plt.show()\n",
    "#we see maximum bikes are rented when the sky is mostly clear and with very little clouds"
   ]
  },
  {
   "cell_type": "code",
   "execution_count": 751,
   "id": "69ad2d44",
   "metadata": {},
   "outputs": [
    {
     "name": "stderr",
     "output_type": "stream",
     "text": [
      "C:\\Users\\gandhig\\Anaconda3\\lib\\site-packages\\seaborn\\_decorators.py:36: FutureWarning: Pass the following variables as keyword args: x, y. From version 0.12, the only valid positional argument will be `data`, and passing other arguments without an explicit keyword will result in an error or misinterpretation.\n",
      "  warnings.warn(\n"
     ]
    },
    {
     "data": {
      "image/png": "[encoded data removed]",
      "text/plain": [
       "<Figure size 432x288 with 1 Axes>"
      ]
     },
     "metadata": {
      "needs_background": "light"
     },
     "output_type": "display_data"
    }
   ],
   "source": [
    "sns.barplot('season','cnt',data=df1)\n",
    "plt.show()\n",
    "#max bike count is seen in the fall and summer : during spring the count is least "
   ]
  },
  {
   "cell_type": "code",
   "execution_count": 752,
   "id": "e58b9dd6",
   "metadata": {},
   "outputs": [
    {
     "name": "stderr",
     "output_type": "stream",
     "text": [
      "C:\\Users\\gandhig\\Anaconda3\\lib\\site-packages\\seaborn\\_decorators.py:36: FutureWarning: Pass the following variables as keyword args: x, y. From version 0.12, the only valid positional argument will be `data`, and passing other arguments without an explicit keyword will result in an error or misinterpretation.\n",
      "  warnings.warn(\n"
     ]
    },
    {
     "data": {
      "image/png": "[encoded data removed]",
      "text/plain": [
       "<Figure size 432x288 with 1 Axes>"
      ]
     },
     "metadata": {
      "needs_background": "light"
     },
     "output_type": "display_data"
    }
   ],
   "source": [
    "sns.barplot('yr','cnt',data=df1)\n",
    "plt.show()\n",
    "#we see a good rise in the count of bikes from year 18 to 19"
   ]
  },
  {
   "cell_type": "code",
   "execution_count": 753,
   "id": "9d98c2ef",
   "metadata": {},
   "outputs": [
    {
     "name": "stderr",
     "output_type": "stream",
     "text": [
      "C:\\Users\\gandhig\\Anaconda3\\lib\\site-packages\\seaborn\\_decorators.py:36: FutureWarning: Pass the following variables as keyword args: x, y. From version 0.12, the only valid positional argument will be `data`, and passing other arguments without an explicit keyword will result in an error or misinterpretation.\n",
      "  warnings.warn(\n"
     ]
    },
    {
     "data": {
      "image/png": "[encoded data removed]",
      "text/plain": [
       "<Figure size 432x288 with 1 Axes>"
      ]
     },
     "metadata": {
      "needs_background": "light"
     },
     "output_type": "display_data"
    }
   ],
   "source": [
    "sns.barplot('workingday','cnt',data=df1)\n",
    "plt.show()\n",
    "#not much of a difference b/w the working and non working days count distribution"
   ]
  },
  {
   "cell_type": "code",
   "execution_count": 754,
   "id": "bb681470",
   "metadata": {},
   "outputs": [
    {
     "name": "stderr",
     "output_type": "stream",
     "text": [
      "C:\\Users\\gandhig\\Anaconda3\\lib\\site-packages\\seaborn\\_decorators.py:36: FutureWarning: Pass the following variables as keyword args: x, y. From version 0.12, the only valid positional argument will be `data`, and passing other arguments without an explicit keyword will result in an error or misinterpretation.\n",
      "  warnings.warn(\n"
     ]
    },
    {
     "data": {
      "text/plain": [
       "<AxesSubplot:xlabel='mnth', ylabel='cnt'>"
      ]
     },
     "execution_count": 754,
     "metadata": {},
     "output_type": "execute_result"
    },
    {
     "data": {
      "image/png": "[encoded data removed]",
      "text/plain": [
       "<Figure size 432x288 with 1 Axes>"
      ]
     },
     "metadata": {
      "needs_background": "light"
     },
     "output_type": "display_data"
    }
   ],
   "source": [
    "sns.barplot('mnth','cnt',hue='yr',data=df1,palette='ocean')"
   ]
  },
  {
   "cell_type": "code",
   "execution_count": 755,
   "id": "b9e80921",
   "metadata": {},
   "outputs": [
    {
     "name": "stderr",
     "output_type": "stream",
     "text": [
      "C:\\Users\\gandhig\\Anaconda3\\lib\\site-packages\\seaborn\\_decorators.py:36: FutureWarning: Pass the following variables as keyword args: x, y. From version 0.12, the only valid positional argument will be `data`, and passing other arguments without an explicit keyword will result in an error or misinterpretation.\n",
      "  warnings.warn(\n"
     ]
    },
    {
     "data": {
      "image/png": "[encoded data removed]",
      "text/plain": [
       "<Figure size 432x288 with 1 Axes>"
      ]
     },
     "metadata": {
      "needs_background": "light"
     },
     "output_type": "display_data"
    }
   ],
   "source": [
    "sns.barplot('holiday','cnt',data=df1)\n",
    "plt.show()"
   ]
  },
  {
   "cell_type": "code",
   "execution_count": 756,
   "id": "d9d253df",
   "metadata": {},
   "outputs": [
    {
     "name": "stderr",
     "output_type": "stream",
     "text": [
      "C:\\Users\\gandhig\\Anaconda3\\lib\\site-packages\\seaborn\\_decorators.py:36: FutureWarning: Pass the following variables as keyword args: x, y. From version 0.12, the only valid positional argument will be `data`, and passing other arguments without an explicit keyword will result in an error or misinterpretation.\n",
      "  warnings.warn(\n"
     ]
    },
    {
     "data": {
      "image/png": "[encoded data removed]",
      "text/plain": [
       "<Figure size 432x288 with 1 Axes>"
      ]
     },
     "metadata": {
      "needs_background": "light"
     },
     "output_type": "display_data"
    }
   ],
   "source": [
    "\n",
    "sns.barplot('weekday','cnt',data=df1)\n",
    "plt.show()\n",
    "#there is almost distribution/count of bikes on all the days : interestingly there is not a patter neither on weekend nor on weekdays"
   ]
  },
  {
   "cell_type": "code",
   "execution_count": 757,
   "id": "f84e0f3b",
   "metadata": {},
   "outputs": [
    {
     "data": {
      "text/plain": [
       "<matplotlib.collections.PathCollection at 0x231398e3910>"
      ]
     },
     "execution_count": 757,
     "metadata": {},
     "output_type": "execute_result"
    },
    {
     "data": {
      "image/png": "[encoded data removed]",
      "text/plain": [
       "<Figure size 432x288 with 1 Axes>"
      ]
     },
     "metadata": {
      "needs_background": "light"
     },
     "output_type": "display_data"
    }
   ],
   "source": [
    "plt.scatter('temp','cnt',data=df1)\n",
    "#bike distribution/count seems to be increasing with increasing temp"
   ]
  },
  {
   "cell_type": "code",
   "execution_count": 758,
   "id": "3e8cf52e",
   "metadata": {},
   "outputs": [
    {
     "data": {
      "text/plain": [
       "<matplotlib.collections.PathCollection at 0x2313aed18b0>"
      ]
     },
     "execution_count": 758,
     "metadata": {},
     "output_type": "execute_result"
    },
    {
     "data": {
      "image/png": "[encoded data removed]",
      "text/plain": [
       "<Figure size 432x288 with 1 Axes>"
      ]
     },
     "metadata": {
      "needs_background": "light"
     },
     "output_type": "display_data"
    }
   ],
   "source": [
    "plt.scatter('hum','cnt',data=df1)\n",
    "#bike distribution/count seems to be increasing with increasing hum"
   ]
  },
  {
   "cell_type": "code",
   "execution_count": 759,
   "id": "f44c27c5",
   "metadata": {},
   "outputs": [
    {
     "data": {
      "text/plain": [
       "<matplotlib.collections.PathCollection at 0x231396660d0>"
      ]
     },
     "execution_count": 759,
     "metadata": {},
     "output_type": "execute_result"
    },
    {
     "data": {
      "image/png": "[encoded data removed]",
      "text/plain": [
       "<Figure size 432x288 with 1 Axes>"
      ]
     },
     "metadata": {
      "needs_background": "light"
     },
     "output_type": "display_data"
    }
   ],
   "source": [
    "plt.scatter('windspeed','cnt',data=df1)"
   ]
  },
  {
   "cell_type": "code",
   "execution_count": 760,
   "id": "cd77f3de",
   "metadata": {},
   "outputs": [
    {
     "name": "stderr",
     "output_type": "stream",
     "text": [
      "C:\\Users\\gandhig\\Anaconda3\\lib\\site-packages\\seaborn\\distributions.py:2619: FutureWarning: `distplot` is a deprecated function and will be removed in a future version. Please adapt your code to use either `displot` (a figure-level function with similar flexibility) or `histplot` (an axes-level function for histograms).\n",
      "  warnings.warn(msg, FutureWarning)\n"
     ]
    },
    {
     "data": {
      "text/plain": [
       "<AxesSubplot:xlabel='cnt', ylabel='Density'>"
      ]
     },
     "execution_count": 760,
     "metadata": {},
     "output_type": "execute_result"
    },
    {
     "data": {
      "image/png": "[encoded data removed]",
      "text/plain": [
       "<Figure size 432x288 with 1 Axes>"
      ]
     },
     "metadata": {
      "needs_background": "light"
     },
     "output_type": "display_data"
    }
   ],
   "source": [
    "sns.distplot(df1['cnt'])"
   ]
  },
  {
   "cell_type": "code",
   "execution_count": 761,
   "id": "0712b373",
   "metadata": {},
   "outputs": [],
   "source": [
    "#CREATING DUMMY VARIABLES\n",
    "#Dealing with categorical variables \n",
    "\n",
    "months=pd.get_dummies(df1.mnth,drop_first=True)\n",
    "weekdays=pd.get_dummies(df1.weekday,drop_first=True)\n",
    "weather_sit=pd.get_dummies(df1.weathersit,drop_first=True)\n",
    "seasons=pd.get_dummies(df1.season,drop_first=True)\n"
   ]
  },
  {
   "cell_type": "code",
   "execution_count": 762,
   "id": "17dd5d20",
   "metadata": {},
   "outputs": [
    {
     "data": {
      "text/plain": [
       "(730, 33)"
      ]
     },
     "execution_count": 762,
     "metadata": {},
     "output_type": "execute_result"
    }
   ],
   "source": [
    "# adding the new column to the exisitng df1\n",
    "\n",
    "df1=pd.concat([months,weekdays,weather_sit,seasons,df1],axis=1)\n",
    "df1.head()\n",
    "df1.shape"
   ]
  },
  {
   "cell_type": "code",
   "execution_count": 763,
   "id": "55422cb7",
   "metadata": {},
   "outputs": [
    {
     "data": {
      "text/html": [
       "<div>\n",
       "<style scoped>\n",
       "    .dataframe tbody tr th:only-of-type {\n",
       "        vertical-align: middle;\n",
       "    }\n",
       "\n",
       "    .dataframe tbody tr th {\n",
       "        vertical-align: top;\n",
       "    }\n",
       "\n",
       "    .dataframe thead th {\n",
       "        text-align: right;\n",
       "    }\n",
       "</style>\n",
       "<table border=\"1\" class=\"dataframe\">\n",
       "  <thead>\n",
       "    <tr style=\"text-align: right;\">\n",
       "      <th></th>\n",
       "      <th>Aug</th>\n",
       "      <th>Dec</th>\n",
       "      <th>Feb</th>\n",
       "      <th>Jan</th>\n",
       "      <th>July</th>\n",
       "      <th>June</th>\n",
       "      <th>Mar</th>\n",
       "      <th>May</th>\n",
       "      <th>Nov</th>\n",
       "      <th>Oct</th>\n",
       "      <th>...</th>\n",
       "      <th>Spring</th>\n",
       "      <th>Summer</th>\n",
       "      <th>Winter</th>\n",
       "      <th>yr</th>\n",
       "      <th>holiday</th>\n",
       "      <th>workingday</th>\n",
       "      <th>temp</th>\n",
       "      <th>hum</th>\n",
       "      <th>windspeed</th>\n",
       "      <th>cnt</th>\n",
       "    </tr>\n",
       "  </thead>\n",
       "  <tbody>\n",
       "    <tr>\n",
       "      <th>0</th>\n",
       "      <td>0</td>\n",
       "      <td>0</td>\n",
       "      <td>0</td>\n",
       "      <td>1</td>\n",
       "      <td>0</td>\n",
       "      <td>0</td>\n",
       "      <td>0</td>\n",
       "      <td>0</td>\n",
       "      <td>0</td>\n",
       "      <td>0</td>\n",
       "      <td>...</td>\n",
       "      <td>1</td>\n",
       "      <td>0</td>\n",
       "      <td>0</td>\n",
       "      <td>0</td>\n",
       "      <td>0</td>\n",
       "      <td>0</td>\n",
       "      <td>14.110847</td>\n",
       "      <td>80.5833</td>\n",
       "      <td>10.749882</td>\n",
       "      <td>985</td>\n",
       "    </tr>\n",
       "    <tr>\n",
       "      <th>1</th>\n",
       "      <td>0</td>\n",
       "      <td>0</td>\n",
       "      <td>0</td>\n",
       "      <td>1</td>\n",
       "      <td>0</td>\n",
       "      <td>0</td>\n",
       "      <td>0</td>\n",
       "      <td>0</td>\n",
       "      <td>0</td>\n",
       "      <td>0</td>\n",
       "      <td>...</td>\n",
       "      <td>1</td>\n",
       "      <td>0</td>\n",
       "      <td>0</td>\n",
       "      <td>0</td>\n",
       "      <td>0</td>\n",
       "      <td>0</td>\n",
       "      <td>14.902598</td>\n",
       "      <td>69.6087</td>\n",
       "      <td>16.652113</td>\n",
       "      <td>801</td>\n",
       "    </tr>\n",
       "    <tr>\n",
       "      <th>2</th>\n",
       "      <td>0</td>\n",
       "      <td>0</td>\n",
       "      <td>0</td>\n",
       "      <td>1</td>\n",
       "      <td>0</td>\n",
       "      <td>0</td>\n",
       "      <td>0</td>\n",
       "      <td>0</td>\n",
       "      <td>0</td>\n",
       "      <td>0</td>\n",
       "      <td>...</td>\n",
       "      <td>1</td>\n",
       "      <td>0</td>\n",
       "      <td>0</td>\n",
       "      <td>0</td>\n",
       "      <td>0</td>\n",
       "      <td>1</td>\n",
       "      <td>8.050924</td>\n",
       "      <td>43.7273</td>\n",
       "      <td>16.636703</td>\n",
       "      <td>1349</td>\n",
       "    </tr>\n",
       "    <tr>\n",
       "      <th>3</th>\n",
       "      <td>0</td>\n",
       "      <td>0</td>\n",
       "      <td>0</td>\n",
       "      <td>1</td>\n",
       "      <td>0</td>\n",
       "      <td>0</td>\n",
       "      <td>0</td>\n",
       "      <td>0</td>\n",
       "      <td>0</td>\n",
       "      <td>0</td>\n",
       "      <td>...</td>\n",
       "      <td>1</td>\n",
       "      <td>0</td>\n",
       "      <td>0</td>\n",
       "      <td>0</td>\n",
       "      <td>0</td>\n",
       "      <td>1</td>\n",
       "      <td>8.200000</td>\n",
       "      <td>59.0435</td>\n",
       "      <td>10.739832</td>\n",
       "      <td>1562</td>\n",
       "    </tr>\n",
       "    <tr>\n",
       "      <th>4</th>\n",
       "      <td>0</td>\n",
       "      <td>0</td>\n",
       "      <td>0</td>\n",
       "      <td>1</td>\n",
       "      <td>0</td>\n",
       "      <td>0</td>\n",
       "      <td>0</td>\n",
       "      <td>0</td>\n",
       "      <td>0</td>\n",
       "      <td>0</td>\n",
       "      <td>...</td>\n",
       "      <td>1</td>\n",
       "      <td>0</td>\n",
       "      <td>0</td>\n",
       "      <td>0</td>\n",
       "      <td>0</td>\n",
       "      <td>1</td>\n",
       "      <td>9.305237</td>\n",
       "      <td>43.6957</td>\n",
       "      <td>12.522300</td>\n",
       "      <td>1600</td>\n",
       "    </tr>\n",
       "  </tbody>\n",
       "</table>\n",
       "<p>5 rows × 29 columns</p>\n",
       "</div>"
      ],
      "text/plain": [
       "   Aug  Dec  Feb  Jan  July  June  Mar  May  Nov  Oct  ...  Spring  Summer  \\\n",
       "0    0    0    0    1     0     0    0    0    0    0  ...       1       0   \n",
       "1    0    0    0    1     0     0    0    0    0    0  ...       1       0   \n",
       "2    0    0    0    1     0     0    0    0    0    0  ...       1       0   \n",
       "3    0    0    0    1     0     0    0    0    0    0  ...       1       0   \n",
       "4    0    0    0    1     0     0    0    0    0    0  ...       1       0   \n",
       "\n",
       "   Winter  yr  holiday  workingday       temp      hum  windspeed   cnt  \n",
       "0       0   0        0           0  14.110847  80.5833  10.749882   985  \n",
       "1       0   0        0           0  14.902598  69.6087  16.652113   801  \n",
       "2       0   0        0           1   8.050924  43.7273  16.636703  1349  \n",
       "3       0   0        0           1   8.200000  59.0435  10.739832  1562  \n",
       "4       0   0        0           1   9.305237  43.6957  12.522300  1600  \n",
       "\n",
       "[5 rows x 29 columns]"
      ]
     },
     "execution_count": 763,
     "metadata": {},
     "output_type": "execute_result"
    }
   ],
   "source": [
    "#dropping the old columns for which we have created dummy variables \n",
    "df2 = df1.drop(['season','mnth','weekday','weathersit'], axis = 1)\n",
    "df2.head()"
   ]
  },
  {
   "cell_type": "code",
   "execution_count": 764,
   "id": "b47bd1be",
   "metadata": {},
   "outputs": [
    {
     "data": {
      "text/plain": [
       "(730, 29)"
      ]
     },
     "execution_count": 764,
     "metadata": {},
     "output_type": "execute_result"
    }
   ],
   "source": [
    "df2.shape"
   ]
  },
  {
   "cell_type": "code",
   "execution_count": 765,
   "id": "a9d75e31",
   "metadata": {},
   "outputs": [],
   "source": [
    "#Splitting the data into train and test set\n",
    "from sklearn.model_selection import train_test_split\n",
    "\n",
    "df2_train, df2_test = train_test_split(df2, train_size = 0.7, test_size = 0.3, random_state = 100)"
   ]
  },
  {
   "cell_type": "code",
   "execution_count": 766,
   "id": "69de9798",
   "metadata": {},
   "outputs": [
    {
     "name": "stdout",
     "output_type": "stream",
     "text": [
      "(510, 29)\n",
      "(219, 29)\n"
     ]
    }
   ],
   "source": [
    "print(df2_train.shape)\n",
    "print(df2_test.shape)"
   ]
  },
  {
   "cell_type": "code",
   "execution_count": 767,
   "id": "57255a2f",
   "metadata": {},
   "outputs": [],
   "source": [
    "#Min Max scaling \n",
    "#import the library\n",
    "from sklearn.preprocessing import MinMaxScaler"
   ]
  },
  {
   "cell_type": "code",
   "execution_count": 768,
   "id": "e4e59f12",
   "metadata": {},
   "outputs": [
    {
     "name": "stderr",
     "output_type": "stream",
     "text": [
      "C:\\Users\\gandhig\\Anaconda3\\lib\\site-packages\\pandas\\core\\frame.py:3678: SettingWithCopyWarning: \n",
      "A value is trying to be set on a copy of a slice from a DataFrame.\n",
      "Try using .loc[row_indexer,col_indexer] = value instead\n",
      "\n",
      "See the caveats in the documentation: https://pandas.pydata.org/pandas-docs/stable/user_guide/indexing.html#returning-a-view-versus-a-copy\n",
      "  self[col] = igetitem(value, i)\n"
     ]
    },
    {
     "data": {
      "text/html": [
       "<div>\n",
       "<style scoped>\n",
       "    .dataframe tbody tr th:only-of-type {\n",
       "        vertical-align: middle;\n",
       "    }\n",
       "\n",
       "    .dataframe tbody tr th {\n",
       "        vertical-align: top;\n",
       "    }\n",
       "\n",
       "    .dataframe thead th {\n",
       "        text-align: right;\n",
       "    }\n",
       "</style>\n",
       "<table border=\"1\" class=\"dataframe\">\n",
       "  <thead>\n",
       "    <tr style=\"text-align: right;\">\n",
       "      <th></th>\n",
       "      <th>Aug</th>\n",
       "      <th>Dec</th>\n",
       "      <th>Feb</th>\n",
       "      <th>Jan</th>\n",
       "      <th>July</th>\n",
       "      <th>June</th>\n",
       "      <th>Mar</th>\n",
       "      <th>May</th>\n",
       "      <th>Nov</th>\n",
       "      <th>Oct</th>\n",
       "      <th>...</th>\n",
       "      <th>Spring</th>\n",
       "      <th>Summer</th>\n",
       "      <th>Winter</th>\n",
       "      <th>yr</th>\n",
       "      <th>holiday</th>\n",
       "      <th>workingday</th>\n",
       "      <th>temp</th>\n",
       "      <th>hum</th>\n",
       "      <th>windspeed</th>\n",
       "      <th>cnt</th>\n",
       "    </tr>\n",
       "  </thead>\n",
       "  <tbody>\n",
       "    <tr>\n",
       "      <th>653</th>\n",
       "      <td>0</td>\n",
       "      <td>0</td>\n",
       "      <td>0</td>\n",
       "      <td>0</td>\n",
       "      <td>0</td>\n",
       "      <td>0</td>\n",
       "      <td>0</td>\n",
       "      <td>0</td>\n",
       "      <td>0</td>\n",
       "      <td>1</td>\n",
       "      <td>...</td>\n",
       "      <td>0</td>\n",
       "      <td>0</td>\n",
       "      <td>1</td>\n",
       "      <td>1</td>\n",
       "      <td>0</td>\n",
       "      <td>1</td>\n",
       "      <td>0.509887</td>\n",
       "      <td>0.575354</td>\n",
       "      <td>0.300794</td>\n",
       "      <td>0.864243</td>\n",
       "    </tr>\n",
       "    <tr>\n",
       "      <th>576</th>\n",
       "      <td>0</td>\n",
       "      <td>0</td>\n",
       "      <td>0</td>\n",
       "      <td>0</td>\n",
       "      <td>1</td>\n",
       "      <td>0</td>\n",
       "      <td>0</td>\n",
       "      <td>0</td>\n",
       "      <td>0</td>\n",
       "      <td>0</td>\n",
       "      <td>...</td>\n",
       "      <td>0</td>\n",
       "      <td>0</td>\n",
       "      <td>0</td>\n",
       "      <td>1</td>\n",
       "      <td>0</td>\n",
       "      <td>1</td>\n",
       "      <td>0.815169</td>\n",
       "      <td>0.725633</td>\n",
       "      <td>0.264686</td>\n",
       "      <td>0.827658</td>\n",
       "    </tr>\n",
       "    <tr>\n",
       "      <th>426</th>\n",
       "      <td>0</td>\n",
       "      <td>0</td>\n",
       "      <td>0</td>\n",
       "      <td>0</td>\n",
       "      <td>0</td>\n",
       "      <td>0</td>\n",
       "      <td>1</td>\n",
       "      <td>0</td>\n",
       "      <td>0</td>\n",
       "      <td>0</td>\n",
       "      <td>...</td>\n",
       "      <td>1</td>\n",
       "      <td>0</td>\n",
       "      <td>0</td>\n",
       "      <td>1</td>\n",
       "      <td>0</td>\n",
       "      <td>0</td>\n",
       "      <td>0.442393</td>\n",
       "      <td>0.640189</td>\n",
       "      <td>0.255342</td>\n",
       "      <td>0.465255</td>\n",
       "    </tr>\n",
       "    <tr>\n",
       "      <th>728</th>\n",
       "      <td>0</td>\n",
       "      <td>1</td>\n",
       "      <td>0</td>\n",
       "      <td>0</td>\n",
       "      <td>0</td>\n",
       "      <td>0</td>\n",
       "      <td>0</td>\n",
       "      <td>0</td>\n",
       "      <td>0</td>\n",
       "      <td>0</td>\n",
       "      <td>...</td>\n",
       "      <td>1</td>\n",
       "      <td>0</td>\n",
       "      <td>0</td>\n",
       "      <td>1</td>\n",
       "      <td>0</td>\n",
       "      <td>0</td>\n",
       "      <td>0.245101</td>\n",
       "      <td>0.498067</td>\n",
       "      <td>0.663106</td>\n",
       "      <td>0.204096</td>\n",
       "    </tr>\n",
       "    <tr>\n",
       "      <th>482</th>\n",
       "      <td>0</td>\n",
       "      <td>0</td>\n",
       "      <td>0</td>\n",
       "      <td>0</td>\n",
       "      <td>0</td>\n",
       "      <td>0</td>\n",
       "      <td>0</td>\n",
       "      <td>0</td>\n",
       "      <td>0</td>\n",
       "      <td>0</td>\n",
       "      <td>...</td>\n",
       "      <td>0</td>\n",
       "      <td>1</td>\n",
       "      <td>0</td>\n",
       "      <td>1</td>\n",
       "      <td>0</td>\n",
       "      <td>0</td>\n",
       "      <td>0.395666</td>\n",
       "      <td>0.504508</td>\n",
       "      <td>0.188475</td>\n",
       "      <td>0.482973</td>\n",
       "    </tr>\n",
       "  </tbody>\n",
       "</table>\n",
       "<p>5 rows × 29 columns</p>\n",
       "</div>"
      ],
      "text/plain": [
       "     Aug  Dec  Feb  Jan  July  June  Mar  May  Nov  Oct  ...  Spring  Summer  \\\n",
       "653    0    0    0    0     0     0    0    0    0    1  ...       0       0   \n",
       "576    0    0    0    0     1     0    0    0    0    0  ...       0       0   \n",
       "426    0    0    0    0     0     0    1    0    0    0  ...       1       0   \n",
       "728    0    1    0    0     0     0    0    0    0    0  ...       1       0   \n",
       "482    0    0    0    0     0     0    0    0    0    0  ...       0       1   \n",
       "\n",
       "     Winter  yr  holiday  workingday      temp       hum  windspeed       cnt  \n",
       "653       1   1        0           1  0.509887  0.575354   0.300794  0.864243  \n",
       "576       0   1        0           1  0.815169  0.725633   0.264686  0.827658  \n",
       "426       0   1        0           0  0.442393  0.640189   0.255342  0.465255  \n",
       "728       0   1        0           0  0.245101  0.498067   0.663106  0.204096  \n",
       "482       0   1        0           0  0.395666  0.504508   0.188475  0.482973  \n",
       "\n",
       "[5 rows x 29 columns]"
      ]
     },
     "execution_count": 768,
     "metadata": {},
     "output_type": "execute_result"
    }
   ],
   "source": [
    "#Instantiate an object\n",
    "scaler = MinMaxScaler()\n",
    "\n",
    "#Create a list of numeric variables\n",
    "num_vars=['temp','hum','windspeed','cnt']\n",
    "\n",
    "#Fit on data\n",
    "df2_train[num_vars] = scaler.fit_transform(df2_train[num_vars])\n",
    "df2_train.head()"
   ]
  },
  {
   "cell_type": "code",
   "execution_count": 769,
   "id": "416f27be",
   "metadata": {},
   "outputs": [
    {
     "data": {
      "text/html": [
       "<div>\n",
       "<style scoped>\n",
       "    .dataframe tbody tr th:only-of-type {\n",
       "        vertical-align: middle;\n",
       "    }\n",
       "\n",
       "    .dataframe tbody tr th {\n",
       "        vertical-align: top;\n",
       "    }\n",
       "\n",
       "    .dataframe thead th {\n",
       "        text-align: right;\n",
       "    }\n",
       "</style>\n",
       "<table border=\"1\" class=\"dataframe\">\n",
       "  <thead>\n",
       "    <tr style=\"text-align: right;\">\n",
       "      <th></th>\n",
       "      <th>Aug</th>\n",
       "      <th>Dec</th>\n",
       "      <th>Feb</th>\n",
       "      <th>Jan</th>\n",
       "      <th>July</th>\n",
       "      <th>June</th>\n",
       "      <th>Mar</th>\n",
       "      <th>May</th>\n",
       "      <th>Nov</th>\n",
       "      <th>Oct</th>\n",
       "      <th>...</th>\n",
       "      <th>Spring</th>\n",
       "      <th>Summer</th>\n",
       "      <th>Winter</th>\n",
       "      <th>yr</th>\n",
       "      <th>holiday</th>\n",
       "      <th>workingday</th>\n",
       "      <th>temp</th>\n",
       "      <th>hum</th>\n",
       "      <th>windspeed</th>\n",
       "      <th>cnt</th>\n",
       "    </tr>\n",
       "  </thead>\n",
       "  <tbody>\n",
       "    <tr>\n",
       "      <th>count</th>\n",
       "      <td>510.000000</td>\n",
       "      <td>510.000000</td>\n",
       "      <td>510.000000</td>\n",
       "      <td>510.000000</td>\n",
       "      <td>510.000000</td>\n",
       "      <td>510.000000</td>\n",
       "      <td>510.000000</td>\n",
       "      <td>510.000000</td>\n",
       "      <td>510.000000</td>\n",
       "      <td>510.000000</td>\n",
       "      <td>...</td>\n",
       "      <td>510.000000</td>\n",
       "      <td>510.000000</td>\n",
       "      <td>510.00000</td>\n",
       "      <td>510.000000</td>\n",
       "      <td>510.000000</td>\n",
       "      <td>510.000000</td>\n",
       "      <td>510.000000</td>\n",
       "      <td>510.000000</td>\n",
       "      <td>510.000000</td>\n",
       "      <td>510.000000</td>\n",
       "    </tr>\n",
       "    <tr>\n",
       "      <th>mean</th>\n",
       "      <td>0.096078</td>\n",
       "      <td>0.084314</td>\n",
       "      <td>0.066667</td>\n",
       "      <td>0.088235</td>\n",
       "      <td>0.076471</td>\n",
       "      <td>0.074510</td>\n",
       "      <td>0.098039</td>\n",
       "      <td>0.084314</td>\n",
       "      <td>0.086275</td>\n",
       "      <td>0.086275</td>\n",
       "      <td>...</td>\n",
       "      <td>0.243137</td>\n",
       "      <td>0.245098</td>\n",
       "      <td>0.24902</td>\n",
       "      <td>0.507843</td>\n",
       "      <td>0.025490</td>\n",
       "      <td>0.676471</td>\n",
       "      <td>0.537262</td>\n",
       "      <td>0.650369</td>\n",
       "      <td>0.320768</td>\n",
       "      <td>0.513620</td>\n",
       "    </tr>\n",
       "    <tr>\n",
       "      <th>std</th>\n",
       "      <td>0.294988</td>\n",
       "      <td>0.278131</td>\n",
       "      <td>0.249689</td>\n",
       "      <td>0.283915</td>\n",
       "      <td>0.266010</td>\n",
       "      <td>0.262857</td>\n",
       "      <td>0.297660</td>\n",
       "      <td>0.278131</td>\n",
       "      <td>0.281045</td>\n",
       "      <td>0.281045</td>\n",
       "      <td>...</td>\n",
       "      <td>0.429398</td>\n",
       "      <td>0.430568</td>\n",
       "      <td>0.43287</td>\n",
       "      <td>0.500429</td>\n",
       "      <td>0.157763</td>\n",
       "      <td>0.468282</td>\n",
       "      <td>0.225844</td>\n",
       "      <td>0.145882</td>\n",
       "      <td>0.169797</td>\n",
       "      <td>0.224593</td>\n",
       "    </tr>\n",
       "    <tr>\n",
       "      <th>min</th>\n",
       "      <td>0.000000</td>\n",
       "      <td>0.000000</td>\n",
       "      <td>0.000000</td>\n",
       "      <td>0.000000</td>\n",
       "      <td>0.000000</td>\n",
       "      <td>0.000000</td>\n",
       "      <td>0.000000</td>\n",
       "      <td>0.000000</td>\n",
       "      <td>0.000000</td>\n",
       "      <td>0.000000</td>\n",
       "      <td>...</td>\n",
       "      <td>0.000000</td>\n",
       "      <td>0.000000</td>\n",
       "      <td>0.00000</td>\n",
       "      <td>0.000000</td>\n",
       "      <td>0.000000</td>\n",
       "      <td>0.000000</td>\n",
       "      <td>0.000000</td>\n",
       "      <td>0.000000</td>\n",
       "      <td>0.000000</td>\n",
       "      <td>0.000000</td>\n",
       "    </tr>\n",
       "    <tr>\n",
       "      <th>25%</th>\n",
       "      <td>0.000000</td>\n",
       "      <td>0.000000</td>\n",
       "      <td>0.000000</td>\n",
       "      <td>0.000000</td>\n",
       "      <td>0.000000</td>\n",
       "      <td>0.000000</td>\n",
       "      <td>0.000000</td>\n",
       "      <td>0.000000</td>\n",
       "      <td>0.000000</td>\n",
       "      <td>0.000000</td>\n",
       "      <td>...</td>\n",
       "      <td>0.000000</td>\n",
       "      <td>0.000000</td>\n",
       "      <td>0.00000</td>\n",
       "      <td>0.000000</td>\n",
       "      <td>0.000000</td>\n",
       "      <td>0.000000</td>\n",
       "      <td>0.339853</td>\n",
       "      <td>0.538643</td>\n",
       "      <td>0.199179</td>\n",
       "      <td>0.356420</td>\n",
       "    </tr>\n",
       "    <tr>\n",
       "      <th>50%</th>\n",
       "      <td>0.000000</td>\n",
       "      <td>0.000000</td>\n",
       "      <td>0.000000</td>\n",
       "      <td>0.000000</td>\n",
       "      <td>0.000000</td>\n",
       "      <td>0.000000</td>\n",
       "      <td>0.000000</td>\n",
       "      <td>0.000000</td>\n",
       "      <td>0.000000</td>\n",
       "      <td>0.000000</td>\n",
       "      <td>...</td>\n",
       "      <td>0.000000</td>\n",
       "      <td>0.000000</td>\n",
       "      <td>0.00000</td>\n",
       "      <td>1.000000</td>\n",
       "      <td>0.000000</td>\n",
       "      <td>1.000000</td>\n",
       "      <td>0.540519</td>\n",
       "      <td>0.653714</td>\n",
       "      <td>0.296763</td>\n",
       "      <td>0.518638</td>\n",
       "    </tr>\n",
       "    <tr>\n",
       "      <th>75%</th>\n",
       "      <td>0.000000</td>\n",
       "      <td>0.000000</td>\n",
       "      <td>0.000000</td>\n",
       "      <td>0.000000</td>\n",
       "      <td>0.000000</td>\n",
       "      <td>0.000000</td>\n",
       "      <td>0.000000</td>\n",
       "      <td>0.000000</td>\n",
       "      <td>0.000000</td>\n",
       "      <td>0.000000</td>\n",
       "      <td>...</td>\n",
       "      <td>0.000000</td>\n",
       "      <td>0.000000</td>\n",
       "      <td>0.00000</td>\n",
       "      <td>1.000000</td>\n",
       "      <td>0.000000</td>\n",
       "      <td>1.000000</td>\n",
       "      <td>0.735215</td>\n",
       "      <td>0.754830</td>\n",
       "      <td>0.414447</td>\n",
       "      <td>0.684710</td>\n",
       "    </tr>\n",
       "    <tr>\n",
       "      <th>max</th>\n",
       "      <td>1.000000</td>\n",
       "      <td>1.000000</td>\n",
       "      <td>1.000000</td>\n",
       "      <td>1.000000</td>\n",
       "      <td>1.000000</td>\n",
       "      <td>1.000000</td>\n",
       "      <td>1.000000</td>\n",
       "      <td>1.000000</td>\n",
       "      <td>1.000000</td>\n",
       "      <td>1.000000</td>\n",
       "      <td>...</td>\n",
       "      <td>1.000000</td>\n",
       "      <td>1.000000</td>\n",
       "      <td>1.00000</td>\n",
       "      <td>1.000000</td>\n",
       "      <td>1.000000</td>\n",
       "      <td>1.000000</td>\n",
       "      <td>1.000000</td>\n",
       "      <td>1.000000</td>\n",
       "      <td>1.000000</td>\n",
       "      <td>1.000000</td>\n",
       "    </tr>\n",
       "  </tbody>\n",
       "</table>\n",
       "<p>8 rows × 29 columns</p>\n",
       "</div>"
      ],
      "text/plain": [
       "              Aug         Dec         Feb         Jan        July        June  \\\n",
       "count  510.000000  510.000000  510.000000  510.000000  510.000000  510.000000   \n",
       "mean     0.096078    0.084314    0.066667    0.088235    0.076471    0.074510   \n",
       "std      0.294988    0.278131    0.249689    0.283915    0.266010    0.262857   \n",
       "min      0.000000    0.000000    0.000000    0.000000    0.000000    0.000000   \n",
       "25%      0.000000    0.000000    0.000000    0.000000    0.000000    0.000000   \n",
       "50%      0.000000    0.000000    0.000000    0.000000    0.000000    0.000000   \n",
       "75%      0.000000    0.000000    0.000000    0.000000    0.000000    0.000000   \n",
       "max      1.000000    1.000000    1.000000    1.000000    1.000000    1.000000   \n",
       "\n",
       "              Mar         May         Nov         Oct  ...      Spring  \\\n",
       "count  510.000000  510.000000  510.000000  510.000000  ...  510.000000   \n",
       "mean     0.098039    0.084314    0.086275    0.086275  ...    0.243137   \n",
       "std      0.297660    0.278131    0.281045    0.281045  ...    0.429398   \n",
       "min      0.000000    0.000000    0.000000    0.000000  ...    0.000000   \n",
       "25%      0.000000    0.000000    0.000000    0.000000  ...    0.000000   \n",
       "50%      0.000000    0.000000    0.000000    0.000000  ...    0.000000   \n",
       "75%      0.000000    0.000000    0.000000    0.000000  ...    0.000000   \n",
       "max      1.000000    1.000000    1.000000    1.000000  ...    1.000000   \n",
       "\n",
       "           Summer     Winter          yr     holiday  workingday        temp  \\\n",
       "count  510.000000  510.00000  510.000000  510.000000  510.000000  510.000000   \n",
       "mean     0.245098    0.24902    0.507843    0.025490    0.676471    0.537262   \n",
       "std      0.430568    0.43287    0.500429    0.157763    0.468282    0.225844   \n",
       "min      0.000000    0.00000    0.000000    0.000000    0.000000    0.000000   \n",
       "25%      0.000000    0.00000    0.000000    0.000000    0.000000    0.339853   \n",
       "50%      0.000000    0.00000    1.000000    0.000000    1.000000    0.540519   \n",
       "75%      0.000000    0.00000    1.000000    0.000000    1.000000    0.735215   \n",
       "max      1.000000    1.00000    1.000000    1.000000    1.000000    1.000000   \n",
       "\n",
       "              hum   windspeed         cnt  \n",
       "count  510.000000  510.000000  510.000000  \n",
       "mean     0.650369    0.320768    0.513620  \n",
       "std      0.145882    0.169797    0.224593  \n",
       "min      0.000000    0.000000    0.000000  \n",
       "25%      0.538643    0.199179    0.356420  \n",
       "50%      0.653714    0.296763    0.518638  \n",
       "75%      0.754830    0.414447    0.684710  \n",
       "max      1.000000    1.000000    1.000000  \n",
       "\n",
       "[8 rows x 29 columns]"
      ]
     },
     "execution_count": 769,
     "metadata": {},
     "output_type": "execute_result"
    }
   ],
   "source": [
    "df2_train.describe()"
   ]
  },
  {
   "cell_type": "code",
   "execution_count": 770,
   "id": "237d2ce7",
   "metadata": {},
   "outputs": [],
   "source": [
    "#Dividing into X and Y sets for the model building\n",
    "y_train = df2_train.pop('cnt')\n",
    "X_train = df2_train"
   ]
  },
  {
   "cell_type": "code",
   "execution_count": 771,
   "id": "1c6c08d5",
   "metadata": {},
   "outputs": [
    {
     "data": {
      "text/html": [
       "<div>\n",
       "<style scoped>\n",
       "    .dataframe tbody tr th:only-of-type {\n",
       "        vertical-align: middle;\n",
       "    }\n",
       "\n",
       "    .dataframe tbody tr th {\n",
       "        vertical-align: top;\n",
       "    }\n",
       "\n",
       "    .dataframe thead th {\n",
       "        text-align: right;\n",
       "    }\n",
       "</style>\n",
       "<table border=\"1\" class=\"dataframe\">\n",
       "  <thead>\n",
       "    <tr style=\"text-align: right;\">\n",
       "      <th></th>\n",
       "      <th>Aug</th>\n",
       "      <th>Dec</th>\n",
       "      <th>Feb</th>\n",
       "      <th>Jan</th>\n",
       "      <th>July</th>\n",
       "      <th>June</th>\n",
       "      <th>Mar</th>\n",
       "      <th>May</th>\n",
       "      <th>Nov</th>\n",
       "      <th>Oct</th>\n",
       "      <th>...</th>\n",
       "      <th>Mist_Cloudy</th>\n",
       "      <th>Spring</th>\n",
       "      <th>Summer</th>\n",
       "      <th>Winter</th>\n",
       "      <th>yr</th>\n",
       "      <th>holiday</th>\n",
       "      <th>workingday</th>\n",
       "      <th>temp</th>\n",
       "      <th>hum</th>\n",
       "      <th>windspeed</th>\n",
       "    </tr>\n",
       "  </thead>\n",
       "  <tbody>\n",
       "    <tr>\n",
       "      <th>653</th>\n",
       "      <td>0</td>\n",
       "      <td>0</td>\n",
       "      <td>0</td>\n",
       "      <td>0</td>\n",
       "      <td>0</td>\n",
       "      <td>0</td>\n",
       "      <td>0</td>\n",
       "      <td>0</td>\n",
       "      <td>0</td>\n",
       "      <td>1</td>\n",
       "      <td>...</td>\n",
       "      <td>0</td>\n",
       "      <td>0</td>\n",
       "      <td>0</td>\n",
       "      <td>1</td>\n",
       "      <td>1</td>\n",
       "      <td>0</td>\n",
       "      <td>1</td>\n",
       "      <td>0.509887</td>\n",
       "      <td>0.575354</td>\n",
       "      <td>0.300794</td>\n",
       "    </tr>\n",
       "    <tr>\n",
       "      <th>576</th>\n",
       "      <td>0</td>\n",
       "      <td>0</td>\n",
       "      <td>0</td>\n",
       "      <td>0</td>\n",
       "      <td>1</td>\n",
       "      <td>0</td>\n",
       "      <td>0</td>\n",
       "      <td>0</td>\n",
       "      <td>0</td>\n",
       "      <td>0</td>\n",
       "      <td>...</td>\n",
       "      <td>0</td>\n",
       "      <td>0</td>\n",
       "      <td>0</td>\n",
       "      <td>0</td>\n",
       "      <td>1</td>\n",
       "      <td>0</td>\n",
       "      <td>1</td>\n",
       "      <td>0.815169</td>\n",
       "      <td>0.725633</td>\n",
       "      <td>0.264686</td>\n",
       "    </tr>\n",
       "    <tr>\n",
       "      <th>426</th>\n",
       "      <td>0</td>\n",
       "      <td>0</td>\n",
       "      <td>0</td>\n",
       "      <td>0</td>\n",
       "      <td>0</td>\n",
       "      <td>0</td>\n",
       "      <td>1</td>\n",
       "      <td>0</td>\n",
       "      <td>0</td>\n",
       "      <td>0</td>\n",
       "      <td>...</td>\n",
       "      <td>1</td>\n",
       "      <td>1</td>\n",
       "      <td>0</td>\n",
       "      <td>0</td>\n",
       "      <td>1</td>\n",
       "      <td>0</td>\n",
       "      <td>0</td>\n",
       "      <td>0.442393</td>\n",
       "      <td>0.640189</td>\n",
       "      <td>0.255342</td>\n",
       "    </tr>\n",
       "    <tr>\n",
       "      <th>728</th>\n",
       "      <td>0</td>\n",
       "      <td>1</td>\n",
       "      <td>0</td>\n",
       "      <td>0</td>\n",
       "      <td>0</td>\n",
       "      <td>0</td>\n",
       "      <td>0</td>\n",
       "      <td>0</td>\n",
       "      <td>0</td>\n",
       "      <td>0</td>\n",
       "      <td>...</td>\n",
       "      <td>0</td>\n",
       "      <td>1</td>\n",
       "      <td>0</td>\n",
       "      <td>0</td>\n",
       "      <td>1</td>\n",
       "      <td>0</td>\n",
       "      <td>0</td>\n",
       "      <td>0.245101</td>\n",
       "      <td>0.498067</td>\n",
       "      <td>0.663106</td>\n",
       "    </tr>\n",
       "    <tr>\n",
       "      <th>482</th>\n",
       "      <td>0</td>\n",
       "      <td>0</td>\n",
       "      <td>0</td>\n",
       "      <td>0</td>\n",
       "      <td>0</td>\n",
       "      <td>0</td>\n",
       "      <td>0</td>\n",
       "      <td>0</td>\n",
       "      <td>0</td>\n",
       "      <td>0</td>\n",
       "      <td>...</td>\n",
       "      <td>1</td>\n",
       "      <td>0</td>\n",
       "      <td>1</td>\n",
       "      <td>0</td>\n",
       "      <td>1</td>\n",
       "      <td>0</td>\n",
       "      <td>0</td>\n",
       "      <td>0.395666</td>\n",
       "      <td>0.504508</td>\n",
       "      <td>0.188475</td>\n",
       "    </tr>\n",
       "  </tbody>\n",
       "</table>\n",
       "<p>5 rows × 28 columns</p>\n",
       "</div>"
      ],
      "text/plain": [
       "     Aug  Dec  Feb  Jan  July  June  Mar  May  Nov  Oct  ...  Mist_Cloudy  \\\n",
       "653    0    0    0    0     0     0    0    0    0    1  ...            0   \n",
       "576    0    0    0    0     1     0    0    0    0    0  ...            0   \n",
       "426    0    0    0    0     0     0    1    0    0    0  ...            1   \n",
       "728    0    1    0    0     0     0    0    0    0    0  ...            0   \n",
       "482    0    0    0    0     0     0    0    0    0    0  ...            1   \n",
       "\n",
       "     Spring  Summer  Winter  yr  holiday  workingday      temp       hum  \\\n",
       "653       0       0       1   1        0           1  0.509887  0.575354   \n",
       "576       0       0       0   1        0           1  0.815169  0.725633   \n",
       "426       1       0       0   1        0           0  0.442393  0.640189   \n",
       "728       1       0       0   1        0           0  0.245101  0.498067   \n",
       "482       0       1       0   1        0           0  0.395666  0.504508   \n",
       "\n",
       "     windspeed  \n",
       "653   0.300794  \n",
       "576   0.264686  \n",
       "426   0.255342  \n",
       "728   0.663106  \n",
       "482   0.188475  \n",
       "\n",
       "[5 rows x 28 columns]"
      ]
     },
     "execution_count": 771,
     "metadata": {},
     "output_type": "execute_result"
    }
   ],
   "source": [
    "X_train.head()\n"
   ]
  },
  {
   "cell_type": "code",
   "execution_count": 772,
   "id": "7ca691dd",
   "metadata": {},
   "outputs": [
    {
     "data": {
      "text/plain": [
       "653    0.864243\n",
       "576    0.827658\n",
       "426    0.465255\n",
       "728    0.204096\n",
       "482    0.482973\n",
       "Name: cnt, dtype: float64"
      ]
     },
     "execution_count": 772,
     "metadata": {},
     "output_type": "execute_result"
    }
   ],
   "source": [
    "y_train.head()\n"
   ]
  },
  {
   "cell_type": "code",
   "execution_count": 773,
   "id": "e50a651c",
   "metadata": {},
   "outputs": [],
   "source": [
    "#RFE Recursive Feature Elimination\n",
    "# Importing RFE and LinearRegression\n",
    "from sklearn.feature_selection import RFE\n",
    "from sklearn.linear_model import LinearRegression\n"
   ]
  },
  {
   "cell_type": "code",
   "execution_count": 774,
   "id": "7fc035bf",
   "metadata": {},
   "outputs": [
    {
     "name": "stderr",
     "output_type": "stream",
     "text": [
      "C:\\Users\\gandhig\\Anaconda3\\lib\\site-packages\\sklearn\\utils\\validation.py:70: FutureWarning: Pass n_features_to_select=17 as keyword args. From version 1.0 (renaming of 0.25) passing these as positional arguments will result in an error\n",
      "  warnings.warn(f\"Pass {args_msg} as keyword args. From version \"\n"
     ]
    }
   ],
   "source": [
    "# Running RFE with the output number of the variable equal to 15\n",
    "lm = LinearRegression()\n",
    "lm.fit(X_train, y_train)\n",
    "\n",
    "rfe = RFE(lm, 17)             # running RFE\n",
    "rfe = rfe.fit(X_train, y_train)"
   ]
  },
  {
   "cell_type": "code",
   "execution_count": 775,
   "id": "4529d93a",
   "metadata": {},
   "outputs": [
    {
     "data": {
      "text/plain": [
       "[('Aug', False, 4),\n",
       " ('Dec', True, 1),\n",
       " ('Feb', False, 2),\n",
       " ('Jan', True, 1),\n",
       " ('July', True, 1),\n",
       " ('June', False, 12),\n",
       " ('Mar', False, 11),\n",
       " ('May', False, 3),\n",
       " ('Nov', True, 1),\n",
       " ('Oct', False, 6),\n",
       " ('Sep', True, 1),\n",
       " ('Mon', False, 7),\n",
       " ('Sat', True, 1),\n",
       " ('Sun', False, 5),\n",
       " ('Thu', False, 10),\n",
       " ('Tue', False, 8),\n",
       " ('Wed', False, 9),\n",
       " ('Light_Snow_Rain_Thunderstorm', True, 1),\n",
       " ('Mist_Cloudy', True, 1),\n",
       " ('Spring', True, 1),\n",
       " ('Summer', True, 1),\n",
       " ('Winter', True, 1),\n",
       " ('yr', True, 1),\n",
       " ('holiday', True, 1),\n",
       " ('workingday', True, 1),\n",
       " ('temp', True, 1),\n",
       " ('hum', True, 1),\n",
       " ('windspeed', True, 1)]"
      ]
     },
     "execution_count": 775,
     "metadata": {},
     "output_type": "execute_result"
    }
   ],
   "source": [
    "list(zip(X_train.columns,rfe.support_,rfe.ranking_))\n"
   ]
  },
  {
   "cell_type": "code",
   "execution_count": 776,
   "id": "2b01b54f",
   "metadata": {},
   "outputs": [
    {
     "data": {
      "text/plain": [
       "Index(['Dec', 'Jan', 'July', 'Nov', 'Sep', 'Sat',\n",
       "       'Light_Snow_Rain_Thunderstorm', 'Mist_Cloudy', 'Spring', 'Summer',\n",
       "       'Winter', 'yr', 'holiday', 'workingday', 'temp', 'hum', 'windspeed'],\n",
       "      dtype='object')"
      ]
     },
     "execution_count": 776,
     "metadata": {},
     "output_type": "execute_result"
    }
   ],
   "source": [
    "col = X_train.columns[rfe.support_]\n",
    "col"
   ]
  },
  {
   "cell_type": "code",
   "execution_count": 777,
   "id": "b2314565",
   "metadata": {},
   "outputs": [
    {
     "data": {
      "text/plain": [
       "Index(['Aug', 'Feb', 'June', 'Mar', 'May', 'Oct', 'Mon', 'Sun', 'Thu', 'Tue',\n",
       "       'Wed'],\n",
       "      dtype='object')"
      ]
     },
     "execution_count": 777,
     "metadata": {},
     "output_type": "execute_result"
    }
   ],
   "source": [
    "#Columns where RFE support is False\n",
    "X_train.columns[~rfe.support_]"
   ]
  },
  {
   "cell_type": "code",
   "execution_count": 778,
   "id": "24a0d02e",
   "metadata": {},
   "outputs": [],
   "source": [
    "X_train_rfe = X_train[col]\n"
   ]
  },
  {
   "cell_type": "code",
   "execution_count": 779,
   "id": "faf49834",
   "metadata": {},
   "outputs": [
    {
     "name": "stderr",
     "output_type": "stream",
     "text": [
      "C:\\Users\\gandhig\\Anaconda3\\lib\\site-packages\\statsmodels\\tsa\\tsatools.py:142: FutureWarning: In a future version of pandas all arguments of concat except for the argument 'objs' will be keyword-only\n",
      "  x = pd.concat(x[::order], 1)\n"
     ]
    }
   ],
   "source": [
    "#BUILDING MODEL USING STATSMODEL:\n",
    "\n",
    "import statsmodels.api as sm  \n",
    "X_train_rfe1 = sm.add_constant(X_train_rfe)"
   ]
  },
  {
   "cell_type": "code",
   "execution_count": 780,
   "id": "3257880d",
   "metadata": {},
   "outputs": [],
   "source": [
    "lm = sm.OLS(y_train,X_train_rfe1).fit()"
   ]
  },
  {
   "cell_type": "code",
   "execution_count": 781,
   "id": "299c1e7a",
   "metadata": {},
   "outputs": [
    {
     "name": "stdout",
     "output_type": "stream",
     "text": [
      "                            OLS Regression Results                            \n",
      "==============================================================================\n",
      "Dep. Variable:                    cnt   R-squared:                       0.851\n",
      "Model:                            OLS   Adj. R-squared:                  0.846\n",
      "Method:                 Least Squares   F-statistic:                     165.2\n",
      "Date:                Tue, 08 Feb 2022   Prob (F-statistic):          9.55e-191\n",
      "Time:                        02:38:45   Log-Likelihood:                 523.84\n",
      "No. Observations:                 510   AIC:                            -1012.\n",
      "Df Residuals:                     492   BIC:                            -935.5\n",
      "Df Model:                          17                                         \n",
      "Covariance Type:            nonrobust                                         \n",
      "================================================================================================\n",
      "                                   coef    std err          t      P>|t|      [0.025      0.975]\n",
      "------------------------------------------------------------------------------------------------\n",
      "const                            0.2759      0.037      7.452      0.000       0.203       0.349\n",
      "Dec                             -0.0405      0.017     -2.351      0.019      -0.074      -0.007\n",
      "Jan                             -0.0458      0.018     -2.570      0.010      -0.081      -0.011\n",
      "July                            -0.0526      0.018     -2.932      0.004      -0.088      -0.017\n",
      "Nov                             -0.0420      0.018     -2.277      0.023      -0.078      -0.006\n",
      "Sep                              0.0732      0.017      4.404      0.000       0.041       0.106\n",
      "Sat                              0.0550      0.014      3.813      0.000       0.027       0.083\n",
      "Light_Snow_Rain_Thunderstorm    -0.2571      0.026     -9.865      0.000      -0.308      -0.206\n",
      "Mist_Cloudy                     -0.0598      0.010     -5.781      0.000      -0.080      -0.039\n",
      "Spring                          -0.0611      0.021     -2.925      0.004      -0.102      -0.020\n",
      "Summer                           0.0409      0.015      2.708      0.007       0.011       0.071\n",
      "Winter                           0.1052      0.018      5.949      0.000       0.070       0.140\n",
      "yr                               0.2308      0.008     29.005      0.000       0.215       0.246\n",
      "holiday                         -0.0520      0.027     -1.933      0.054      -0.105       0.001\n",
      "workingday                       0.0445      0.011      3.889      0.000       0.022       0.067\n",
      "temp                             0.4750      0.036     13.038      0.000       0.403       0.547\n",
      "hum                             -0.1474      0.037     -3.949      0.000      -0.221      -0.074\n",
      "windspeed                       -0.1876      0.025     -7.388      0.000      -0.237      -0.138\n",
      "==============================================================================\n",
      "Omnibus:                       76.965   Durbin-Watson:                   2.041\n",
      "Prob(Omnibus):                  0.000   Jarque-Bera (JB):              205.539\n",
      "Skew:                          -0.747   Prob(JB):                     2.33e-45\n",
      "Kurtosis:                       5.727   Cond. No.                         23.0\n",
      "==============================================================================\n",
      "\n",
      "Notes:\n",
      "[1] Standard Errors assume that the covariance matrix of the errors is correctly specified.\n"
     ]
    }
   ],
   "source": [
    "print(lm.summary())"
   ]
  },
  {
   "cell_type": "code",
   "execution_count": 782,
   "id": "72d95c29",
   "metadata": {},
   "outputs": [
    {
     "data": {
      "text/html": [
       "<div>\n",
       "<style scoped>\n",
       "    .dataframe tbody tr th:only-of-type {\n",
       "        vertical-align: middle;\n",
       "    }\n",
       "\n",
       "    .dataframe tbody tr th {\n",
       "        vertical-align: top;\n",
       "    }\n",
       "\n",
       "    .dataframe thead th {\n",
       "        text-align: right;\n",
       "    }\n",
       "</style>\n",
       "<table border=\"1\" class=\"dataframe\">\n",
       "  <thead>\n",
       "    <tr style=\"text-align: right;\">\n",
       "      <th></th>\n",
       "      <th>Features</th>\n",
       "      <th>VIF</th>\n",
       "    </tr>\n",
       "  </thead>\n",
       "  <tbody>\n",
       "    <tr>\n",
       "      <th>15</th>\n",
       "      <td>hum</td>\n",
       "      <td>31.16</td>\n",
       "    </tr>\n",
       "    <tr>\n",
       "      <th>14</th>\n",
       "      <td>temp</td>\n",
       "      <td>19.14</td>\n",
       "    </tr>\n",
       "    <tr>\n",
       "      <th>13</th>\n",
       "      <td>workingday</td>\n",
       "      <td>5.37</td>\n",
       "    </tr>\n",
       "    <tr>\n",
       "      <th>16</th>\n",
       "      <td>windspeed</td>\n",
       "      <td>4.78</td>\n",
       "    </tr>\n",
       "    <tr>\n",
       "      <th>8</th>\n",
       "      <td>Spring</td>\n",
       "      <td>4.57</td>\n",
       "    </tr>\n",
       "    <tr>\n",
       "      <th>10</th>\n",
       "      <td>Winter</td>\n",
       "      <td>4.12</td>\n",
       "    </tr>\n",
       "    <tr>\n",
       "      <th>9</th>\n",
       "      <td>Summer</td>\n",
       "      <td>2.87</td>\n",
       "    </tr>\n",
       "    <tr>\n",
       "      <th>7</th>\n",
       "      <td>Mist_Cloudy</td>\n",
       "      <td>2.32</td>\n",
       "    </tr>\n",
       "    <tr>\n",
       "      <th>11</th>\n",
       "      <td>yr</td>\n",
       "      <td>2.09</td>\n",
       "    </tr>\n",
       "    <tr>\n",
       "      <th>5</th>\n",
       "      <td>Sat</td>\n",
       "      <td>2.00</td>\n",
       "    </tr>\n",
       "    <tr>\n",
       "      <th>3</th>\n",
       "      <td>Nov</td>\n",
       "      <td>1.84</td>\n",
       "    </tr>\n",
       "    <tr>\n",
       "      <th>1</th>\n",
       "      <td>Jan</td>\n",
       "      <td>1.76</td>\n",
       "    </tr>\n",
       "    <tr>\n",
       "      <th>2</th>\n",
       "      <td>July</td>\n",
       "      <td>1.59</td>\n",
       "    </tr>\n",
       "    <tr>\n",
       "      <th>0</th>\n",
       "      <td>Dec</td>\n",
       "      <td>1.57</td>\n",
       "    </tr>\n",
       "    <tr>\n",
       "      <th>4</th>\n",
       "      <td>Sep</td>\n",
       "      <td>1.42</td>\n",
       "    </tr>\n",
       "    <tr>\n",
       "      <th>6</th>\n",
       "      <td>Light_Snow_Rain_Thunderstorm</td>\n",
       "      <td>1.28</td>\n",
       "    </tr>\n",
       "    <tr>\n",
       "      <th>12</th>\n",
       "      <td>holiday</td>\n",
       "      <td>1.20</td>\n",
       "    </tr>\n",
       "  </tbody>\n",
       "</table>\n",
       "</div>"
      ],
      "text/plain": [
       "                        Features    VIF\n",
       "15                           hum  31.16\n",
       "14                          temp  19.14\n",
       "13                    workingday   5.37\n",
       "16                     windspeed   4.78\n",
       "8                         Spring   4.57\n",
       "10                        Winter   4.12\n",
       "9                         Summer   2.87\n",
       "7                    Mist_Cloudy   2.32\n",
       "11                            yr   2.09\n",
       "5                            Sat   2.00\n",
       "3                            Nov   1.84\n",
       "1                            Jan   1.76\n",
       "2                           July   1.59\n",
       "0                            Dec   1.57\n",
       "4                            Sep   1.42\n",
       "6   Light_Snow_Rain_Thunderstorm   1.28\n",
       "12                       holiday   1.20"
      ]
     },
     "execution_count": 782,
     "metadata": {},
     "output_type": "execute_result"
    }
   ],
   "source": [
    "#VIF\n",
    "\n",
    "from statsmodels.stats.outliers_influence import variance_inflation_factor\n",
    "\n",
    "vif = pd.DataFrame()\n",
    "X = X_train_rfe\n",
    "vif['Features'] = X.columns\n",
    "vif['VIF'] = [variance_inflation_factor(X.values, i) for i in range(X.shape[1])]\n",
    "vif['VIF'] = round(vif['VIF'], 2)\n",
    "vif = vif.sort_values(by = \"VIF\", ascending = False)\n",
    "vif"
   ]
  },
  {
   "cell_type": "code",
   "execution_count": 783,
   "id": "7730fde1",
   "metadata": {},
   "outputs": [],
   "source": [
    "#dropping columns which have a very high VF : hum \n",
    "X_train_rfe=X_train_rfe.drop(['hum'],axis=1)"
   ]
  },
  {
   "cell_type": "code",
   "execution_count": 784,
   "id": "0e0bd8e5",
   "metadata": {},
   "outputs": [
    {
     "name": "stderr",
     "output_type": "stream",
     "text": [
      "C:\\Users\\gandhig\\Anaconda3\\lib\\site-packages\\statsmodels\\tsa\\tsatools.py:142: FutureWarning: In a future version of pandas all arguments of concat except for the argument 'objs' will be keyword-only\n",
      "  x = pd.concat(x[::order], 1)\n"
     ]
    }
   ],
   "source": [
    "import statsmodels.api as sm  \n",
    "X_train_rfe1 = sm.add_constant(X_train_rfe)\n",
    "lm1 = sm.OLS(y_train,X_train_rfe1).fit()"
   ]
  },
  {
   "cell_type": "code",
   "execution_count": 785,
   "id": "5d4e7032",
   "metadata": {},
   "outputs": [
    {
     "name": "stdout",
     "output_type": "stream",
     "text": [
      "                            OLS Regression Results                            \n",
      "==============================================================================\n",
      "Dep. Variable:                    cnt   R-squared:                       0.846\n",
      "Model:                            OLS   Adj. R-squared:                  0.841\n",
      "Method:                 Least Squares   F-statistic:                     169.5\n",
      "Date:                Tue, 08 Feb 2022   Prob (F-statistic):          1.49e-188\n",
      "Time:                        02:38:45   Log-Likelihood:                 515.89\n",
      "No. Observations:                 510   AIC:                            -997.8\n",
      "Df Residuals:                     493   BIC:                            -925.8\n",
      "Df Model:                          16                                         \n",
      "Covariance Type:            nonrobust                                         \n",
      "================================================================================================\n",
      "                                   coef    std err          t      P>|t|      [0.025      0.975]\n",
      "------------------------------------------------------------------------------------------------\n",
      "const                            0.2055      0.033      6.242      0.000       0.141       0.270\n",
      "Dec                             -0.0474      0.017     -2.731      0.007      -0.082      -0.013\n",
      "Jan                             -0.0520      0.018     -2.882      0.004      -0.087      -0.017\n",
      "July                            -0.0478      0.018     -2.630      0.009      -0.083      -0.012\n",
      "Nov                             -0.0429      0.019     -2.291      0.022      -0.080      -0.006\n",
      "Sep                              0.0669      0.017      3.989      0.000       0.034       0.100\n",
      "Sat                              0.0598      0.015      4.097      0.000       0.031       0.088\n",
      "Light_Snow_Rain_Thunderstorm    -0.2987      0.024    -12.347      0.000      -0.346      -0.251\n",
      "Mist_Cloudy                     -0.0834      0.009     -9.751      0.000      -0.100      -0.067\n",
      "Spring                          -0.0701      0.021     -3.327      0.001      -0.112      -0.029\n",
      "Summer                           0.0340      0.015      2.237      0.026       0.004       0.064\n",
      "Winter                           0.0917      0.018      5.212      0.000       0.057       0.126\n",
      "yr                               0.2345      0.008     29.241      0.000       0.219       0.250\n",
      "holiday                         -0.0499      0.027     -1.827      0.068      -0.104       0.004\n",
      "workingday                       0.0475      0.012      4.096      0.000       0.025       0.070\n",
      "temp                             0.4360      0.036     12.254      0.000       0.366       0.506\n",
      "windspeed                       -0.1604      0.025     -6.467      0.000      -0.209      -0.112\n",
      "==============================================================================\n",
      "Omnibus:                       80.436   Durbin-Watson:                   2.034\n",
      "Prob(Omnibus):                  0.000   Jarque-Bera (JB):              221.289\n",
      "Skew:                          -0.770   Prob(JB):                     8.87e-49\n",
      "Kurtosis:                       5.836   Cond. No.                         21.2\n",
      "==============================================================================\n",
      "\n",
      "Notes:\n",
      "[1] Standard Errors assume that the covariance matrix of the errors is correctly specified.\n"
     ]
    }
   ],
   "source": [
    "print(lm1.summary())"
   ]
  },
  {
   "cell_type": "code",
   "execution_count": 786,
   "id": "913a9393",
   "metadata": {},
   "outputs": [
    {
     "data": {
      "text/html": [
       "<div>\n",
       "<style scoped>\n",
       "    .dataframe tbody tr th:only-of-type {\n",
       "        vertical-align: middle;\n",
       "    }\n",
       "\n",
       "    .dataframe tbody tr th {\n",
       "        vertical-align: top;\n",
       "    }\n",
       "\n",
       "    .dataframe thead th {\n",
       "        text-align: right;\n",
       "    }\n",
       "</style>\n",
       "<table border=\"1\" class=\"dataframe\">\n",
       "  <thead>\n",
       "    <tr style=\"text-align: right;\">\n",
       "      <th></th>\n",
       "      <th>Features</th>\n",
       "      <th>VIF</th>\n",
       "    </tr>\n",
       "  </thead>\n",
       "  <tbody>\n",
       "    <tr>\n",
       "      <th>14</th>\n",
       "      <td>temp</td>\n",
       "      <td>7.21</td>\n",
       "    </tr>\n",
       "    <tr>\n",
       "      <th>13</th>\n",
       "      <td>workingday</td>\n",
       "      <td>5.33</td>\n",
       "    </tr>\n",
       "    <tr>\n",
       "      <th>15</th>\n",
       "      <td>windspeed</td>\n",
       "      <td>4.72</td>\n",
       "    </tr>\n",
       "    <tr>\n",
       "      <th>8</th>\n",
       "      <td>Spring</td>\n",
       "      <td>3.17</td>\n",
       "    </tr>\n",
       "    <tr>\n",
       "      <th>10</th>\n",
       "      <td>Winter</td>\n",
       "      <td>3.03</td>\n",
       "    </tr>\n",
       "    <tr>\n",
       "      <th>9</th>\n",
       "      <td>Summer</td>\n",
       "      <td>2.33</td>\n",
       "    </tr>\n",
       "    <tr>\n",
       "      <th>11</th>\n",
       "      <td>yr</td>\n",
       "      <td>2.08</td>\n",
       "    </tr>\n",
       "    <tr>\n",
       "      <th>5</th>\n",
       "      <td>Sat</td>\n",
       "      <td>1.99</td>\n",
       "    </tr>\n",
       "    <tr>\n",
       "      <th>3</th>\n",
       "      <td>Nov</td>\n",
       "      <td>1.81</td>\n",
       "    </tr>\n",
       "    <tr>\n",
       "      <th>1</th>\n",
       "      <td>Jan</td>\n",
       "      <td>1.68</td>\n",
       "    </tr>\n",
       "    <tr>\n",
       "      <th>2</th>\n",
       "      <td>July</td>\n",
       "      <td>1.59</td>\n",
       "    </tr>\n",
       "    <tr>\n",
       "      <th>7</th>\n",
       "      <td>Mist_Cloudy</td>\n",
       "      <td>1.57</td>\n",
       "    </tr>\n",
       "    <tr>\n",
       "      <th>0</th>\n",
       "      <td>Dec</td>\n",
       "      <td>1.48</td>\n",
       "    </tr>\n",
       "    <tr>\n",
       "      <th>4</th>\n",
       "      <td>Sep</td>\n",
       "      <td>1.36</td>\n",
       "    </tr>\n",
       "    <tr>\n",
       "      <th>12</th>\n",
       "      <td>holiday</td>\n",
       "      <td>1.20</td>\n",
       "    </tr>\n",
       "    <tr>\n",
       "      <th>6</th>\n",
       "      <td>Light_Snow_Rain_Thunderstorm</td>\n",
       "      <td>1.09</td>\n",
       "    </tr>\n",
       "  </tbody>\n",
       "</table>\n",
       "</div>"
      ],
      "text/plain": [
       "                        Features   VIF\n",
       "14                          temp  7.21\n",
       "13                    workingday  5.33\n",
       "15                     windspeed  4.72\n",
       "8                         Spring  3.17\n",
       "10                        Winter  3.03\n",
       "9                         Summer  2.33\n",
       "11                            yr  2.08\n",
       "5                            Sat  1.99\n",
       "3                            Nov  1.81\n",
       "1                            Jan  1.68\n",
       "2                           July  1.59\n",
       "7                    Mist_Cloudy  1.57\n",
       "0                            Dec  1.48\n",
       "4                            Sep  1.36\n",
       "12                       holiday  1.20\n",
       "6   Light_Snow_Rain_Thunderstorm  1.09"
      ]
     },
     "execution_count": 786,
     "metadata": {},
     "output_type": "execute_result"
    }
   ],
   "source": [
    "from statsmodels.stats.outliers_influence import variance_inflation_factor\n",
    "\n",
    "vif = pd.DataFrame()\n",
    "X = X_train_rfe\n",
    "vif['Features'] = X.columns\n",
    "vif['VIF'] = [variance_inflation_factor(X.values, i) for i in range(X.shape[1])]\n",
    "vif['VIF'] = round(vif['VIF'], 2)\n",
    "vif = vif.sort_values(by = \"VIF\", ascending = False)\n",
    "vif"
   ]
  },
  {
   "cell_type": "code",
   "execution_count": 787,
   "id": "bb980c79",
   "metadata": {},
   "outputs": [],
   "source": [
    "#COLUMN holiday HAS A  HIGH P -value SO WE DROP IT\n",
    "X_train_rfe=X_train_rfe.drop(['holiday'],axis=1)"
   ]
  },
  {
   "cell_type": "code",
   "execution_count": 788,
   "id": "2cc8e78f",
   "metadata": {},
   "outputs": [
    {
     "name": "stdout",
     "output_type": "stream",
     "text": [
      "                            OLS Regression Results                            \n",
      "==============================================================================\n",
      "Dep. Variable:                    cnt   R-squared:                       0.845\n",
      "Model:                            OLS   Adj. R-squared:                  0.840\n",
      "Method:                 Least Squares   F-statistic:                     179.7\n",
      "Date:                Tue, 08 Feb 2022   Prob (F-statistic):          5.71e-189\n",
      "Time:                        02:38:45   Log-Likelihood:                 514.17\n",
      "No. Observations:                 510   AIC:                            -996.3\n",
      "Df Residuals:                     494   BIC:                            -928.6\n",
      "Df Model:                          15                                         \n",
      "Covariance Type:            nonrobust                                         \n",
      "================================================================================================\n",
      "                                   coef    std err          t      P>|t|      [0.025      0.975]\n",
      "------------------------------------------------------------------------------------------------\n",
      "const                            0.1999      0.033      6.084      0.000       0.135       0.264\n",
      "Dec                             -0.0483      0.017     -2.778      0.006      -0.083      -0.014\n",
      "Jan                             -0.0528      0.018     -2.924      0.004      -0.088      -0.017\n",
      "July                            -0.0469      0.018     -2.575      0.010      -0.083      -0.011\n",
      "Nov                             -0.0469      0.019     -2.518      0.012      -0.083      -0.010\n",
      "Sep                              0.0648      0.017      3.859      0.000       0.032       0.098\n",
      "Sat                              0.0671      0.014      4.777      0.000       0.040       0.095\n",
      "Light_Snow_Rain_Thunderstorm    -0.2980      0.024    -12.291      0.000      -0.346      -0.250\n",
      "Mist_Cloudy                     -0.0831      0.009     -9.686      0.000      -0.100      -0.066\n",
      "Spring                          -0.0717      0.021     -3.394      0.001      -0.113      -0.030\n",
      "Summer                           0.0338      0.015      2.219      0.027       0.004       0.064\n",
      "Winter                           0.0919      0.018      5.209      0.000       0.057       0.127\n",
      "yr                               0.2346      0.008     29.196      0.000       0.219       0.250\n",
      "workingday                       0.0548      0.011      5.027      0.000       0.033       0.076\n",
      "temp                             0.4344      0.036     12.184      0.000       0.364       0.504\n",
      "windspeed                       -0.1610      0.025     -6.479      0.000      -0.210      -0.112\n",
      "==============================================================================\n",
      "Omnibus:                       85.953   Durbin-Watson:                   2.015\n",
      "Prob(Omnibus):                  0.000   Jarque-Bera (JB):              245.369\n",
      "Skew:                          -0.809   Prob(JB):                     5.23e-54\n",
      "Kurtosis:                       5.988   Cond. No.                         21.2\n",
      "==============================================================================\n",
      "\n",
      "Notes:\n",
      "[1] Standard Errors assume that the covariance matrix of the errors is correctly specified.\n"
     ]
    },
    {
     "name": "stderr",
     "output_type": "stream",
     "text": [
      "C:\\Users\\gandhig\\Anaconda3\\lib\\site-packages\\statsmodels\\tsa\\tsatools.py:142: FutureWarning: In a future version of pandas all arguments of concat except for the argument 'objs' will be keyword-only\n",
      "  x = pd.concat(x[::order], 1)\n"
     ]
    }
   ],
   "source": [
    "X_train_rfe2 = sm.add_constant(X_train_rfe)\n",
    "lm2 = sm.OLS(y_train,X_train_rfe2).fit()\n",
    "print(lm2.summary())"
   ]
  },
  {
   "cell_type": "code",
   "execution_count": 789,
   "id": "7b21f1ab",
   "metadata": {},
   "outputs": [
    {
     "data": {
      "text/html": [
       "<div>\n",
       "<style scoped>\n",
       "    .dataframe tbody tr th:only-of-type {\n",
       "        vertical-align: middle;\n",
       "    }\n",
       "\n",
       "    .dataframe tbody tr th {\n",
       "        vertical-align: top;\n",
       "    }\n",
       "\n",
       "    .dataframe thead th {\n",
       "        text-align: right;\n",
       "    }\n",
       "</style>\n",
       "<table border=\"1\" class=\"dataframe\">\n",
       "  <thead>\n",
       "    <tr style=\"text-align: right;\">\n",
       "      <th></th>\n",
       "      <th>Features</th>\n",
       "      <th>VIF</th>\n",
       "    </tr>\n",
       "  </thead>\n",
       "  <tbody>\n",
       "    <tr>\n",
       "      <th>13</th>\n",
       "      <td>temp</td>\n",
       "      <td>6.92</td>\n",
       "    </tr>\n",
       "    <tr>\n",
       "      <th>12</th>\n",
       "      <td>workingday</td>\n",
       "      <td>4.73</td>\n",
       "    </tr>\n",
       "    <tr>\n",
       "      <th>14</th>\n",
       "      <td>windspeed</td>\n",
       "      <td>4.71</td>\n",
       "    </tr>\n",
       "    <tr>\n",
       "      <th>8</th>\n",
       "      <td>Spring</td>\n",
       "      <td>3.09</td>\n",
       "    </tr>\n",
       "    <tr>\n",
       "      <th>10</th>\n",
       "      <td>Winter</td>\n",
       "      <td>3.02</td>\n",
       "    </tr>\n",
       "    <tr>\n",
       "      <th>9</th>\n",
       "      <td>Summer</td>\n",
       "      <td>2.32</td>\n",
       "    </tr>\n",
       "    <tr>\n",
       "      <th>11</th>\n",
       "      <td>yr</td>\n",
       "      <td>2.08</td>\n",
       "    </tr>\n",
       "    <tr>\n",
       "      <th>5</th>\n",
       "      <td>Sat</td>\n",
       "      <td>1.86</td>\n",
       "    </tr>\n",
       "    <tr>\n",
       "      <th>3</th>\n",
       "      <td>Nov</td>\n",
       "      <td>1.78</td>\n",
       "    </tr>\n",
       "    <tr>\n",
       "      <th>1</th>\n",
       "      <td>Jan</td>\n",
       "      <td>1.67</td>\n",
       "    </tr>\n",
       "    <tr>\n",
       "      <th>2</th>\n",
       "      <td>July</td>\n",
       "      <td>1.59</td>\n",
       "    </tr>\n",
       "    <tr>\n",
       "      <th>7</th>\n",
       "      <td>Mist_Cloudy</td>\n",
       "      <td>1.57</td>\n",
       "    </tr>\n",
       "    <tr>\n",
       "      <th>0</th>\n",
       "      <td>Dec</td>\n",
       "      <td>1.48</td>\n",
       "    </tr>\n",
       "    <tr>\n",
       "      <th>4</th>\n",
       "      <td>Sep</td>\n",
       "      <td>1.35</td>\n",
       "    </tr>\n",
       "    <tr>\n",
       "      <th>6</th>\n",
       "      <td>Light_Snow_Rain_Thunderstorm</td>\n",
       "      <td>1.09</td>\n",
       "    </tr>\n",
       "  </tbody>\n",
       "</table>\n",
       "</div>"
      ],
      "text/plain": [
       "                        Features   VIF\n",
       "13                          temp  6.92\n",
       "12                    workingday  4.73\n",
       "14                     windspeed  4.71\n",
       "8                         Spring  3.09\n",
       "10                        Winter  3.02\n",
       "9                         Summer  2.32\n",
       "11                            yr  2.08\n",
       "5                            Sat  1.86\n",
       "3                            Nov  1.78\n",
       "1                            Jan  1.67\n",
       "2                           July  1.59\n",
       "7                    Mist_Cloudy  1.57\n",
       "0                            Dec  1.48\n",
       "4                            Sep  1.35\n",
       "6   Light_Snow_Rain_Thunderstorm  1.09"
      ]
     },
     "execution_count": 789,
     "metadata": {},
     "output_type": "execute_result"
    }
   ],
   "source": [
    "vif = pd.DataFrame()\n",
    "X = X_train_rfe\n",
    "vif['Features'] = X.columns\n",
    "vif['VIF'] = [variance_inflation_factor(X.values, i) for i in range(X.shape[1])]\n",
    "vif['VIF'] = round(vif['VIF'], 2)\n",
    "vif = vif.sort_values(by = \"VIF\", ascending = False)\n",
    "vif"
   ]
  },
  {
   "cell_type": "code",
   "execution_count": 790,
   "id": "2c4acd0a",
   "metadata": {},
   "outputs": [
    {
     "data": {
      "text/plain": [
       "Index(['Dec', 'Jan', 'July', 'Nov', 'Sep', 'Sat',\n",
       "       'Light_Snow_Rain_Thunderstorm', 'Mist_Cloudy', 'Spring', 'Summer',\n",
       "       'Winter', 'yr', 'workingday', 'temp', 'windspeed'],\n",
       "      dtype='object')"
      ]
     },
     "execution_count": 790,
     "metadata": {},
     "output_type": "execute_result"
    }
   ],
   "source": [
    "X_train_rfe.columns\n"
   ]
  },
  {
   "cell_type": "code",
   "execution_count": 791,
   "id": "5bea41cf",
   "metadata": {},
   "outputs": [],
   "source": [
    "#dropping Nov , Dec and Jan month as they are corelated to Season winter and checking the model\n",
    "X_train_rfe=X_train_rfe.drop(['Nov','Dec','Jan'],axis=1)"
   ]
  },
  {
   "cell_type": "code",
   "execution_count": 792,
   "id": "b3c8d48c",
   "metadata": {},
   "outputs": [
    {
     "name": "stderr",
     "output_type": "stream",
     "text": [
      "C:\\Users\\gandhig\\Anaconda3\\lib\\site-packages\\statsmodels\\tsa\\tsatools.py:142: FutureWarning: In a future version of pandas all arguments of concat except for the argument 'objs' will be keyword-only\n",
      "  x = pd.concat(x[::order], 1)\n"
     ]
    },
    {
     "name": "stdout",
     "output_type": "stream",
     "text": [
      "                            OLS Regression Results                            \n",
      "==============================================================================\n",
      "Dep. Variable:                    cnt   R-squared:                       0.840\n",
      "Model:                            OLS   Adj. R-squared:                  0.837\n",
      "Method:                 Least Squares   F-statistic:                     218.1\n",
      "Date:                Tue, 08 Feb 2022   Prob (F-statistic):          3.28e-189\n",
      "Time:                        02:38:45   Log-Likelihood:                 506.42\n",
      "No. Observations:                 510   AIC:                            -986.8\n",
      "Df Residuals:                     497   BIC:                            -931.8\n",
      "Df Model:                          12                                         \n",
      "Covariance Type:            nonrobust                                         \n",
      "================================================================================================\n",
      "                                   coef    std err          t      P>|t|      [0.025      0.975]\n",
      "------------------------------------------------------------------------------------------------\n",
      "const                            0.1493      0.031      4.886      0.000       0.089       0.209\n",
      "July                            -0.0489      0.018     -2.657      0.008      -0.085      -0.013\n",
      "Sep                              0.0738      0.017      4.408      0.000       0.041       0.107\n",
      "Sat                              0.0666      0.014      4.688      0.000       0.039       0.094\n",
      "Light_Snow_Rain_Thunderstorm    -0.2892      0.024    -11.845      0.000      -0.337      -0.241\n",
      "Mist_Cloudy                     -0.0830      0.009     -9.581      0.000      -0.100      -0.066\n",
      "Spring                          -0.0662      0.021     -3.174      0.002      -0.107      -0.025\n",
      "Summer                           0.0469      0.015      3.117      0.002       0.017       0.076\n",
      "Winter                           0.0851      0.017      4.997      0.000       0.052       0.119\n",
      "yr                               0.2338      0.008     28.766      0.000       0.218       0.250\n",
      "workingday                       0.0547      0.011      4.962      0.000       0.033       0.076\n",
      "temp                             0.4925      0.033     15.020      0.000       0.428       0.557\n",
      "windspeed                       -0.1500      0.025     -6.047      0.000      -0.199      -0.101\n",
      "==============================================================================\n",
      "Omnibus:                       72.688   Durbin-Watson:                   2.041\n",
      "Prob(Omnibus):                  0.000   Jarque-Bera (JB):              185.799\n",
      "Skew:                          -0.721   Prob(JB):                     4.51e-41\n",
      "Kurtosis:                       5.581   Cond. No.                         19.5\n",
      "==============================================================================\n",
      "\n",
      "Notes:\n",
      "[1] Standard Errors assume that the covariance matrix of the errors is correctly specified.\n"
     ]
    }
   ],
   "source": [
    "X_train_rfe3 = sm.add_constant(X_train_rfe)\n",
    "lm3 = sm.OLS(y_train,X_train_rfe3).fit()\n",
    "print(lm3.summary())"
   ]
  },
  {
   "cell_type": "code",
   "execution_count": 793,
   "id": "74421f8a",
   "metadata": {},
   "outputs": [
    {
     "data": {
      "text/html": [
       "<div>\n",
       "<style scoped>\n",
       "    .dataframe tbody tr th:only-of-type {\n",
       "        vertical-align: middle;\n",
       "    }\n",
       "\n",
       "    .dataframe tbody tr th {\n",
       "        vertical-align: top;\n",
       "    }\n",
       "\n",
       "    .dataframe thead th {\n",
       "        text-align: right;\n",
       "    }\n",
       "</style>\n",
       "<table border=\"1\" class=\"dataframe\">\n",
       "  <thead>\n",
       "    <tr style=\"text-align: right;\">\n",
       "      <th></th>\n",
       "      <th>Features</th>\n",
       "      <th>VIF</th>\n",
       "    </tr>\n",
       "  </thead>\n",
       "  <tbody>\n",
       "    <tr>\n",
       "      <th>10</th>\n",
       "      <td>temp</td>\n",
       "      <td>6.73</td>\n",
       "    </tr>\n",
       "    <tr>\n",
       "      <th>9</th>\n",
       "      <td>workingday</td>\n",
       "      <td>4.65</td>\n",
       "    </tr>\n",
       "    <tr>\n",
       "      <th>11</th>\n",
       "      <td>windspeed</td>\n",
       "      <td>4.64</td>\n",
       "    </tr>\n",
       "    <tr>\n",
       "      <th>5</th>\n",
       "      <td>Spring</td>\n",
       "      <td>2.38</td>\n",
       "    </tr>\n",
       "    <tr>\n",
       "      <th>6</th>\n",
       "      <td>Summer</td>\n",
       "      <td>2.31</td>\n",
       "    </tr>\n",
       "    <tr>\n",
       "      <th>8</th>\n",
       "      <td>yr</td>\n",
       "      <td>2.07</td>\n",
       "    </tr>\n",
       "    <tr>\n",
       "      <th>7</th>\n",
       "      <td>Winter</td>\n",
       "      <td>1.92</td>\n",
       "    </tr>\n",
       "    <tr>\n",
       "      <th>2</th>\n",
       "      <td>Sat</td>\n",
       "      <td>1.83</td>\n",
       "    </tr>\n",
       "    <tr>\n",
       "      <th>0</th>\n",
       "      <td>July</td>\n",
       "      <td>1.58</td>\n",
       "    </tr>\n",
       "    <tr>\n",
       "      <th>4</th>\n",
       "      <td>Mist_Cloudy</td>\n",
       "      <td>1.56</td>\n",
       "    </tr>\n",
       "    <tr>\n",
       "      <th>1</th>\n",
       "      <td>Sep</td>\n",
       "      <td>1.34</td>\n",
       "    </tr>\n",
       "    <tr>\n",
       "      <th>3</th>\n",
       "      <td>Light_Snow_Rain_Thunderstorm</td>\n",
       "      <td>1.08</td>\n",
       "    </tr>\n",
       "  </tbody>\n",
       "</table>\n",
       "</div>"
      ],
      "text/plain": [
       "                        Features   VIF\n",
       "10                          temp  6.73\n",
       "9                     workingday  4.65\n",
       "11                     windspeed  4.64\n",
       "5                         Spring  2.38\n",
       "6                         Summer  2.31\n",
       "8                             yr  2.07\n",
       "7                         Winter  1.92\n",
       "2                            Sat  1.83\n",
       "0                           July  1.58\n",
       "4                    Mist_Cloudy  1.56\n",
       "1                            Sep  1.34\n",
       "3   Light_Snow_Rain_Thunderstorm  1.08"
      ]
     },
     "execution_count": 793,
     "metadata": {},
     "output_type": "execute_result"
    }
   ],
   "source": [
    "vif = pd.DataFrame()\n",
    "X = X_train_rfe\n",
    "vif['Features'] = X.columns\n",
    "vif['VIF'] = [variance_inflation_factor(X.values, i) for i in range(X.shape[1])]\n",
    "vif['VIF'] = round(vif['VIF'], 2)\n",
    "vif = vif.sort_values(by = \"VIF\", ascending = False)\n",
    "vif"
   ]
  },
  {
   "cell_type": "code",
   "execution_count": 794,
   "id": "86035833",
   "metadata": {},
   "outputs": [],
   "source": [
    "#Though Temp has a VIF > 5 we are not dropping it as it seems to be an important variable \n",
    "# Winter has a very high P value , we would drop it \n",
    "#Dropping July and checking how model is affected \n",
    "X_train_rfe=X_train_rfe.drop(['July'],axis=1)\n"
   ]
  },
  {
   "cell_type": "code",
   "execution_count": 795,
   "id": "78ca4f71",
   "metadata": {},
   "outputs": [
    {
     "name": "stdout",
     "output_type": "stream",
     "text": [
      "                            OLS Regression Results                            \n",
      "==============================================================================\n",
      "Dep. Variable:                    cnt   R-squared:                       0.838\n",
      "Model:                            OLS   Adj. R-squared:                  0.835\n",
      "Method:                 Least Squares   F-statistic:                     234.4\n",
      "Date:                Tue, 08 Feb 2022   Prob (F-statistic):          6.86e-189\n",
      "Time:                        02:38:46   Log-Likelihood:                 502.83\n",
      "No. Observations:                 510   AIC:                            -981.7\n",
      "Df Residuals:                     498   BIC:                            -930.8\n",
      "Df Model:                          11                                         \n",
      "Covariance Type:            nonrobust                                         \n",
      "================================================================================================\n",
      "                                   coef    std err          t      P>|t|      [0.025      0.975]\n",
      "------------------------------------------------------------------------------------------------\n",
      "const                            0.1405      0.031      4.599      0.000       0.081       0.201\n",
      "Sep                              0.0872      0.016      5.421      0.000       0.056       0.119\n",
      "Sat                              0.0669      0.014      4.682      0.000       0.039       0.095\n",
      "Light_Snow_Rain_Thunderstorm    -0.2902      0.025    -11.813      0.000      -0.338      -0.242\n",
      "Mist_Cloudy                     -0.0817      0.009     -9.391      0.000      -0.099      -0.065\n",
      "Spring                          -0.0551      0.021     -2.680      0.008      -0.096      -0.015\n",
      "Summer                           0.0615      0.014      4.370      0.000       0.034       0.089\n",
      "Winter                           0.0972      0.017      5.885      0.000       0.065       0.130\n",
      "yr                               0.2343      0.008     28.664      0.000       0.218       0.250\n",
      "workingday                       0.0557      0.011      5.021      0.000       0.034       0.077\n",
      "temp                             0.4800      0.033     14.702      0.000       0.416       0.544\n",
      "windspeed                       -0.1501      0.025     -6.014      0.000      -0.199      -0.101\n",
      "==============================================================================\n",
      "Omnibus:                       76.386   Durbin-Watson:                   2.073\n",
      "Prob(Omnibus):                  0.000   Jarque-Bera (JB):              190.041\n",
      "Skew:                          -0.765   Prob(JB):                     5.41e-42\n",
      "Kurtosis:                       5.569   Cond. No.                         19.4\n",
      "==============================================================================\n",
      "\n",
      "Notes:\n",
      "[1] Standard Errors assume that the covariance matrix of the errors is correctly specified.\n"
     ]
    },
    {
     "name": "stderr",
     "output_type": "stream",
     "text": [
      "C:\\Users\\gandhig\\Anaconda3\\lib\\site-packages\\statsmodels\\tsa\\tsatools.py:142: FutureWarning: In a future version of pandas all arguments of concat except for the argument 'objs' will be keyword-only\n",
      "  x = pd.concat(x[::order], 1)\n"
     ]
    }
   ],
   "source": [
    "X_train_rfe4 = sm.add_constant(X_train_rfe)\n",
    "lm4 = sm.OLS(y_train,X_train_rfe4).fit()\n",
    "print(lm4.summary())"
   ]
  },
  {
   "cell_type": "code",
   "execution_count": 796,
   "id": "a21b0d58",
   "metadata": {},
   "outputs": [
    {
     "data": {
      "text/html": [
       "<div>\n",
       "<style scoped>\n",
       "    .dataframe tbody tr th:only-of-type {\n",
       "        vertical-align: middle;\n",
       "    }\n",
       "\n",
       "    .dataframe tbody tr th {\n",
       "        vertical-align: top;\n",
       "    }\n",
       "\n",
       "    .dataframe thead th {\n",
       "        text-align: right;\n",
       "    }\n",
       "</style>\n",
       "<table border=\"1\" class=\"dataframe\">\n",
       "  <thead>\n",
       "    <tr style=\"text-align: right;\">\n",
       "      <th></th>\n",
       "      <th>Features</th>\n",
       "      <th>VIF</th>\n",
       "    </tr>\n",
       "  </thead>\n",
       "  <tbody>\n",
       "    <tr>\n",
       "      <th>9</th>\n",
       "      <td>temp</td>\n",
       "      <td>5.48</td>\n",
       "    </tr>\n",
       "    <tr>\n",
       "      <th>8</th>\n",
       "      <td>workingday</td>\n",
       "      <td>4.65</td>\n",
       "    </tr>\n",
       "    <tr>\n",
       "      <th>10</th>\n",
       "      <td>windspeed</td>\n",
       "      <td>4.63</td>\n",
       "    </tr>\n",
       "    <tr>\n",
       "      <th>4</th>\n",
       "      <td>Spring</td>\n",
       "      <td>2.30</td>\n",
       "    </tr>\n",
       "    <tr>\n",
       "      <th>7</th>\n",
       "      <td>yr</td>\n",
       "      <td>2.07</td>\n",
       "    </tr>\n",
       "    <tr>\n",
       "      <th>5</th>\n",
       "      <td>Summer</td>\n",
       "      <td>1.99</td>\n",
       "    </tr>\n",
       "    <tr>\n",
       "      <th>1</th>\n",
       "      <td>Sat</td>\n",
       "      <td>1.83</td>\n",
       "    </tr>\n",
       "    <tr>\n",
       "      <th>6</th>\n",
       "      <td>Winter</td>\n",
       "      <td>1.77</td>\n",
       "    </tr>\n",
       "    <tr>\n",
       "      <th>3</th>\n",
       "      <td>Mist_Cloudy</td>\n",
       "      <td>1.56</td>\n",
       "    </tr>\n",
       "    <tr>\n",
       "      <th>0</th>\n",
       "      <td>Sep</td>\n",
       "      <td>1.23</td>\n",
       "    </tr>\n",
       "    <tr>\n",
       "      <th>2</th>\n",
       "      <td>Light_Snow_Rain_Thunderstorm</td>\n",
       "      <td>1.08</td>\n",
       "    </tr>\n",
       "  </tbody>\n",
       "</table>\n",
       "</div>"
      ],
      "text/plain": [
       "                        Features   VIF\n",
       "9                           temp  5.48\n",
       "8                     workingday  4.65\n",
       "10                     windspeed  4.63\n",
       "4                         Spring  2.30\n",
       "7                             yr  2.07\n",
       "5                         Summer  1.99\n",
       "1                            Sat  1.83\n",
       "6                         Winter  1.77\n",
       "3                    Mist_Cloudy  1.56\n",
       "0                            Sep  1.23\n",
       "2   Light_Snow_Rain_Thunderstorm  1.08"
      ]
     },
     "execution_count": 796,
     "metadata": {},
     "output_type": "execute_result"
    }
   ],
   "source": [
    "vif = pd.DataFrame()\n",
    "X = X_train_rfe\n",
    "vif['Features'] = X.columns\n",
    "vif['VIF'] = [variance_inflation_factor(X.values, i) for i in range(X.shape[1])]\n",
    "vif['VIF'] = round(vif['VIF'], 2)\n",
    "vif = vif.sort_values(by = \"VIF\", ascending = False)\n",
    "vif"
   ]
  },
  {
   "cell_type": "code",
   "execution_count": 797,
   "id": "4f79b025",
   "metadata": {},
   "outputs": [],
   "source": [
    "# Dropping September , checking the model status : \n",
    "X_train_rfe=X_train_rfe.drop(['Sep'],axis=1)"
   ]
  },
  {
   "cell_type": "code",
   "execution_count": 798,
   "id": "3e840808",
   "metadata": {},
   "outputs": [
    {
     "name": "stdout",
     "output_type": "stream",
     "text": [
      "                            OLS Regression Results                            \n",
      "==============================================================================\n",
      "Dep. Variable:                    cnt   R-squared:                       0.829\n",
      "Model:                            OLS   Adj. R-squared:                  0.825\n",
      "Method:                 Least Squares   F-statistic:                     241.2\n",
      "Date:                Tue, 08 Feb 2022   Prob (F-statistic):          6.50e-184\n",
      "Time:                        02:38:46   Log-Likelihood:                 488.20\n",
      "No. Observations:                 510   AIC:                            -954.4\n",
      "Df Residuals:                     499   BIC:                            -907.8\n",
      "Df Model:                          10                                         \n",
      "Covariance Type:            nonrobust                                         \n",
      "================================================================================================\n",
      "                                   coef    std err          t      P>|t|      [0.025      0.975]\n",
      "------------------------------------------------------------------------------------------------\n",
      "const                            0.1709      0.031      5.532      0.000       0.110       0.232\n",
      "Sat                              0.0668      0.015      4.548      0.000       0.038       0.096\n",
      "Light_Snow_Rain_Thunderstorm    -0.2843      0.025    -11.267      0.000      -0.334      -0.235\n",
      "Mist_Cloudy                     -0.0782      0.009     -8.769      0.000      -0.096      -0.061\n",
      "Spring                          -0.0811      0.021     -3.947      0.000      -0.122      -0.041\n",
      "Summer                           0.0386      0.014      2.794      0.005       0.011       0.066\n",
      "Winter                           0.0782      0.017      4.715      0.000       0.046       0.111\n",
      "yr                               0.2342      0.008     27.873      0.000       0.218       0.251\n",
      "workingday                       0.0557      0.011      4.887      0.000       0.033       0.078\n",
      "temp                             0.4688      0.033     13.995      0.000       0.403       0.535\n",
      "windspeed                       -0.1562      0.026     -6.093      0.000      -0.207      -0.106\n",
      "==============================================================================\n",
      "Omnibus:                       73.331   Durbin-Watson:                   2.019\n",
      "Prob(Omnibus):                  0.000   Jarque-Bera (JB):              192.939\n",
      "Skew:                          -0.718   Prob(JB):                     1.27e-42\n",
      "Kurtosis:                       5.649   Cond. No.                         19.1\n",
      "==============================================================================\n",
      "\n",
      "Notes:\n",
      "[1] Standard Errors assume that the covariance matrix of the errors is correctly specified.\n"
     ]
    },
    {
     "name": "stderr",
     "output_type": "stream",
     "text": [
      "C:\\Users\\gandhig\\Anaconda3\\lib\\site-packages\\statsmodels\\tsa\\tsatools.py:142: FutureWarning: In a future version of pandas all arguments of concat except for the argument 'objs' will be keyword-only\n",
      "  x = pd.concat(x[::order], 1)\n"
     ]
    }
   ],
   "source": [
    "X_train_rfe5 = sm.add_constant(X_train_rfe)\n",
    "lm5 = sm.OLS(y_train,X_train_rfe5).fit()\n",
    "print(lm5.summary())"
   ]
  },
  {
   "cell_type": "code",
   "execution_count": 799,
   "id": "ad2d2396",
   "metadata": {},
   "outputs": [
    {
     "data": {
      "text/html": [
       "<div>\n",
       "<style scoped>\n",
       "    .dataframe tbody tr th:only-of-type {\n",
       "        vertical-align: middle;\n",
       "    }\n",
       "\n",
       "    .dataframe tbody tr th {\n",
       "        vertical-align: top;\n",
       "    }\n",
       "\n",
       "    .dataframe thead th {\n",
       "        text-align: right;\n",
       "    }\n",
       "</style>\n",
       "<table border=\"1\" class=\"dataframe\">\n",
       "  <thead>\n",
       "    <tr style=\"text-align: right;\">\n",
       "      <th></th>\n",
       "      <th>Features</th>\n",
       "      <th>VIF</th>\n",
       "    </tr>\n",
       "  </thead>\n",
       "  <tbody>\n",
       "    <tr>\n",
       "      <th>8</th>\n",
       "      <td>temp</td>\n",
       "      <td>5.27</td>\n",
       "    </tr>\n",
       "    <tr>\n",
       "      <th>7</th>\n",
       "      <td>workingday</td>\n",
       "      <td>4.64</td>\n",
       "    </tr>\n",
       "    <tr>\n",
       "      <th>9</th>\n",
       "      <td>windspeed</td>\n",
       "      <td>4.63</td>\n",
       "    </tr>\n",
       "    <tr>\n",
       "      <th>3</th>\n",
       "      <td>Spring</td>\n",
       "      <td>2.25</td>\n",
       "    </tr>\n",
       "    <tr>\n",
       "      <th>6</th>\n",
       "      <td>yr</td>\n",
       "      <td>2.07</td>\n",
       "    </tr>\n",
       "    <tr>\n",
       "      <th>4</th>\n",
       "      <td>Summer</td>\n",
       "      <td>1.87</td>\n",
       "    </tr>\n",
       "    <tr>\n",
       "      <th>0</th>\n",
       "      <td>Sat</td>\n",
       "      <td>1.83</td>\n",
       "    </tr>\n",
       "    <tr>\n",
       "      <th>5</th>\n",
       "      <td>Winter</td>\n",
       "      <td>1.74</td>\n",
       "    </tr>\n",
       "    <tr>\n",
       "      <th>2</th>\n",
       "      <td>Mist_Cloudy</td>\n",
       "      <td>1.55</td>\n",
       "    </tr>\n",
       "    <tr>\n",
       "      <th>1</th>\n",
       "      <td>Light_Snow_Rain_Thunderstorm</td>\n",
       "      <td>1.08</td>\n",
       "    </tr>\n",
       "  </tbody>\n",
       "</table>\n",
       "</div>"
      ],
      "text/plain": [
       "                       Features   VIF\n",
       "8                          temp  5.27\n",
       "7                    workingday  4.64\n",
       "9                     windspeed  4.63\n",
       "3                        Spring  2.25\n",
       "6                            yr  2.07\n",
       "4                        Summer  1.87\n",
       "0                           Sat  1.83\n",
       "5                        Winter  1.74\n",
       "2                   Mist_Cloudy  1.55\n",
       "1  Light_Snow_Rain_Thunderstorm  1.08"
      ]
     },
     "execution_count": 799,
     "metadata": {},
     "output_type": "execute_result"
    }
   ],
   "source": [
    "vif = pd.DataFrame()\n",
    "X = X_train_rfe\n",
    "vif['Features'] = X.columns\n",
    "vif['VIF'] = [variance_inflation_factor(X.values, i) for i in range(X.shape[1])]\n",
    "vif['VIF'] = round(vif['VIF'], 2)\n",
    "vif = vif.sort_values(by = \"VIF\", ascending = False)\n",
    "vif"
   ]
  },
  {
   "cell_type": "code",
   "execution_count": 800,
   "id": "5d44e08d",
   "metadata": {},
   "outputs": [],
   "source": [
    "#adding the columns dropped by RFE and checking 1 by 1 how they effect the model :\n",
    "#ADDING SUNDAY AND CHECKING IF MODEL IMPROVES\n",
    "\n",
    "X_train_rfe['Sun']=X_train['Sun']\n"
   ]
  },
  {
   "cell_type": "code",
   "execution_count": 801,
   "id": "4154bd2f",
   "metadata": {},
   "outputs": [
    {
     "name": "stdout",
     "output_type": "stream",
     "text": [
      "                            OLS Regression Results                            \n",
      "==============================================================================\n",
      "Dep. Variable:                    cnt   R-squared:                       0.829\n",
      "Model:                            OLS   Adj. R-squared:                  0.826\n",
      "Method:                 Least Squares   F-statistic:                     220.1\n",
      "Date:                Tue, 08 Feb 2022   Prob (F-statistic):          2.98e-183\n",
      "Time:                        02:38:46   Log-Likelihood:                 489.48\n",
      "No. Observations:                 510   AIC:                            -955.0\n",
      "Df Residuals:                     498   BIC:                            -904.2\n",
      "Df Model:                          11                                         \n",
      "Covariance Type:            nonrobust                                         \n",
      "================================================================================================\n",
      "                                   coef    std err          t      P>|t|      [0.025      0.975]\n",
      "------------------------------------------------------------------------------------------------\n",
      "const                            0.1331      0.039      3.412      0.001       0.056       0.210\n",
      "Sat                              0.1049      0.028      3.721      0.000       0.050       0.160\n",
      "Light_Snow_Rain_Thunderstorm    -0.2851      0.025    -11.315      0.000      -0.335      -0.236\n",
      "Mist_Cloudy                     -0.0786      0.009     -8.815      0.000      -0.096      -0.061\n",
      "Spring                          -0.0807      0.021     -3.933      0.000      -0.121      -0.040\n",
      "Summer                           0.0380      0.014      2.759      0.006       0.011       0.065\n",
      "Winter                           0.0786      0.017      4.747      0.000       0.046       0.111\n",
      "yr                               0.2341      0.008     27.897      0.000       0.218       0.251\n",
      "workingday                       0.0939      0.027      3.520      0.000       0.041       0.146\n",
      "temp                             0.4680      0.033     13.991      0.000       0.402       0.534\n",
      "windspeed                       -0.1556      0.026     -6.080      0.000      -0.206      -0.105\n",
      "Sun                              0.0448      0.028      1.583      0.114      -0.011       0.100\n",
      "==============================================================================\n",
      "Omnibus:                       69.577   Durbin-Watson:                   2.030\n",
      "Prob(Omnibus):                  0.000   Jarque-Bera (JB):              176.914\n",
      "Skew:                          -0.693   Prob(JB):                     3.83e-39\n",
      "Kurtosis:                       5.531   Cond. No.                         22.3\n",
      "==============================================================================\n",
      "\n",
      "Notes:\n",
      "[1] Standard Errors assume that the covariance matrix of the errors is correctly specified.\n"
     ]
    },
    {
     "name": "stderr",
     "output_type": "stream",
     "text": [
      "C:\\Users\\gandhig\\Anaconda3\\lib\\site-packages\\statsmodels\\tsa\\tsatools.py:142: FutureWarning: In a future version of pandas all arguments of concat except for the argument 'objs' will be keyword-only\n",
      "  x = pd.concat(x[::order], 1)\n"
     ]
    }
   ],
   "source": [
    "X_train_rfe7 = sm.add_constant(X_train_rfe)\n",
    "lm7 = sm.OLS(y_train,X_train_rfe7).fit()\n",
    "print(lm7.summary())"
   ]
  },
  {
   "cell_type": "code",
   "execution_count": 802,
   "id": "54248786",
   "metadata": {},
   "outputs": [],
   "source": [
    "#Sunday has high p-value so we drop it\n",
    "X_train_rfe=X_train_rfe.drop(['Sun'],axis=1)"
   ]
  },
  {
   "cell_type": "code",
   "execution_count": 803,
   "id": "54773784",
   "metadata": {},
   "outputs": [
    {
     "name": "stdout",
     "output_type": "stream",
     "text": [
      "                            OLS Regression Results                            \n",
      "==============================================================================\n",
      "Dep. Variable:                    cnt   R-squared:                       0.829\n",
      "Model:                            OLS   Adj. R-squared:                  0.825\n",
      "Method:                 Least Squares   F-statistic:                     241.2\n",
      "Date:                Tue, 08 Feb 2022   Prob (F-statistic):          6.50e-184\n",
      "Time:                        02:38:46   Log-Likelihood:                 488.20\n",
      "No. Observations:                 510   AIC:                            -954.4\n",
      "Df Residuals:                     499   BIC:                            -907.8\n",
      "Df Model:                          10                                         \n",
      "Covariance Type:            nonrobust                                         \n",
      "================================================================================================\n",
      "                                   coef    std err          t      P>|t|      [0.025      0.975]\n",
      "------------------------------------------------------------------------------------------------\n",
      "const                            0.1709      0.031      5.532      0.000       0.110       0.232\n",
      "Sat                              0.0668      0.015      4.548      0.000       0.038       0.096\n",
      "Light_Snow_Rain_Thunderstorm    -0.2843      0.025    -11.267      0.000      -0.334      -0.235\n",
      "Mist_Cloudy                     -0.0782      0.009     -8.769      0.000      -0.096      -0.061\n",
      "Spring                          -0.0811      0.021     -3.947      0.000      -0.122      -0.041\n",
      "Summer                           0.0386      0.014      2.794      0.005       0.011       0.066\n",
      "Winter                           0.0782      0.017      4.715      0.000       0.046       0.111\n",
      "yr                               0.2342      0.008     27.873      0.000       0.218       0.251\n",
      "workingday                       0.0557      0.011      4.887      0.000       0.033       0.078\n",
      "temp                             0.4688      0.033     13.995      0.000       0.403       0.535\n",
      "windspeed                       -0.1562      0.026     -6.093      0.000      -0.207      -0.106\n",
      "==============================================================================\n",
      "Omnibus:                       73.331   Durbin-Watson:                   2.019\n",
      "Prob(Omnibus):                  0.000   Jarque-Bera (JB):              192.939\n",
      "Skew:                          -0.718   Prob(JB):                     1.27e-42\n",
      "Kurtosis:                       5.649   Cond. No.                         19.1\n",
      "==============================================================================\n",
      "\n",
      "Notes:\n",
      "[1] Standard Errors assume that the covariance matrix of the errors is correctly specified.\n"
     ]
    },
    {
     "name": "stderr",
     "output_type": "stream",
     "text": [
      "C:\\Users\\gandhig\\Anaconda3\\lib\\site-packages\\statsmodels\\tsa\\tsatools.py:142: FutureWarning: In a future version of pandas all arguments of concat except for the argument 'objs' will be keyword-only\n",
      "  x = pd.concat(x[::order], 1)\n"
     ]
    }
   ],
   "source": [
    "X_train_rfe8 = sm.add_constant(X_train_rfe)\n",
    "lm8 = sm.OLS(y_train,X_train_rfe8).fit()\n",
    "print(lm8.summary())"
   ]
  },
  {
   "cell_type": "code",
   "execution_count": 804,
   "id": "b0e1ea0f",
   "metadata": {},
   "outputs": [
    {
     "data": {
      "text/html": [
       "<div>\n",
       "<style scoped>\n",
       "    .dataframe tbody tr th:only-of-type {\n",
       "        vertical-align: middle;\n",
       "    }\n",
       "\n",
       "    .dataframe tbody tr th {\n",
       "        vertical-align: top;\n",
       "    }\n",
       "\n",
       "    .dataframe thead th {\n",
       "        text-align: right;\n",
       "    }\n",
       "</style>\n",
       "<table border=\"1\" class=\"dataframe\">\n",
       "  <thead>\n",
       "    <tr style=\"text-align: right;\">\n",
       "      <th></th>\n",
       "      <th>Features</th>\n",
       "      <th>VIF</th>\n",
       "    </tr>\n",
       "  </thead>\n",
       "  <tbody>\n",
       "    <tr>\n",
       "      <th>8</th>\n",
       "      <td>temp</td>\n",
       "      <td>5.27</td>\n",
       "    </tr>\n",
       "    <tr>\n",
       "      <th>7</th>\n",
       "      <td>workingday</td>\n",
       "      <td>4.64</td>\n",
       "    </tr>\n",
       "    <tr>\n",
       "      <th>9</th>\n",
       "      <td>windspeed</td>\n",
       "      <td>4.63</td>\n",
       "    </tr>\n",
       "    <tr>\n",
       "      <th>3</th>\n",
       "      <td>Spring</td>\n",
       "      <td>2.25</td>\n",
       "    </tr>\n",
       "    <tr>\n",
       "      <th>6</th>\n",
       "      <td>yr</td>\n",
       "      <td>2.07</td>\n",
       "    </tr>\n",
       "    <tr>\n",
       "      <th>4</th>\n",
       "      <td>Summer</td>\n",
       "      <td>1.87</td>\n",
       "    </tr>\n",
       "    <tr>\n",
       "      <th>0</th>\n",
       "      <td>Sat</td>\n",
       "      <td>1.83</td>\n",
       "    </tr>\n",
       "    <tr>\n",
       "      <th>5</th>\n",
       "      <td>Winter</td>\n",
       "      <td>1.74</td>\n",
       "    </tr>\n",
       "    <tr>\n",
       "      <th>2</th>\n",
       "      <td>Mist_Cloudy</td>\n",
       "      <td>1.55</td>\n",
       "    </tr>\n",
       "    <tr>\n",
       "      <th>1</th>\n",
       "      <td>Light_Snow_Rain_Thunderstorm</td>\n",
       "      <td>1.08</td>\n",
       "    </tr>\n",
       "  </tbody>\n",
       "</table>\n",
       "</div>"
      ],
      "text/plain": [
       "                       Features   VIF\n",
       "8                          temp  5.27\n",
       "7                    workingday  4.64\n",
       "9                     windspeed  4.63\n",
       "3                        Spring  2.25\n",
       "6                            yr  2.07\n",
       "4                        Summer  1.87\n",
       "0                           Sat  1.83\n",
       "5                        Winter  1.74\n",
       "2                   Mist_Cloudy  1.55\n",
       "1  Light_Snow_Rain_Thunderstorm  1.08"
      ]
     },
     "execution_count": 804,
     "metadata": {},
     "output_type": "execute_result"
    }
   ],
   "source": [
    "vif = pd.DataFrame()\n",
    "X = X_train_rfe\n",
    "vif['Features'] = X.columns\n",
    "vif['VIF'] = [variance_inflation_factor(X.values, i) for i in range(X.shape[1])]\n",
    "vif['VIF'] = round(vif['VIF'], 2)\n",
    "vif = vif.sort_values(by = \"VIF\", ascending = False)\n",
    "vif"
   ]
  },
  {
   "cell_type": "code",
   "execution_count": 805,
   "id": "da212083",
   "metadata": {},
   "outputs": [],
   "source": [
    "#ADDING Monday TO CHECK IF MODEL IMPROVES\n",
    "X_train_rfe['Mon']=X_train['Mon']"
   ]
  },
  {
   "cell_type": "code",
   "execution_count": 806,
   "id": "1ea88ad6",
   "metadata": {},
   "outputs": [
    {
     "name": "stdout",
     "output_type": "stream",
     "text": [
      "                            OLS Regression Results                            \n",
      "==============================================================================\n",
      "Dep. Variable:                    cnt   R-squared:                       0.830\n",
      "Model:                            OLS   Adj. R-squared:                  0.826\n",
      "Method:                 Least Squares   F-statistic:                     220.4\n",
      "Date:                Tue, 08 Feb 2022   Prob (F-statistic):          2.31e-183\n",
      "Time:                        02:38:46   Log-Likelihood:                 489.75\n",
      "No. Observations:                 510   AIC:                            -955.5\n",
      "Df Residuals:                     498   BIC:                            -904.7\n",
      "Df Model:                          11                                         \n",
      "Covariance Type:            nonrobust                                         \n",
      "================================================================================================\n",
      "                                   coef    std err          t      P>|t|      [0.025      0.975]\n",
      "------------------------------------------------------------------------------------------------\n",
      "const                            0.1742      0.031      5.642      0.000       0.114       0.235\n",
      "Sat                              0.0645      0.015      4.379      0.000       0.036       0.093\n",
      "Light_Snow_Rain_Thunderstorm    -0.2848      0.025    -11.310      0.000      -0.334      -0.235\n",
      "Mist_Cloudy                     -0.0783      0.009     -8.792      0.000      -0.096      -0.061\n",
      "Spring                          -0.0819      0.021     -3.991      0.000      -0.122      -0.042\n",
      "Summer                           0.0385      0.014      2.791      0.005       0.011       0.066\n",
      "Winter                           0.0784      0.017      4.738      0.000       0.046       0.111\n",
      "yr                               0.2350      0.008     27.982      0.000       0.219       0.252\n",
      "workingday                       0.0574      0.011      5.027      0.000       0.035       0.080\n",
      "temp                             0.4664      0.033     13.941      0.000       0.401       0.532\n",
      "windspeed                       -0.1560      0.026     -6.100      0.000      -0.206      -0.106\n",
      "Mon                             -0.0206      0.012     -1.739      0.083      -0.044       0.003\n",
      "==============================================================================\n",
      "Omnibus:                       73.880   Durbin-Watson:                   2.025\n",
      "Prob(Omnibus):                  0.000   Jarque-Bera (JB):              193.612\n",
      "Skew:                          -0.724   Prob(JB):                     9.07e-43\n",
      "Kurtosis:                       5.648   Cond. No.                         19.2\n",
      "==============================================================================\n",
      "\n",
      "Notes:\n",
      "[1] Standard Errors assume that the covariance matrix of the errors is correctly specified.\n"
     ]
    },
    {
     "name": "stderr",
     "output_type": "stream",
     "text": [
      "C:\\Users\\gandhig\\Anaconda3\\lib\\site-packages\\statsmodels\\tsa\\tsatools.py:142: FutureWarning: In a future version of pandas all arguments of concat except for the argument 'objs' will be keyword-only\n",
      "  x = pd.concat(x[::order], 1)\n"
     ]
    }
   ],
   "source": [
    "X_train_rfe9 = sm.add_constant(X_train_rfe)\n",
    "lm9 = sm.OLS(y_train,X_train_rfe9).fit()\n",
    "print(lm9.summary())"
   ]
  },
  {
   "cell_type": "code",
   "execution_count": 807,
   "id": "2bc62947",
   "metadata": {},
   "outputs": [],
   "source": [
    "#Monday has high p-value so we drop it\n",
    "X_train_rfe=X_train_rfe.drop(['Mon'],axis=1)"
   ]
  },
  {
   "cell_type": "code",
   "execution_count": 808,
   "id": "bd15efd6",
   "metadata": {},
   "outputs": [
    {
     "name": "stdout",
     "output_type": "stream",
     "text": [
      "                            OLS Regression Results                            \n",
      "==============================================================================\n",
      "Dep. Variable:                    cnt   R-squared:                       0.829\n",
      "Model:                            OLS   Adj. R-squared:                  0.825\n",
      "Method:                 Least Squares   F-statistic:                     241.2\n",
      "Date:                Tue, 08 Feb 2022   Prob (F-statistic):          6.50e-184\n",
      "Time:                        02:38:46   Log-Likelihood:                 488.20\n",
      "No. Observations:                 510   AIC:                            -954.4\n",
      "Df Residuals:                     499   BIC:                            -907.8\n",
      "Df Model:                          10                                         \n",
      "Covariance Type:            nonrobust                                         \n",
      "================================================================================================\n",
      "                                   coef    std err          t      P>|t|      [0.025      0.975]\n",
      "------------------------------------------------------------------------------------------------\n",
      "const                            0.1709      0.031      5.532      0.000       0.110       0.232\n",
      "Sat                              0.0668      0.015      4.548      0.000       0.038       0.096\n",
      "Light_Snow_Rain_Thunderstorm    -0.2843      0.025    -11.267      0.000      -0.334      -0.235\n",
      "Mist_Cloudy                     -0.0782      0.009     -8.769      0.000      -0.096      -0.061\n",
      "Spring                          -0.0811      0.021     -3.947      0.000      -0.122      -0.041\n",
      "Summer                           0.0386      0.014      2.794      0.005       0.011       0.066\n",
      "Winter                           0.0782      0.017      4.715      0.000       0.046       0.111\n",
      "yr                               0.2342      0.008     27.873      0.000       0.218       0.251\n",
      "workingday                       0.0557      0.011      4.887      0.000       0.033       0.078\n",
      "temp                             0.4688      0.033     13.995      0.000       0.403       0.535\n",
      "windspeed                       -0.1562      0.026     -6.093      0.000      -0.207      -0.106\n",
      "==============================================================================\n",
      "Omnibus:                       73.331   Durbin-Watson:                   2.019\n",
      "Prob(Omnibus):                  0.000   Jarque-Bera (JB):              192.939\n",
      "Skew:                          -0.718   Prob(JB):                     1.27e-42\n",
      "Kurtosis:                       5.649   Cond. No.                         19.1\n",
      "==============================================================================\n",
      "\n",
      "Notes:\n",
      "[1] Standard Errors assume that the covariance matrix of the errors is correctly specified.\n"
     ]
    },
    {
     "name": "stderr",
     "output_type": "stream",
     "text": [
      "C:\\Users\\gandhig\\Anaconda3\\lib\\site-packages\\statsmodels\\tsa\\tsatools.py:142: FutureWarning: In a future version of pandas all arguments of concat except for the argument 'objs' will be keyword-only\n",
      "  x = pd.concat(x[::order], 1)\n"
     ]
    }
   ],
   "source": [
    "X_train_rfe10 = sm.add_constant(X_train_rfe)\n",
    "lm10 = sm.OLS(y_train,X_train_rfe10).fit()\n",
    "print(lm10.summary())"
   ]
  },
  {
   "cell_type": "code",
   "execution_count": 809,
   "id": "2215df30",
   "metadata": {},
   "outputs": [
    {
     "data": {
      "text/html": [
       "<div>\n",
       "<style scoped>\n",
       "    .dataframe tbody tr th:only-of-type {\n",
       "        vertical-align: middle;\n",
       "    }\n",
       "\n",
       "    .dataframe tbody tr th {\n",
       "        vertical-align: top;\n",
       "    }\n",
       "\n",
       "    .dataframe thead th {\n",
       "        text-align: right;\n",
       "    }\n",
       "</style>\n",
       "<table border=\"1\" class=\"dataframe\">\n",
       "  <thead>\n",
       "    <tr style=\"text-align: right;\">\n",
       "      <th></th>\n",
       "      <th>Features</th>\n",
       "      <th>VIF</th>\n",
       "    </tr>\n",
       "  </thead>\n",
       "  <tbody>\n",
       "    <tr>\n",
       "      <th>8</th>\n",
       "      <td>temp</td>\n",
       "      <td>5.27</td>\n",
       "    </tr>\n",
       "    <tr>\n",
       "      <th>7</th>\n",
       "      <td>workingday</td>\n",
       "      <td>4.64</td>\n",
       "    </tr>\n",
       "    <tr>\n",
       "      <th>9</th>\n",
       "      <td>windspeed</td>\n",
       "      <td>4.63</td>\n",
       "    </tr>\n",
       "    <tr>\n",
       "      <th>3</th>\n",
       "      <td>Spring</td>\n",
       "      <td>2.25</td>\n",
       "    </tr>\n",
       "    <tr>\n",
       "      <th>6</th>\n",
       "      <td>yr</td>\n",
       "      <td>2.07</td>\n",
       "    </tr>\n",
       "    <tr>\n",
       "      <th>4</th>\n",
       "      <td>Summer</td>\n",
       "      <td>1.87</td>\n",
       "    </tr>\n",
       "    <tr>\n",
       "      <th>0</th>\n",
       "      <td>Sat</td>\n",
       "      <td>1.83</td>\n",
       "    </tr>\n",
       "    <tr>\n",
       "      <th>5</th>\n",
       "      <td>Winter</td>\n",
       "      <td>1.74</td>\n",
       "    </tr>\n",
       "    <tr>\n",
       "      <th>2</th>\n",
       "      <td>Mist_Cloudy</td>\n",
       "      <td>1.55</td>\n",
       "    </tr>\n",
       "    <tr>\n",
       "      <th>1</th>\n",
       "      <td>Light_Snow_Rain_Thunderstorm</td>\n",
       "      <td>1.08</td>\n",
       "    </tr>\n",
       "  </tbody>\n",
       "</table>\n",
       "</div>"
      ],
      "text/plain": [
       "                       Features   VIF\n",
       "8                          temp  5.27\n",
       "7                    workingday  4.64\n",
       "9                     windspeed  4.63\n",
       "3                        Spring  2.25\n",
       "6                            yr  2.07\n",
       "4                        Summer  1.87\n",
       "0                           Sat  1.83\n",
       "5                        Winter  1.74\n",
       "2                   Mist_Cloudy  1.55\n",
       "1  Light_Snow_Rain_Thunderstorm  1.08"
      ]
     },
     "execution_count": 809,
     "metadata": {},
     "output_type": "execute_result"
    }
   ],
   "source": [
    "vif = pd.DataFrame()\n",
    "X = X_train_rfe\n",
    "vif['Features'] = X.columns\n",
    "vif['VIF'] = [variance_inflation_factor(X.values, i) for i in range(X.shape[1])]\n",
    "vif['VIF'] = round(vif['VIF'], 2)\n",
    "vif = vif.sort_values(by = \"VIF\", ascending = False)\n",
    "vif"
   ]
  },
  {
   "cell_type": "code",
   "execution_count": 810,
   "id": "625948ce",
   "metadata": {},
   "outputs": [],
   "source": [
    "#ADDING Tuesday TO CHECK IF MODEL IMPROVES\n",
    "X_train_rfe['Tue']=X_train['Tue']"
   ]
  },
  {
   "cell_type": "code",
   "execution_count": 811,
   "id": "03cc71ff",
   "metadata": {},
   "outputs": [
    {
     "name": "stdout",
     "output_type": "stream",
     "text": [
      "                            OLS Regression Results                            \n",
      "==============================================================================\n",
      "Dep. Variable:                    cnt   R-squared:                       0.829\n",
      "Model:                            OLS   Adj. R-squared:                  0.825\n",
      "Method:                 Least Squares   F-statistic:                     219.2\n",
      "Date:                Tue, 08 Feb 2022   Prob (F-statistic):          6.91e-183\n",
      "Time:                        02:38:46   Log-Likelihood:                 488.62\n",
      "No. Observations:                 510   AIC:                            -953.2\n",
      "Df Residuals:                     498   BIC:                            -902.4\n",
      "Df Model:                          11                                         \n",
      "Covariance Type:            nonrobust                                         \n",
      "================================================================================================\n",
      "                                   coef    std err          t      P>|t|      [0.025      0.975]\n",
      "------------------------------------------------------------------------------------------------\n",
      "const                            0.1701      0.031      5.507      0.000       0.109       0.231\n",
      "Sat                              0.0668      0.015      4.550      0.000       0.038       0.096\n",
      "Light_Snow_Rain_Thunderstorm    -0.2853      0.025    -11.294      0.000      -0.335      -0.236\n",
      "Mist_Cloudy                     -0.0783      0.009     -8.779      0.000      -0.096      -0.061\n",
      "Spring                          -0.0809      0.021     -3.934      0.000      -0.121      -0.040\n",
      "Summer                           0.0388      0.014      2.808      0.005       0.012       0.066\n",
      "Winter                           0.0786      0.017      4.735      0.000       0.046       0.111\n",
      "yr                               0.2341      0.008     27.849      0.000       0.218       0.251\n",
      "workingday                       0.0580      0.012      4.966      0.000       0.035       0.081\n",
      "temp                             0.4697      0.034     14.014      0.000       0.404       0.536\n",
      "windspeed                       -0.1558      0.026     -6.077      0.000      -0.206      -0.105\n",
      "Tue                             -0.0115      0.013     -0.902      0.368      -0.037       0.014\n",
      "==============================================================================\n",
      "Omnibus:                       73.220   Durbin-Watson:                   2.022\n",
      "Prob(Omnibus):                  0.000   Jarque-Bera (JB):              189.949\n",
      "Skew:                          -0.721   Prob(JB):                     5.66e-42\n",
      "Kurtosis:                       5.619   Cond. No.                         19.2\n",
      "==============================================================================\n",
      "\n",
      "Notes:\n",
      "[1] Standard Errors assume that the covariance matrix of the errors is correctly specified.\n"
     ]
    },
    {
     "name": "stderr",
     "output_type": "stream",
     "text": [
      "C:\\Users\\gandhig\\Anaconda3\\lib\\site-packages\\statsmodels\\tsa\\tsatools.py:142: FutureWarning: In a future version of pandas all arguments of concat except for the argument 'objs' will be keyword-only\n",
      "  x = pd.concat(x[::order], 1)\n"
     ]
    }
   ],
   "source": [
    "X_train_rfe11 = sm.add_constant(X_train_rfe)\n",
    "lm11 = sm.OLS(y_train,X_train_rfe11).fit()\n",
    "print(lm11.summary())"
   ]
  },
  {
   "cell_type": "code",
   "execution_count": 812,
   "id": "cb42301c",
   "metadata": {},
   "outputs": [],
   "source": [
    "#Tueday has high p-value so we drop it\n",
    "X_train_rfe=X_train_rfe.drop(['Tue'],axis=1)"
   ]
  },
  {
   "cell_type": "code",
   "execution_count": 813,
   "id": "61c5e863",
   "metadata": {},
   "outputs": [
    {
     "name": "stdout",
     "output_type": "stream",
     "text": [
      "                            OLS Regression Results                            \n",
      "==============================================================================\n",
      "Dep. Variable:                    cnt   R-squared:                       0.829\n",
      "Model:                            OLS   Adj. R-squared:                  0.825\n",
      "Method:                 Least Squares   F-statistic:                     241.2\n",
      "Date:                Tue, 08 Feb 2022   Prob (F-statistic):          6.50e-184\n",
      "Time:                        02:38:46   Log-Likelihood:                 488.20\n",
      "No. Observations:                 510   AIC:                            -954.4\n",
      "Df Residuals:                     499   BIC:                            -907.8\n",
      "Df Model:                          10                                         \n",
      "Covariance Type:            nonrobust                                         \n",
      "================================================================================================\n",
      "                                   coef    std err          t      P>|t|      [0.025      0.975]\n",
      "------------------------------------------------------------------------------------------------\n",
      "const                            0.1709      0.031      5.532      0.000       0.110       0.232\n",
      "Sat                              0.0668      0.015      4.548      0.000       0.038       0.096\n",
      "Light_Snow_Rain_Thunderstorm    -0.2843      0.025    -11.267      0.000      -0.334      -0.235\n",
      "Mist_Cloudy                     -0.0782      0.009     -8.769      0.000      -0.096      -0.061\n",
      "Spring                          -0.0811      0.021     -3.947      0.000      -0.122      -0.041\n",
      "Summer                           0.0386      0.014      2.794      0.005       0.011       0.066\n",
      "Winter                           0.0782      0.017      4.715      0.000       0.046       0.111\n",
      "yr                               0.2342      0.008     27.873      0.000       0.218       0.251\n",
      "workingday                       0.0557      0.011      4.887      0.000       0.033       0.078\n",
      "temp                             0.4688      0.033     13.995      0.000       0.403       0.535\n",
      "windspeed                       -0.1562      0.026     -6.093      0.000      -0.207      -0.106\n",
      "==============================================================================\n",
      "Omnibus:                       73.331   Durbin-Watson:                   2.019\n",
      "Prob(Omnibus):                  0.000   Jarque-Bera (JB):              192.939\n",
      "Skew:                          -0.718   Prob(JB):                     1.27e-42\n",
      "Kurtosis:                       5.649   Cond. No.                         19.1\n",
      "==============================================================================\n",
      "\n",
      "Notes:\n",
      "[1] Standard Errors assume that the covariance matrix of the errors is correctly specified.\n"
     ]
    },
    {
     "name": "stderr",
     "output_type": "stream",
     "text": [
      "C:\\Users\\gandhig\\Anaconda3\\lib\\site-packages\\statsmodels\\tsa\\tsatools.py:142: FutureWarning: In a future version of pandas all arguments of concat except for the argument 'objs' will be keyword-only\n",
      "  x = pd.concat(x[::order], 1)\n"
     ]
    }
   ],
   "source": [
    "X_train_rfe12 = sm.add_constant(X_train_rfe)\n",
    "lm12 = sm.OLS(y_train,X_train_rfe12).fit()\n",
    "print(lm12.summary())"
   ]
  },
  {
   "cell_type": "code",
   "execution_count": 814,
   "id": "75a2e6dd",
   "metadata": {},
   "outputs": [],
   "source": [
    "#ADDING Wednesday AND CHECKING IF MODEL IMPROVES\n",
    "\n",
    "X_train_rfe['Wed']=X_train['Wed']\n"
   ]
  },
  {
   "cell_type": "code",
   "execution_count": 815,
   "id": "42eb766c",
   "metadata": {},
   "outputs": [
    {
     "name": "stderr",
     "output_type": "stream",
     "text": [
      "C:\\Users\\gandhig\\Anaconda3\\lib\\site-packages\\statsmodels\\tsa\\tsatools.py:142: FutureWarning: In a future version of pandas all arguments of concat except for the argument 'objs' will be keyword-only\n",
      "  x = pd.concat(x[::order], 1)\n"
     ]
    },
    {
     "name": "stdout",
     "output_type": "stream",
     "text": [
      "                            OLS Regression Results                            \n",
      "==============================================================================\n",
      "Dep. Variable:                    cnt   R-squared:                       0.829\n",
      "Model:                            OLS   Adj. R-squared:                  0.825\n",
      "Method:                 Least Squares   F-statistic:                     219.1\n",
      "Date:                Tue, 08 Feb 2022   Prob (F-statistic):          7.92e-183\n",
      "Time:                        02:38:46   Log-Likelihood:                 488.48\n",
      "No. Observations:                 510   AIC:                            -953.0\n",
      "Df Residuals:                     498   BIC:                            -902.1\n",
      "Df Model:                          11                                         \n",
      "Covariance Type:            nonrobust                                         \n",
      "================================================================================================\n",
      "                                   coef    std err          t      P>|t|      [0.025      0.975]\n",
      "------------------------------------------------------------------------------------------------\n",
      "const                            0.1715      0.031      5.547      0.000       0.111       0.232\n",
      "Sat                              0.0668      0.015      4.549      0.000       0.038       0.096\n",
      "Light_Snow_Rain_Thunderstorm    -0.2858      0.025    -11.284      0.000      -0.336      -0.236\n",
      "Mist_Cloudy                     -0.0782      0.009     -8.766      0.000      -0.096      -0.061\n",
      "Spring                          -0.0817      0.021     -3.970      0.000      -0.122      -0.041\n",
      "Summer                           0.0381      0.014      2.756      0.006       0.011       0.065\n",
      "Winter                           0.0779      0.017      4.695      0.000       0.045       0.111\n",
      "yr                               0.2343      0.008     27.866      0.000       0.218       0.251\n",
      "workingday                       0.0537      0.012      4.576      0.000       0.031       0.077\n",
      "temp                             0.4680      0.034     13.958      0.000       0.402       0.534\n",
      "windspeed                       -0.1558      0.026     -6.074      0.000      -0.206      -0.105\n",
      "Wed                              0.0088      0.012      0.735      0.463      -0.015       0.032\n",
      "==============================================================================\n",
      "Omnibus:                       72.347   Durbin-Watson:                   2.019\n",
      "Prob(Omnibus):                  0.000   Jarque-Bera (JB):              189.526\n",
      "Skew:                          -0.710   Prob(JB):                     7.00e-42\n",
      "Kurtosis:                       5.628   Cond. No.                         19.2\n",
      "==============================================================================\n",
      "\n",
      "Notes:\n",
      "[1] Standard Errors assume that the covariance matrix of the errors is correctly specified.\n"
     ]
    }
   ],
   "source": [
    "X_train_rfe13 = sm.add_constant(X_train_rfe)\n",
    "lm13 = sm.OLS(y_train,X_train_rfe13).fit()\n",
    "print(lm13.summary())"
   ]
  },
  {
   "cell_type": "code",
   "execution_count": 816,
   "id": "098e2c9a",
   "metadata": {},
   "outputs": [],
   "source": [
    "#Wednesday has high p-value so we drop it\n",
    "X_train_rfe=X_train_rfe.drop(['Wed'],axis=1)"
   ]
  },
  {
   "cell_type": "code",
   "execution_count": 817,
   "id": "f4a233e1",
   "metadata": {},
   "outputs": [
    {
     "name": "stdout",
     "output_type": "stream",
     "text": [
      "                            OLS Regression Results                            \n",
      "==============================================================================\n",
      "Dep. Variable:                    cnt   R-squared:                       0.829\n",
      "Model:                            OLS   Adj. R-squared:                  0.825\n",
      "Method:                 Least Squares   F-statistic:                     241.2\n",
      "Date:                Tue, 08 Feb 2022   Prob (F-statistic):          6.50e-184\n",
      "Time:                        02:38:46   Log-Likelihood:                 488.20\n",
      "No. Observations:                 510   AIC:                            -954.4\n",
      "Df Residuals:                     499   BIC:                            -907.8\n",
      "Df Model:                          10                                         \n",
      "Covariance Type:            nonrobust                                         \n",
      "================================================================================================\n",
      "                                   coef    std err          t      P>|t|      [0.025      0.975]\n",
      "------------------------------------------------------------------------------------------------\n",
      "const                            0.1709      0.031      5.532      0.000       0.110       0.232\n",
      "Sat                              0.0668      0.015      4.548      0.000       0.038       0.096\n",
      "Light_Snow_Rain_Thunderstorm    -0.2843      0.025    -11.267      0.000      -0.334      -0.235\n",
      "Mist_Cloudy                     -0.0782      0.009     -8.769      0.000      -0.096      -0.061\n",
      "Spring                          -0.0811      0.021     -3.947      0.000      -0.122      -0.041\n",
      "Summer                           0.0386      0.014      2.794      0.005       0.011       0.066\n",
      "Winter                           0.0782      0.017      4.715      0.000       0.046       0.111\n",
      "yr                               0.2342      0.008     27.873      0.000       0.218       0.251\n",
      "workingday                       0.0557      0.011      4.887      0.000       0.033       0.078\n",
      "temp                             0.4688      0.033     13.995      0.000       0.403       0.535\n",
      "windspeed                       -0.1562      0.026     -6.093      0.000      -0.207      -0.106\n",
      "==============================================================================\n",
      "Omnibus:                       73.331   Durbin-Watson:                   2.019\n",
      "Prob(Omnibus):                  0.000   Jarque-Bera (JB):              192.939\n",
      "Skew:                          -0.718   Prob(JB):                     1.27e-42\n",
      "Kurtosis:                       5.649   Cond. No.                         19.1\n",
      "==============================================================================\n",
      "\n",
      "Notes:\n",
      "[1] Standard Errors assume that the covariance matrix of the errors is correctly specified.\n"
     ]
    },
    {
     "name": "stderr",
     "output_type": "stream",
     "text": [
      "C:\\Users\\gandhig\\Anaconda3\\lib\\site-packages\\statsmodels\\tsa\\tsatools.py:142: FutureWarning: In a future version of pandas all arguments of concat except for the argument 'objs' will be keyword-only\n",
      "  x = pd.concat(x[::order], 1)\n"
     ]
    }
   ],
   "source": [
    "X_train_rfe14 = sm.add_constant(X_train_rfe)\n",
    "lm14 = sm.OLS(y_train,X_train_rfe14).fit()\n",
    "print(lm14.summary())"
   ]
  },
  {
   "cell_type": "code",
   "execution_count": 818,
   "id": "bfa542ee",
   "metadata": {},
   "outputs": [],
   "source": [
    "#ADDING Thursday AND CHECKING IF MODEL IMPROVES\n",
    "\n",
    "X_train_rfe['Thu']=X_train['Thu']\n"
   ]
  },
  {
   "cell_type": "code",
   "execution_count": 819,
   "id": "d1dd2862",
   "metadata": {},
   "outputs": [
    {
     "name": "stdout",
     "output_type": "stream",
     "text": [
      "                            OLS Regression Results                            \n",
      "==============================================================================\n",
      "Dep. Variable:                    cnt   R-squared:                       0.829\n",
      "Model:                            OLS   Adj. R-squared:                  0.825\n",
      "Method:                 Least Squares   F-statistic:                     218.8\n",
      "Date:                Tue, 08 Feb 2022   Prob (F-statistic):          1.02e-182\n",
      "Time:                        02:38:46   Log-Likelihood:                 488.22\n",
      "No. Observations:                 510   AIC:                            -952.4\n",
      "Df Residuals:                     498   BIC:                            -901.6\n",
      "Df Model:                          11                                         \n",
      "Covariance Type:            nonrobust                                         \n",
      "================================================================================================\n",
      "                                   coef    std err          t      P>|t|      [0.025      0.975]\n",
      "------------------------------------------------------------------------------------------------\n",
      "const                            0.1706      0.031      5.515      0.000       0.110       0.231\n",
      "Sat                              0.0669      0.015      4.547      0.000       0.038       0.096\n",
      "Light_Snow_Rain_Thunderstorm    -0.2844      0.025    -11.258      0.000      -0.334      -0.235\n",
      "Mist_Cloudy                     -0.0781      0.009     -8.732      0.000      -0.096      -0.061\n",
      "Spring                          -0.0811      0.021     -3.939      0.000      -0.121      -0.041\n",
      "Summer                           0.0387      0.014      2.796      0.005       0.012       0.066\n",
      "Winter                           0.0783      0.017      4.713      0.000       0.046       0.111\n",
      "yr                               0.2343      0.008     27.847      0.000       0.218       0.251\n",
      "workingday                       0.0553      0.012      4.758      0.000       0.032       0.078\n",
      "temp                             0.4689      0.034     13.983      0.000       0.403       0.535\n",
      "windspeed                       -0.1562      0.026     -6.088      0.000      -0.207      -0.106\n",
      "Thu                              0.0026      0.013      0.201      0.840      -0.022       0.027\n",
      "==============================================================================\n",
      "Omnibus:                       73.603   Durbin-Watson:                   2.018\n",
      "Prob(Omnibus):                  0.000   Jarque-Bera (JB):              193.958\n",
      "Skew:                          -0.720   Prob(JB):                     7.63e-43\n",
      "Kurtosis:                       5.656   Cond. No.                         19.2\n",
      "==============================================================================\n",
      "\n",
      "Notes:\n",
      "[1] Standard Errors assume that the covariance matrix of the errors is correctly specified.\n"
     ]
    },
    {
     "name": "stderr",
     "output_type": "stream",
     "text": [
      "C:\\Users\\gandhig\\Anaconda3\\lib\\site-packages\\statsmodels\\tsa\\tsatools.py:142: FutureWarning: In a future version of pandas all arguments of concat except for the argument 'objs' will be keyword-only\n",
      "  x = pd.concat(x[::order], 1)\n"
     ]
    }
   ],
   "source": [
    "X_train_rfe15 = sm.add_constant(X_train_rfe)\n",
    "lm15 = sm.OLS(y_train,X_train_rfe15).fit()\n",
    "print(lm15.summary())"
   ]
  },
  {
   "cell_type": "code",
   "execution_count": 820,
   "id": "2c9180a6",
   "metadata": {},
   "outputs": [],
   "source": [
    "#Thursday has high p-value so we drop it\n",
    "X_train_rfe=X_train_rfe.drop(['Thu'],axis=1)"
   ]
  },
  {
   "cell_type": "code",
   "execution_count": 821,
   "id": "e7b72062",
   "metadata": {
    "scrolled": true
   },
   "outputs": [
    {
     "name": "stdout",
     "output_type": "stream",
     "text": [
      "                            OLS Regression Results                            \n",
      "==============================================================================\n",
      "Dep. Variable:                    cnt   R-squared:                       0.829\n",
      "Model:                            OLS   Adj. R-squared:                  0.825\n",
      "Method:                 Least Squares   F-statistic:                     241.2\n",
      "Date:                Tue, 08 Feb 2022   Prob (F-statistic):          6.50e-184\n",
      "Time:                        02:38:46   Log-Likelihood:                 488.20\n",
      "No. Observations:                 510   AIC:                            -954.4\n",
      "Df Residuals:                     499   BIC:                            -907.8\n",
      "Df Model:                          10                                         \n",
      "Covariance Type:            nonrobust                                         \n",
      "================================================================================================\n",
      "                                   coef    std err          t      P>|t|      [0.025      0.975]\n",
      "------------------------------------------------------------------------------------------------\n",
      "const                            0.1709      0.031      5.532      0.000       0.110       0.232\n",
      "Sat                              0.0668      0.015      4.548      0.000       0.038       0.096\n",
      "Light_Snow_Rain_Thunderstorm    -0.2843      0.025    -11.267      0.000      -0.334      -0.235\n",
      "Mist_Cloudy                     -0.0782      0.009     -8.769      0.000      -0.096      -0.061\n",
      "Spring                          -0.0811      0.021     -3.947      0.000      -0.122      -0.041\n",
      "Summer                           0.0386      0.014      2.794      0.005       0.011       0.066\n",
      "Winter                           0.0782      0.017      4.715      0.000       0.046       0.111\n",
      "yr                               0.2342      0.008     27.873      0.000       0.218       0.251\n",
      "workingday                       0.0557      0.011      4.887      0.000       0.033       0.078\n",
      "temp                             0.4688      0.033     13.995      0.000       0.403       0.535\n",
      "windspeed                       -0.1562      0.026     -6.093      0.000      -0.207      -0.106\n",
      "==============================================================================\n",
      "Omnibus:                       73.331   Durbin-Watson:                   2.019\n",
      "Prob(Omnibus):                  0.000   Jarque-Bera (JB):              192.939\n",
      "Skew:                          -0.718   Prob(JB):                     1.27e-42\n",
      "Kurtosis:                       5.649   Cond. No.                         19.1\n",
      "==============================================================================\n",
      "\n",
      "Notes:\n",
      "[1] Standard Errors assume that the covariance matrix of the errors is correctly specified.\n"
     ]
    },
    {
     "name": "stderr",
     "output_type": "stream",
     "text": [
      "C:\\Users\\gandhig\\Anaconda3\\lib\\site-packages\\statsmodels\\tsa\\tsatools.py:142: FutureWarning: In a future version of pandas all arguments of concat except for the argument 'objs' will be keyword-only\n",
      "  x = pd.concat(x[::order], 1)\n"
     ]
    }
   ],
   "source": [
    "X_train_rfe16 = sm.add_constant(X_train_rfe)\n",
    "lm16 = sm.OLS(y_train,X_train_rfe16).fit()\n",
    "print(lm16.summary())"
   ]
  },
  {
   "cell_type": "code",
   "execution_count": null,
   "id": "13322e58",
   "metadata": {},
   "outputs": [],
   "source": []
  },
  {
   "cell_type": "code",
   "execution_count": null,
   "id": "0ad5030d",
   "metadata": {},
   "outputs": [],
   "source": []
  },
  {
   "cell_type": "code",
   "execution_count": null,
   "id": "f478902a",
   "metadata": {},
   "outputs": [],
   "source": []
  },
  {
   "cell_type": "code",
   "execution_count": 822,
   "id": "58428f65",
   "metadata": {},
   "outputs": [],
   "source": [
    "#ADDING March AND CHECKING IF MODEL IMPROVES\n",
    "\n",
    "X_train_rfe['Mar']=X_train['Mar']\n"
   ]
  },
  {
   "cell_type": "code",
   "execution_count": 823,
   "id": "02b95606",
   "metadata": {},
   "outputs": [
    {
     "name": "stdout",
     "output_type": "stream",
     "text": [
      "                            OLS Regression Results                            \n",
      "==============================================================================\n",
      "Dep. Variable:                    cnt   R-squared:                       0.830\n",
      "Model:                            OLS   Adj. R-squared:                  0.826\n",
      "Method:                 Least Squares   F-statistic:                     220.9\n",
      "Date:                Tue, 08 Feb 2022   Prob (F-statistic):          1.45e-183\n",
      "Time:                        02:38:46   Log-Likelihood:                 490.23\n",
      "No. Observations:                 510   AIC:                            -956.5\n",
      "Df Residuals:                     498   BIC:                            -905.6\n",
      "Df Model:                          11                                         \n",
      "Covariance Type:            nonrobust                                         \n",
      "================================================================================================\n",
      "                                   coef    std err          t      P>|t|      [0.025      0.975]\n",
      "------------------------------------------------------------------------------------------------\n",
      "const                            0.1751      0.031      5.673      0.000       0.114       0.236\n",
      "Sat                              0.0653      0.015      4.450      0.000       0.036       0.094\n",
      "Light_Snow_Rain_Thunderstorm    -0.2863      0.025    -11.373      0.000      -0.336      -0.237\n",
      "Mist_Cloudy                     -0.0781      0.009     -8.776      0.000      -0.096      -0.061\n",
      "Spring                          -0.0900      0.021     -4.293      0.000      -0.131      -0.049\n",
      "Summer                           0.0339      0.014      2.425      0.016       0.006       0.061\n",
      "Winter                           0.0773      0.017      4.671      0.000       0.045       0.110\n",
      "yr                               0.2342      0.008     27.950      0.000       0.218       0.251\n",
      "workingday                       0.0543      0.011      4.765      0.000       0.032       0.077\n",
      "temp                             0.4660      0.033     13.941      0.000       0.400       0.532\n",
      "windspeed                       -0.1590      0.026     -6.211      0.000      -0.209      -0.109\n",
      "Mar                              0.0300      0.015      1.992      0.047       0.000       0.060\n",
      "==============================================================================\n",
      "Omnibus:                       75.858   Durbin-Watson:                   2.018\n",
      "Prob(Omnibus):                  0.000   Jarque-Bera (JB):              193.490\n",
      "Skew:                          -0.752   Prob(JB):                     9.64e-43\n",
      "Kurtosis:                       5.616   Cond. No.                         19.2\n",
      "==============================================================================\n",
      "\n",
      "Notes:\n",
      "[1] Standard Errors assume that the covariance matrix of the errors is correctly specified.\n"
     ]
    },
    {
     "name": "stderr",
     "output_type": "stream",
     "text": [
      "C:\\Users\\gandhig\\Anaconda3\\lib\\site-packages\\statsmodels\\tsa\\tsatools.py:142: FutureWarning: In a future version of pandas all arguments of concat except for the argument 'objs' will be keyword-only\n",
      "  x = pd.concat(x[::order], 1)\n"
     ]
    }
   ],
   "source": [
    "X_train_rfe17 = sm.add_constant(X_train_rfe)\n",
    "lm17 = sm.OLS(y_train,X_train_rfe17).fit()\n",
    "print(lm17.summary())"
   ]
  },
  {
   "cell_type": "code",
   "execution_count": 824,
   "id": "9a6b156f",
   "metadata": {
    "scrolled": true
   },
   "outputs": [
    {
     "data": {
      "text/html": [
       "<div>\n",
       "<style scoped>\n",
       "    .dataframe tbody tr th:only-of-type {\n",
       "        vertical-align: middle;\n",
       "    }\n",
       "\n",
       "    .dataframe tbody tr th {\n",
       "        vertical-align: top;\n",
       "    }\n",
       "\n",
       "    .dataframe thead th {\n",
       "        text-align: right;\n",
       "    }\n",
       "</style>\n",
       "<table border=\"1\" class=\"dataframe\">\n",
       "  <thead>\n",
       "    <tr style=\"text-align: right;\">\n",
       "      <th></th>\n",
       "      <th>Features</th>\n",
       "      <th>VIF</th>\n",
       "    </tr>\n",
       "  </thead>\n",
       "  <tbody>\n",
       "    <tr>\n",
       "      <th>8</th>\n",
       "      <td>temp</td>\n",
       "      <td>5.28</td>\n",
       "    </tr>\n",
       "    <tr>\n",
       "      <th>7</th>\n",
       "      <td>workingday</td>\n",
       "      <td>4.65</td>\n",
       "    </tr>\n",
       "    <tr>\n",
       "      <th>9</th>\n",
       "      <td>windspeed</td>\n",
       "      <td>4.64</td>\n",
       "    </tr>\n",
       "    <tr>\n",
       "      <th>3</th>\n",
       "      <td>Spring</td>\n",
       "      <td>2.41</td>\n",
       "    </tr>\n",
       "    <tr>\n",
       "      <th>6</th>\n",
       "      <td>yr</td>\n",
       "      <td>2.07</td>\n",
       "    </tr>\n",
       "    <tr>\n",
       "      <th>4</th>\n",
       "      <td>Summer</td>\n",
       "      <td>1.92</td>\n",
       "    </tr>\n",
       "    <tr>\n",
       "      <th>0</th>\n",
       "      <td>Sat</td>\n",
       "      <td>1.83</td>\n",
       "    </tr>\n",
       "    <tr>\n",
       "      <th>5</th>\n",
       "      <td>Winter</td>\n",
       "      <td>1.75</td>\n",
       "    </tr>\n",
       "    <tr>\n",
       "      <th>2</th>\n",
       "      <td>Mist_Cloudy</td>\n",
       "      <td>1.55</td>\n",
       "    </tr>\n",
       "    <tr>\n",
       "      <th>10</th>\n",
       "      <td>Mar</td>\n",
       "      <td>1.29</td>\n",
       "    </tr>\n",
       "    <tr>\n",
       "      <th>1</th>\n",
       "      <td>Light_Snow_Rain_Thunderstorm</td>\n",
       "      <td>1.08</td>\n",
       "    </tr>\n",
       "  </tbody>\n",
       "</table>\n",
       "</div>"
      ],
      "text/plain": [
       "                        Features   VIF\n",
       "8                           temp  5.28\n",
       "7                     workingday  4.65\n",
       "9                      windspeed  4.64\n",
       "3                         Spring  2.41\n",
       "6                             yr  2.07\n",
       "4                         Summer  1.92\n",
       "0                            Sat  1.83\n",
       "5                         Winter  1.75\n",
       "2                    Mist_Cloudy  1.55\n",
       "10                           Mar  1.29\n",
       "1   Light_Snow_Rain_Thunderstorm  1.08"
      ]
     },
     "execution_count": 824,
     "metadata": {},
     "output_type": "execute_result"
    }
   ],
   "source": [
    "vif = pd.DataFrame()\n",
    "X = X_train_rfe\n",
    "vif['Features'] = X.columns\n",
    "vif['VIF'] = [variance_inflation_factor(X.values, i) for i in range(X.shape[1])]\n",
    "vif['VIF'] = round(vif['VIF'], 2)\n",
    "vif = vif.sort_values(by = \"VIF\", ascending = False)\n",
    "vif\n",
    "#VIF is within the limit and also the model has improved and p value is also less for monday : we would keep monday"
   ]
  },
  {
   "cell_type": "code",
   "execution_count": 825,
   "id": "7cab9630",
   "metadata": {},
   "outputs": [],
   "source": [
    "#after adding march the VIF for temp has gone high , dropping March and checking the model: \n",
    "X_train_rfe=X_train_rfe.drop(['Mar'],axis=1)\n"
   ]
  },
  {
   "cell_type": "code",
   "execution_count": 826,
   "id": "b8091dab",
   "metadata": {},
   "outputs": [
    {
     "name": "stderr",
     "output_type": "stream",
     "text": [
      "C:\\Users\\gandhig\\Anaconda3\\lib\\site-packages\\statsmodels\\tsa\\tsatools.py:142: FutureWarning: In a future version of pandas all arguments of concat except for the argument 'objs' will be keyword-only\n",
      "  x = pd.concat(x[::order], 1)\n"
     ]
    },
    {
     "name": "stdout",
     "output_type": "stream",
     "text": [
      "                            OLS Regression Results                            \n",
      "==============================================================================\n",
      "Dep. Variable:                    cnt   R-squared:                       0.829\n",
      "Model:                            OLS   Adj. R-squared:                  0.825\n",
      "Method:                 Least Squares   F-statistic:                     241.2\n",
      "Date:                Tue, 08 Feb 2022   Prob (F-statistic):          6.50e-184\n",
      "Time:                        02:38:46   Log-Likelihood:                 488.20\n",
      "No. Observations:                 510   AIC:                            -954.4\n",
      "Df Residuals:                     499   BIC:                            -907.8\n",
      "Df Model:                          10                                         \n",
      "Covariance Type:            nonrobust                                         \n",
      "================================================================================================\n",
      "                                   coef    std err          t      P>|t|      [0.025      0.975]\n",
      "------------------------------------------------------------------------------------------------\n",
      "const                            0.1709      0.031      5.532      0.000       0.110       0.232\n",
      "Sat                              0.0668      0.015      4.548      0.000       0.038       0.096\n",
      "Light_Snow_Rain_Thunderstorm    -0.2843      0.025    -11.267      0.000      -0.334      -0.235\n",
      "Mist_Cloudy                     -0.0782      0.009     -8.769      0.000      -0.096      -0.061\n",
      "Spring                          -0.0811      0.021     -3.947      0.000      -0.122      -0.041\n",
      "Summer                           0.0386      0.014      2.794      0.005       0.011       0.066\n",
      "Winter                           0.0782      0.017      4.715      0.000       0.046       0.111\n",
      "yr                               0.2342      0.008     27.873      0.000       0.218       0.251\n",
      "workingday                       0.0557      0.011      4.887      0.000       0.033       0.078\n",
      "temp                             0.4688      0.033     13.995      0.000       0.403       0.535\n",
      "windspeed                       -0.1562      0.026     -6.093      0.000      -0.207      -0.106\n",
      "==============================================================================\n",
      "Omnibus:                       73.331   Durbin-Watson:                   2.019\n",
      "Prob(Omnibus):                  0.000   Jarque-Bera (JB):              192.939\n",
      "Skew:                          -0.718   Prob(JB):                     1.27e-42\n",
      "Kurtosis:                       5.649   Cond. No.                         19.1\n",
      "==============================================================================\n",
      "\n",
      "Notes:\n",
      "[1] Standard Errors assume that the covariance matrix of the errors is correctly specified.\n"
     ]
    }
   ],
   "source": [
    "X_train_rfe18 = sm.add_constant(X_train_rfe)\n",
    "lm18 = sm.OLS(y_train,X_train_rfe18).fit()\n",
    "print(lm18.summary())"
   ]
  },
  {
   "cell_type": "code",
   "execution_count": 827,
   "id": "d1a47790",
   "metadata": {},
   "outputs": [
    {
     "data": {
      "text/html": [
       "<div>\n",
       "<style scoped>\n",
       "    .dataframe tbody tr th:only-of-type {\n",
       "        vertical-align: middle;\n",
       "    }\n",
       "\n",
       "    .dataframe tbody tr th {\n",
       "        vertical-align: top;\n",
       "    }\n",
       "\n",
       "    .dataframe thead th {\n",
       "        text-align: right;\n",
       "    }\n",
       "</style>\n",
       "<table border=\"1\" class=\"dataframe\">\n",
       "  <thead>\n",
       "    <tr style=\"text-align: right;\">\n",
       "      <th></th>\n",
       "      <th>Features</th>\n",
       "      <th>VIF</th>\n",
       "    </tr>\n",
       "  </thead>\n",
       "  <tbody>\n",
       "    <tr>\n",
       "      <th>8</th>\n",
       "      <td>temp</td>\n",
       "      <td>5.27</td>\n",
       "    </tr>\n",
       "    <tr>\n",
       "      <th>7</th>\n",
       "      <td>workingday</td>\n",
       "      <td>4.64</td>\n",
       "    </tr>\n",
       "    <tr>\n",
       "      <th>9</th>\n",
       "      <td>windspeed</td>\n",
       "      <td>4.63</td>\n",
       "    </tr>\n",
       "    <tr>\n",
       "      <th>3</th>\n",
       "      <td>Spring</td>\n",
       "      <td>2.25</td>\n",
       "    </tr>\n",
       "    <tr>\n",
       "      <th>6</th>\n",
       "      <td>yr</td>\n",
       "      <td>2.07</td>\n",
       "    </tr>\n",
       "    <tr>\n",
       "      <th>4</th>\n",
       "      <td>Summer</td>\n",
       "      <td>1.87</td>\n",
       "    </tr>\n",
       "    <tr>\n",
       "      <th>0</th>\n",
       "      <td>Sat</td>\n",
       "      <td>1.83</td>\n",
       "    </tr>\n",
       "    <tr>\n",
       "      <th>5</th>\n",
       "      <td>Winter</td>\n",
       "      <td>1.74</td>\n",
       "    </tr>\n",
       "    <tr>\n",
       "      <th>2</th>\n",
       "      <td>Mist_Cloudy</td>\n",
       "      <td>1.55</td>\n",
       "    </tr>\n",
       "    <tr>\n",
       "      <th>1</th>\n",
       "      <td>Light_Snow_Rain_Thunderstorm</td>\n",
       "      <td>1.08</td>\n",
       "    </tr>\n",
       "  </tbody>\n",
       "</table>\n",
       "</div>"
      ],
      "text/plain": [
       "                       Features   VIF\n",
       "8                          temp  5.27\n",
       "7                    workingday  4.64\n",
       "9                     windspeed  4.63\n",
       "3                        Spring  2.25\n",
       "6                            yr  2.07\n",
       "4                        Summer  1.87\n",
       "0                           Sat  1.83\n",
       "5                        Winter  1.74\n",
       "2                   Mist_Cloudy  1.55\n",
       "1  Light_Snow_Rain_Thunderstorm  1.08"
      ]
     },
     "execution_count": 827,
     "metadata": {},
     "output_type": "execute_result"
    }
   ],
   "source": [
    "vif = pd.DataFrame()\n",
    "X = X_train_rfe\n",
    "vif['Features'] = X.columns\n",
    "vif['VIF'] = [variance_inflation_factor(X.values, i) for i in range(X.shape[1])]\n",
    "vif['VIF'] = round(vif['VIF'], 2)\n",
    "vif = vif.sort_values(by = \"VIF\", ascending = False)\n",
    "vif\n"
   ]
  },
  {
   "cell_type": "code",
   "execution_count": 828,
   "id": "14353945",
   "metadata": {},
   "outputs": [
    {
     "data": {
      "text/html": [
       "<div>\n",
       "<style scoped>\n",
       "    .dataframe tbody tr th:only-of-type {\n",
       "        vertical-align: middle;\n",
       "    }\n",
       "\n",
       "    .dataframe tbody tr th {\n",
       "        vertical-align: top;\n",
       "    }\n",
       "\n",
       "    .dataframe thead th {\n",
       "        text-align: right;\n",
       "    }\n",
       "</style>\n",
       "<table border=\"1\" class=\"dataframe\">\n",
       "  <thead>\n",
       "    <tr style=\"text-align: right;\">\n",
       "      <th></th>\n",
       "      <th>Sat</th>\n",
       "      <th>Light_Snow_Rain_Thunderstorm</th>\n",
       "      <th>Mist_Cloudy</th>\n",
       "      <th>Spring</th>\n",
       "      <th>Summer</th>\n",
       "      <th>Winter</th>\n",
       "      <th>yr</th>\n",
       "      <th>workingday</th>\n",
       "      <th>temp</th>\n",
       "      <th>windspeed</th>\n",
       "      <th>May</th>\n",
       "    </tr>\n",
       "  </thead>\n",
       "  <tbody>\n",
       "    <tr>\n",
       "      <th>653</th>\n",
       "      <td>0</td>\n",
       "      <td>0</td>\n",
       "      <td>0</td>\n",
       "      <td>0</td>\n",
       "      <td>0</td>\n",
       "      <td>1</td>\n",
       "      <td>1</td>\n",
       "      <td>1</td>\n",
       "      <td>0.509887</td>\n",
       "      <td>0.300794</td>\n",
       "      <td>0</td>\n",
       "    </tr>\n",
       "    <tr>\n",
       "      <th>576</th>\n",
       "      <td>0</td>\n",
       "      <td>0</td>\n",
       "      <td>0</td>\n",
       "      <td>0</td>\n",
       "      <td>0</td>\n",
       "      <td>0</td>\n",
       "      <td>1</td>\n",
       "      <td>1</td>\n",
       "      <td>0.815169</td>\n",
       "      <td>0.264686</td>\n",
       "      <td>0</td>\n",
       "    </tr>\n",
       "    <tr>\n",
       "      <th>426</th>\n",
       "      <td>1</td>\n",
       "      <td>0</td>\n",
       "      <td>1</td>\n",
       "      <td>1</td>\n",
       "      <td>0</td>\n",
       "      <td>0</td>\n",
       "      <td>1</td>\n",
       "      <td>0</td>\n",
       "      <td>0.442393</td>\n",
       "      <td>0.255342</td>\n",
       "      <td>0</td>\n",
       "    </tr>\n",
       "    <tr>\n",
       "      <th>728</th>\n",
       "      <td>0</td>\n",
       "      <td>0</td>\n",
       "      <td>0</td>\n",
       "      <td>1</td>\n",
       "      <td>0</td>\n",
       "      <td>0</td>\n",
       "      <td>1</td>\n",
       "      <td>0</td>\n",
       "      <td>0.245101</td>\n",
       "      <td>0.663106</td>\n",
       "      <td>0</td>\n",
       "    </tr>\n",
       "    <tr>\n",
       "      <th>482</th>\n",
       "      <td>1</td>\n",
       "      <td>0</td>\n",
       "      <td>1</td>\n",
       "      <td>0</td>\n",
       "      <td>1</td>\n",
       "      <td>0</td>\n",
       "      <td>1</td>\n",
       "      <td>0</td>\n",
       "      <td>0.395666</td>\n",
       "      <td>0.188475</td>\n",
       "      <td>0</td>\n",
       "    </tr>\n",
       "  </tbody>\n",
       "</table>\n",
       "</div>"
      ],
      "text/plain": [
       "     Sat  Light_Snow_Rain_Thunderstorm  Mist_Cloudy  Spring  Summer  Winter  \\\n",
       "653    0                             0            0       0       0       1   \n",
       "576    0                             0            0       0       0       0   \n",
       "426    1                             0            1       1       0       0   \n",
       "728    0                             0            0       1       0       0   \n",
       "482    1                             0            1       0       1       0   \n",
       "\n",
       "     yr  workingday      temp  windspeed  May  \n",
       "653   1           1  0.509887   0.300794    0  \n",
       "576   1           1  0.815169   0.264686    0  \n",
       "426   1           0  0.442393   0.255342    0  \n",
       "728   1           0  0.245101   0.663106    0  \n",
       "482   1           0  0.395666   0.188475    0  "
      ]
     },
     "execution_count": 828,
     "metadata": {},
     "output_type": "execute_result"
    }
   ],
   "source": [
    "#ADDING May AND CHECKING IF MODEL IMPROVES\n",
    "\n",
    "X_train_rfe['May']=X_train['May']\n",
    "X_train_rfe.head()"
   ]
  },
  {
   "cell_type": "code",
   "execution_count": 829,
   "id": "4fb187fc",
   "metadata": {},
   "outputs": [
    {
     "name": "stderr",
     "output_type": "stream",
     "text": [
      "C:\\Users\\gandhig\\Anaconda3\\lib\\site-packages\\statsmodels\\tsa\\tsatools.py:142: FutureWarning: In a future version of pandas all arguments of concat except for the argument 'objs' will be keyword-only\n",
      "  x = pd.concat(x[::order], 1)\n"
     ]
    },
    {
     "name": "stdout",
     "output_type": "stream",
     "text": [
      "                            OLS Regression Results                            \n",
      "==============================================================================\n",
      "Dep. Variable:                    cnt   R-squared:                       0.829\n",
      "Model:                            OLS   Adj. R-squared:                  0.825\n",
      "Method:                 Least Squares   F-statistic:                     219.0\n",
      "Date:                Tue, 08 Feb 2022   Prob (F-statistic):          8.40e-183\n",
      "Time:                        02:38:46   Log-Likelihood:                 488.42\n",
      "No. Observations:                 510   AIC:                            -952.8\n",
      "Df Residuals:                     498   BIC:                            -902.0\n",
      "Df Model:                          11                                         \n",
      "Covariance Type:            nonrobust                                         \n",
      "================================================================================================\n",
      "                                   coef    std err          t      P>|t|      [0.025      0.975]\n",
      "------------------------------------------------------------------------------------------------\n",
      "const                            0.1738      0.031      5.565      0.000       0.112       0.235\n",
      "Sat                              0.0671      0.015      4.562      0.000       0.038       0.096\n",
      "Light_Snow_Rain_Thunderstorm    -0.2841      0.025    -11.253      0.000      -0.334      -0.234\n",
      "Mist_Cloudy                     -0.0787      0.009     -8.788      0.000      -0.096      -0.061\n",
      "Spring                          -0.0834      0.021     -3.998      0.000      -0.124      -0.042\n",
      "Summer                           0.0335      0.016      2.110      0.035       0.002       0.065\n",
      "Winter                           0.0767      0.017      4.573      0.000       0.044       0.110\n",
      "yr                               0.2346      0.008     27.843      0.000       0.218       0.251\n",
      "workingday                       0.0557      0.011      4.878      0.000       0.033       0.078\n",
      "temp                             0.4645      0.034     13.597      0.000       0.397       0.532\n",
      "windspeed                       -0.1545      0.026     -5.998      0.000      -0.205      -0.104\n",
      "May                              0.0118      0.018      0.649      0.517      -0.024       0.048\n",
      "==============================================================================\n",
      "Omnibus:                       74.253   Durbin-Watson:                   2.017\n",
      "Prob(Omnibus):                  0.000   Jarque-Bera (JB):              199.474\n",
      "Skew:                          -0.720   Prob(JB):                     4.84e-44\n",
      "Kurtosis:                       5.705   Cond. No.                         19.6\n",
      "==============================================================================\n",
      "\n",
      "Notes:\n",
      "[1] Standard Errors assume that the covariance matrix of the errors is correctly specified.\n"
     ]
    }
   ],
   "source": [
    "X_train_rfe19 = sm.add_constant(X_train_rfe)\n",
    "lm19 = sm.OLS(y_train,X_train_rfe19).fit()\n",
    "print(lm19.summary())"
   ]
  },
  {
   "cell_type": "code",
   "execution_count": 830,
   "id": "308e03be",
   "metadata": {},
   "outputs": [],
   "source": [
    "#dropping May as the P value is high \n",
    "X_train_rfe=X_train_rfe.drop(['May'],axis=1)\n"
   ]
  },
  {
   "cell_type": "code",
   "execution_count": 831,
   "id": "158cacb7",
   "metadata": {},
   "outputs": [
    {
     "name": "stdout",
     "output_type": "stream",
     "text": [
      "                            OLS Regression Results                            \n",
      "==============================================================================\n",
      "Dep. Variable:                    cnt   R-squared:                       0.829\n",
      "Model:                            OLS   Adj. R-squared:                  0.825\n",
      "Method:                 Least Squares   F-statistic:                     219.0\n",
      "Date:                Tue, 08 Feb 2022   Prob (F-statistic):          8.40e-183\n",
      "Time:                        02:38:46   Log-Likelihood:                 488.42\n",
      "No. Observations:                 510   AIC:                            -952.8\n",
      "Df Residuals:                     498   BIC:                            -902.0\n",
      "Df Model:                          11                                         \n",
      "Covariance Type:            nonrobust                                         \n",
      "================================================================================================\n",
      "                                   coef    std err          t      P>|t|      [0.025      0.975]\n",
      "------------------------------------------------------------------------------------------------\n",
      "const                            0.1738      0.031      5.565      0.000       0.112       0.235\n",
      "Sat                              0.0671      0.015      4.562      0.000       0.038       0.096\n",
      "Light_Snow_Rain_Thunderstorm    -0.2841      0.025    -11.253      0.000      -0.334      -0.234\n",
      "Mist_Cloudy                     -0.0787      0.009     -8.788      0.000      -0.096      -0.061\n",
      "Spring                          -0.0834      0.021     -3.998      0.000      -0.124      -0.042\n",
      "Summer                           0.0335      0.016      2.110      0.035       0.002       0.065\n",
      "Winter                           0.0767      0.017      4.573      0.000       0.044       0.110\n",
      "yr                               0.2346      0.008     27.843      0.000       0.218       0.251\n",
      "workingday                       0.0557      0.011      4.878      0.000       0.033       0.078\n",
      "temp                             0.4645      0.034     13.597      0.000       0.397       0.532\n",
      "windspeed                       -0.1545      0.026     -5.998      0.000      -0.205      -0.104\n",
      "May                              0.0118      0.018      0.649      0.517      -0.024       0.048\n",
      "==============================================================================\n",
      "Omnibus:                       74.253   Durbin-Watson:                   2.017\n",
      "Prob(Omnibus):                  0.000   Jarque-Bera (JB):              199.474\n",
      "Skew:                          -0.720   Prob(JB):                     4.84e-44\n",
      "Kurtosis:                       5.705   Cond. No.                         19.6\n",
      "==============================================================================\n",
      "\n",
      "Notes:\n",
      "[1] Standard Errors assume that the covariance matrix of the errors is correctly specified.\n"
     ]
    },
    {
     "name": "stderr",
     "output_type": "stream",
     "text": [
      "C:\\Users\\gandhig\\Anaconda3\\lib\\site-packages\\statsmodels\\tsa\\tsatools.py:142: FutureWarning: In a future version of pandas all arguments of concat except for the argument 'objs' will be keyword-only\n",
      "  x = pd.concat(x[::order], 1)\n"
     ]
    }
   ],
   "source": [
    "X_train_rfe20 = sm.add_constant(X_train_rfe)\n",
    "lm20 = sm.OLS(y_train,X_train_rfe19).fit()\n",
    "print(lm20.summary())"
   ]
  },
  {
   "cell_type": "code",
   "execution_count": 832,
   "id": "f74c5df6",
   "metadata": {},
   "outputs": [
    {
     "data": {
      "text/html": [
       "<div>\n",
       "<style scoped>\n",
       "    .dataframe tbody tr th:only-of-type {\n",
       "        vertical-align: middle;\n",
       "    }\n",
       "\n",
       "    .dataframe tbody tr th {\n",
       "        vertical-align: top;\n",
       "    }\n",
       "\n",
       "    .dataframe thead th {\n",
       "        text-align: right;\n",
       "    }\n",
       "</style>\n",
       "<table border=\"1\" class=\"dataframe\">\n",
       "  <thead>\n",
       "    <tr style=\"text-align: right;\">\n",
       "      <th></th>\n",
       "      <th>Sat</th>\n",
       "      <th>Light_Snow_Rain_Thunderstorm</th>\n",
       "      <th>Mist_Cloudy</th>\n",
       "      <th>Spring</th>\n",
       "      <th>Summer</th>\n",
       "      <th>Winter</th>\n",
       "      <th>yr</th>\n",
       "      <th>workingday</th>\n",
       "      <th>temp</th>\n",
       "      <th>windspeed</th>\n",
       "      <th>June</th>\n",
       "    </tr>\n",
       "  </thead>\n",
       "  <tbody>\n",
       "    <tr>\n",
       "      <th>653</th>\n",
       "      <td>0</td>\n",
       "      <td>0</td>\n",
       "      <td>0</td>\n",
       "      <td>0</td>\n",
       "      <td>0</td>\n",
       "      <td>1</td>\n",
       "      <td>1</td>\n",
       "      <td>1</td>\n",
       "      <td>0.509887</td>\n",
       "      <td>0.300794</td>\n",
       "      <td>0</td>\n",
       "    </tr>\n",
       "    <tr>\n",
       "      <th>576</th>\n",
       "      <td>0</td>\n",
       "      <td>0</td>\n",
       "      <td>0</td>\n",
       "      <td>0</td>\n",
       "      <td>0</td>\n",
       "      <td>0</td>\n",
       "      <td>1</td>\n",
       "      <td>1</td>\n",
       "      <td>0.815169</td>\n",
       "      <td>0.264686</td>\n",
       "      <td>0</td>\n",
       "    </tr>\n",
       "    <tr>\n",
       "      <th>426</th>\n",
       "      <td>1</td>\n",
       "      <td>0</td>\n",
       "      <td>1</td>\n",
       "      <td>1</td>\n",
       "      <td>0</td>\n",
       "      <td>0</td>\n",
       "      <td>1</td>\n",
       "      <td>0</td>\n",
       "      <td>0.442393</td>\n",
       "      <td>0.255342</td>\n",
       "      <td>0</td>\n",
       "    </tr>\n",
       "    <tr>\n",
       "      <th>728</th>\n",
       "      <td>0</td>\n",
       "      <td>0</td>\n",
       "      <td>0</td>\n",
       "      <td>1</td>\n",
       "      <td>0</td>\n",
       "      <td>0</td>\n",
       "      <td>1</td>\n",
       "      <td>0</td>\n",
       "      <td>0.245101</td>\n",
       "      <td>0.663106</td>\n",
       "      <td>0</td>\n",
       "    </tr>\n",
       "    <tr>\n",
       "      <th>482</th>\n",
       "      <td>1</td>\n",
       "      <td>0</td>\n",
       "      <td>1</td>\n",
       "      <td>0</td>\n",
       "      <td>1</td>\n",
       "      <td>0</td>\n",
       "      <td>1</td>\n",
       "      <td>0</td>\n",
       "      <td>0.395666</td>\n",
       "      <td>0.188475</td>\n",
       "      <td>0</td>\n",
       "    </tr>\n",
       "  </tbody>\n",
       "</table>\n",
       "</div>"
      ],
      "text/plain": [
       "     Sat  Light_Snow_Rain_Thunderstorm  Mist_Cloudy  Spring  Summer  Winter  \\\n",
       "653    0                             0            0       0       0       1   \n",
       "576    0                             0            0       0       0       0   \n",
       "426    1                             0            1       1       0       0   \n",
       "728    0                             0            0       1       0       0   \n",
       "482    1                             0            1       0       1       0   \n",
       "\n",
       "     yr  workingday      temp  windspeed  June  \n",
       "653   1           1  0.509887   0.300794     0  \n",
       "576   1           1  0.815169   0.264686     0  \n",
       "426   1           0  0.442393   0.255342     0  \n",
       "728   1           0  0.245101   0.663106     0  \n",
       "482   1           0  0.395666   0.188475     0  "
      ]
     },
     "execution_count": 832,
     "metadata": {},
     "output_type": "execute_result"
    }
   ],
   "source": [
    "#ADDING June AND CHECKING IF MODEL IMPROVES\n",
    "\n",
    "X_train_rfe['June']=X_train['June']\n",
    "X_train_rfe.head()"
   ]
  },
  {
   "cell_type": "code",
   "execution_count": 833,
   "id": "2705547c",
   "metadata": {},
   "outputs": [
    {
     "name": "stdout",
     "output_type": "stream",
     "text": [
      "                            OLS Regression Results                            \n",
      "==============================================================================\n",
      "Dep. Variable:                    cnt   R-squared:                       0.829\n",
      "Model:                            OLS   Adj. R-squared:                  0.825\n",
      "Method:                 Least Squares   F-statistic:                     219.0\n",
      "Date:                Tue, 08 Feb 2022   Prob (F-statistic):          8.44e-183\n",
      "Time:                        02:38:46   Log-Likelihood:                 488.41\n",
      "No. Observations:                 510   AIC:                            -952.8\n",
      "Df Residuals:                     498   BIC:                            -902.0\n",
      "Df Model:                          11                                         \n",
      "Covariance Type:            nonrobust                                         \n",
      "================================================================================================\n",
      "                                   coef    std err          t      P>|t|      [0.025      0.975]\n",
      "------------------------------------------------------------------------------------------------\n",
      "const                            0.1678      0.031      5.365      0.000       0.106       0.229\n",
      "Sat                              0.0669      0.015      4.554      0.000       0.038       0.096\n",
      "Light_Snow_Rain_Thunderstorm    -0.2848      0.025    -11.276      0.000      -0.334      -0.235\n",
      "Mist_Cloudy                     -0.0787      0.009     -8.787      0.000      -0.096      -0.061\n",
      "Spring                          -0.0793      0.021     -3.820      0.000      -0.120      -0.039\n",
      "Summer                           0.0409      0.014      2.864      0.004       0.013       0.069\n",
      "Winter                           0.0792      0.017      4.750      0.000       0.046       0.112\n",
      "yr                               0.2341      0.008     27.818      0.000       0.218       0.251\n",
      "workingday                       0.0557      0.011      4.879      0.000       0.033       0.078\n",
      "temp                             0.4745      0.035     13.673      0.000       0.406       0.543\n",
      "windspeed                       -0.1566      0.026     -6.104      0.000      -0.207      -0.106\n",
      "June                            -0.0111      0.017     -0.641      0.522      -0.045       0.023\n",
      "==============================================================================\n",
      "Omnibus:                       73.512   Durbin-Watson:                   2.016\n",
      "Prob(Omnibus):                  0.000   Jarque-Bera (JB):              193.124\n",
      "Skew:                          -0.720   Prob(JB):                     1.16e-42\n",
      "Kurtosis:                       5.649   Cond. No.                         19.6\n",
      "==============================================================================\n",
      "\n",
      "Notes:\n",
      "[1] Standard Errors assume that the covariance matrix of the errors is correctly specified.\n"
     ]
    },
    {
     "name": "stderr",
     "output_type": "stream",
     "text": [
      "C:\\Users\\gandhig\\Anaconda3\\lib\\site-packages\\statsmodels\\tsa\\tsatools.py:142: FutureWarning: In a future version of pandas all arguments of concat except for the argument 'objs' will be keyword-only\n",
      "  x = pd.concat(x[::order], 1)\n"
     ]
    }
   ],
   "source": [
    "X_train_rfe21 = sm.add_constant(X_train_rfe)\n",
    "lm21 = sm.OLS(y_train,X_train_rfe21).fit()\n",
    "print(lm21.summary())"
   ]
  },
  {
   "cell_type": "code",
   "execution_count": 834,
   "id": "ead7905d",
   "metadata": {},
   "outputs": [],
   "source": [
    "#dropping June as the P value is high \n",
    "X_train_rfe=X_train_rfe.drop(['June'],axis=1)"
   ]
  },
  {
   "cell_type": "code",
   "execution_count": 835,
   "id": "6be989b8",
   "metadata": {},
   "outputs": [
    {
     "name": "stdout",
     "output_type": "stream",
     "text": [
      "                            OLS Regression Results                            \n",
      "==============================================================================\n",
      "Dep. Variable:                    cnt   R-squared:                       0.829\n",
      "Model:                            OLS   Adj. R-squared:                  0.825\n",
      "Method:                 Least Squares   F-statistic:                     241.2\n",
      "Date:                Tue, 08 Feb 2022   Prob (F-statistic):          6.50e-184\n",
      "Time:                        02:38:47   Log-Likelihood:                 488.20\n",
      "No. Observations:                 510   AIC:                            -954.4\n",
      "Df Residuals:                     499   BIC:                            -907.8\n",
      "Df Model:                          10                                         \n",
      "Covariance Type:            nonrobust                                         \n",
      "================================================================================================\n",
      "                                   coef    std err          t      P>|t|      [0.025      0.975]\n",
      "------------------------------------------------------------------------------------------------\n",
      "const                            0.1709      0.031      5.532      0.000       0.110       0.232\n",
      "Sat                              0.0668      0.015      4.548      0.000       0.038       0.096\n",
      "Light_Snow_Rain_Thunderstorm    -0.2843      0.025    -11.267      0.000      -0.334      -0.235\n",
      "Mist_Cloudy                     -0.0782      0.009     -8.769      0.000      -0.096      -0.061\n",
      "Spring                          -0.0811      0.021     -3.947      0.000      -0.122      -0.041\n",
      "Summer                           0.0386      0.014      2.794      0.005       0.011       0.066\n",
      "Winter                           0.0782      0.017      4.715      0.000       0.046       0.111\n",
      "yr                               0.2342      0.008     27.873      0.000       0.218       0.251\n",
      "workingday                       0.0557      0.011      4.887      0.000       0.033       0.078\n",
      "temp                             0.4688      0.033     13.995      0.000       0.403       0.535\n",
      "windspeed                       -0.1562      0.026     -6.093      0.000      -0.207      -0.106\n",
      "==============================================================================\n",
      "Omnibus:                       73.331   Durbin-Watson:                   2.019\n",
      "Prob(Omnibus):                  0.000   Jarque-Bera (JB):              192.939\n",
      "Skew:                          -0.718   Prob(JB):                     1.27e-42\n",
      "Kurtosis:                       5.649   Cond. No.                         19.1\n",
      "==============================================================================\n",
      "\n",
      "Notes:\n",
      "[1] Standard Errors assume that the covariance matrix of the errors is correctly specified.\n"
     ]
    },
    {
     "name": "stderr",
     "output_type": "stream",
     "text": [
      "C:\\Users\\gandhig\\Anaconda3\\lib\\site-packages\\statsmodels\\tsa\\tsatools.py:142: FutureWarning: In a future version of pandas all arguments of concat except for the argument 'objs' will be keyword-only\n",
      "  x = pd.concat(x[::order], 1)\n"
     ]
    }
   ],
   "source": [
    "X_train_rfe22 = sm.add_constant(X_train_rfe)\n",
    "lm22 = sm.OLS(y_train,X_train_rfe22).fit()\n",
    "print(lm22.summary())"
   ]
  },
  {
   "cell_type": "code",
   "execution_count": null,
   "id": "05b897ba",
   "metadata": {},
   "outputs": [],
   "source": []
  },
  {
   "cell_type": "code",
   "execution_count": 836,
   "id": "a0e65c3d",
   "metadata": {},
   "outputs": [
    {
     "data": {
      "text/html": [
       "<div>\n",
       "<style scoped>\n",
       "    .dataframe tbody tr th:only-of-type {\n",
       "        vertical-align: middle;\n",
       "    }\n",
       "\n",
       "    .dataframe tbody tr th {\n",
       "        vertical-align: top;\n",
       "    }\n",
       "\n",
       "    .dataframe thead th {\n",
       "        text-align: right;\n",
       "    }\n",
       "</style>\n",
       "<table border=\"1\" class=\"dataframe\">\n",
       "  <thead>\n",
       "    <tr style=\"text-align: right;\">\n",
       "      <th></th>\n",
       "      <th>Sat</th>\n",
       "      <th>Light_Snow_Rain_Thunderstorm</th>\n",
       "      <th>Mist_Cloudy</th>\n",
       "      <th>Spring</th>\n",
       "      <th>Summer</th>\n",
       "      <th>Winter</th>\n",
       "      <th>yr</th>\n",
       "      <th>workingday</th>\n",
       "      <th>temp</th>\n",
       "      <th>windspeed</th>\n",
       "      <th>Mon</th>\n",
       "    </tr>\n",
       "  </thead>\n",
       "  <tbody>\n",
       "    <tr>\n",
       "      <th>653</th>\n",
       "      <td>0</td>\n",
       "      <td>0</td>\n",
       "      <td>0</td>\n",
       "      <td>0</td>\n",
       "      <td>0</td>\n",
       "      <td>1</td>\n",
       "      <td>1</td>\n",
       "      <td>1</td>\n",
       "      <td>0.509887</td>\n",
       "      <td>0.300794</td>\n",
       "      <td>0</td>\n",
       "    </tr>\n",
       "    <tr>\n",
       "      <th>576</th>\n",
       "      <td>0</td>\n",
       "      <td>0</td>\n",
       "      <td>0</td>\n",
       "      <td>0</td>\n",
       "      <td>0</td>\n",
       "      <td>0</td>\n",
       "      <td>1</td>\n",
       "      <td>1</td>\n",
       "      <td>0.815169</td>\n",
       "      <td>0.264686</td>\n",
       "      <td>0</td>\n",
       "    </tr>\n",
       "    <tr>\n",
       "      <th>426</th>\n",
       "      <td>1</td>\n",
       "      <td>0</td>\n",
       "      <td>1</td>\n",
       "      <td>1</td>\n",
       "      <td>0</td>\n",
       "      <td>0</td>\n",
       "      <td>1</td>\n",
       "      <td>0</td>\n",
       "      <td>0.442393</td>\n",
       "      <td>0.255342</td>\n",
       "      <td>0</td>\n",
       "    </tr>\n",
       "    <tr>\n",
       "      <th>728</th>\n",
       "      <td>0</td>\n",
       "      <td>0</td>\n",
       "      <td>0</td>\n",
       "      <td>1</td>\n",
       "      <td>0</td>\n",
       "      <td>0</td>\n",
       "      <td>1</td>\n",
       "      <td>0</td>\n",
       "      <td>0.245101</td>\n",
       "      <td>0.663106</td>\n",
       "      <td>0</td>\n",
       "    </tr>\n",
       "    <tr>\n",
       "      <th>482</th>\n",
       "      <td>1</td>\n",
       "      <td>0</td>\n",
       "      <td>1</td>\n",
       "      <td>0</td>\n",
       "      <td>1</td>\n",
       "      <td>0</td>\n",
       "      <td>1</td>\n",
       "      <td>0</td>\n",
       "      <td>0.395666</td>\n",
       "      <td>0.188475</td>\n",
       "      <td>0</td>\n",
       "    </tr>\n",
       "  </tbody>\n",
       "</table>\n",
       "</div>"
      ],
      "text/plain": [
       "     Sat  Light_Snow_Rain_Thunderstorm  Mist_Cloudy  Spring  Summer  Winter  \\\n",
       "653    0                             0            0       0       0       1   \n",
       "576    0                             0            0       0       0       0   \n",
       "426    1                             0            1       1       0       0   \n",
       "728    0                             0            0       1       0       0   \n",
       "482    1                             0            1       0       1       0   \n",
       "\n",
       "     yr  workingday      temp  windspeed  Mon  \n",
       "653   1           1  0.509887   0.300794    0  \n",
       "576   1           1  0.815169   0.264686    0  \n",
       "426   1           0  0.442393   0.255342    0  \n",
       "728   1           0  0.245101   0.663106    0  \n",
       "482   1           0  0.395666   0.188475    0  "
      ]
     },
     "execution_count": 836,
     "metadata": {},
     "output_type": "execute_result"
    }
   ],
   "source": [
    "#ADDING Monday AND CHECKING IF MODEL IMPROVES\n",
    "\n",
    "X_train_rfe['Mon']=X_train['Mon']\n",
    "X_train_rfe.head()"
   ]
  },
  {
   "cell_type": "code",
   "execution_count": 837,
   "id": "d397c5b3",
   "metadata": {},
   "outputs": [
    {
     "name": "stdout",
     "output_type": "stream",
     "text": [
      "                            OLS Regression Results                            \n",
      "==============================================================================\n",
      "Dep. Variable:                    cnt   R-squared:                       0.830\n",
      "Model:                            OLS   Adj. R-squared:                  0.826\n",
      "Method:                 Least Squares   F-statistic:                     220.4\n",
      "Date:                Tue, 08 Feb 2022   Prob (F-statistic):          2.31e-183\n",
      "Time:                        02:38:47   Log-Likelihood:                 489.75\n",
      "No. Observations:                 510   AIC:                            -955.5\n",
      "Df Residuals:                     498   BIC:                            -904.7\n",
      "Df Model:                          11                                         \n",
      "Covariance Type:            nonrobust                                         \n",
      "================================================================================================\n",
      "                                   coef    std err          t      P>|t|      [0.025      0.975]\n",
      "------------------------------------------------------------------------------------------------\n",
      "const                            0.1742      0.031      5.642      0.000       0.114       0.235\n",
      "Sat                              0.0645      0.015      4.379      0.000       0.036       0.093\n",
      "Light_Snow_Rain_Thunderstorm    -0.2848      0.025    -11.310      0.000      -0.334      -0.235\n",
      "Mist_Cloudy                     -0.0783      0.009     -8.792      0.000      -0.096      -0.061\n",
      "Spring                          -0.0819      0.021     -3.991      0.000      -0.122      -0.042\n",
      "Summer                           0.0385      0.014      2.791      0.005       0.011       0.066\n",
      "Winter                           0.0784      0.017      4.738      0.000       0.046       0.111\n",
      "yr                               0.2350      0.008     27.982      0.000       0.219       0.252\n",
      "workingday                       0.0574      0.011      5.027      0.000       0.035       0.080\n",
      "temp                             0.4664      0.033     13.941      0.000       0.401       0.532\n",
      "windspeed                       -0.1560      0.026     -6.100      0.000      -0.206      -0.106\n",
      "Mon                             -0.0206      0.012     -1.739      0.083      -0.044       0.003\n",
      "==============================================================================\n",
      "Omnibus:                       73.880   Durbin-Watson:                   2.025\n",
      "Prob(Omnibus):                  0.000   Jarque-Bera (JB):              193.612\n",
      "Skew:                          -0.724   Prob(JB):                     9.07e-43\n",
      "Kurtosis:                       5.648   Cond. No.                         19.2\n",
      "==============================================================================\n",
      "\n",
      "Notes:\n",
      "[1] Standard Errors assume that the covariance matrix of the errors is correctly specified.\n"
     ]
    },
    {
     "name": "stderr",
     "output_type": "stream",
     "text": [
      "C:\\Users\\gandhig\\Anaconda3\\lib\\site-packages\\statsmodels\\tsa\\tsatools.py:142: FutureWarning: In a future version of pandas all arguments of concat except for the argument 'objs' will be keyword-only\n",
      "  x = pd.concat(x[::order], 1)\n"
     ]
    }
   ],
   "source": [
    "X_train_rfe23 = sm.add_constant(X_train_rfe)\n",
    "lm23 = sm.OLS(y_train,X_train_rfe23).fit()\n",
    "print(lm23.summary())"
   ]
  },
  {
   "cell_type": "code",
   "execution_count": null,
   "id": "d4bb4b3c",
   "metadata": {},
   "outputs": [],
   "source": []
  },
  {
   "cell_type": "code",
   "execution_count": 838,
   "id": "ac40e1d0",
   "metadata": {},
   "outputs": [],
   "source": [
    "#dropping Monday as the P value for monday has significantly increased\n",
    "X_train_rfe=X_train_rfe.drop(['Mon'],axis=1)\n"
   ]
  },
  {
   "cell_type": "code",
   "execution_count": 839,
   "id": "75efcbff",
   "metadata": {},
   "outputs": [
    {
     "name": "stdout",
     "output_type": "stream",
     "text": [
      "                            OLS Regression Results                            \n",
      "==============================================================================\n",
      "Dep. Variable:                    cnt   R-squared:                       0.829\n",
      "Model:                            OLS   Adj. R-squared:                  0.825\n",
      "Method:                 Least Squares   F-statistic:                     241.2\n",
      "Date:                Tue, 08 Feb 2022   Prob (F-statistic):          6.50e-184\n",
      "Time:                        02:38:47   Log-Likelihood:                 488.20\n",
      "No. Observations:                 510   AIC:                            -954.4\n",
      "Df Residuals:                     499   BIC:                            -907.8\n",
      "Df Model:                          10                                         \n",
      "Covariance Type:            nonrobust                                         \n",
      "================================================================================================\n",
      "                                   coef    std err          t      P>|t|      [0.025      0.975]\n",
      "------------------------------------------------------------------------------------------------\n",
      "const                            0.1709      0.031      5.532      0.000       0.110       0.232\n",
      "Sat                              0.0668      0.015      4.548      0.000       0.038       0.096\n",
      "Light_Snow_Rain_Thunderstorm    -0.2843      0.025    -11.267      0.000      -0.334      -0.235\n",
      "Mist_Cloudy                     -0.0782      0.009     -8.769      0.000      -0.096      -0.061\n",
      "Spring                          -0.0811      0.021     -3.947      0.000      -0.122      -0.041\n",
      "Summer                           0.0386      0.014      2.794      0.005       0.011       0.066\n",
      "Winter                           0.0782      0.017      4.715      0.000       0.046       0.111\n",
      "yr                               0.2342      0.008     27.873      0.000       0.218       0.251\n",
      "workingday                       0.0557      0.011      4.887      0.000       0.033       0.078\n",
      "temp                             0.4688      0.033     13.995      0.000       0.403       0.535\n",
      "windspeed                       -0.1562      0.026     -6.093      0.000      -0.207      -0.106\n",
      "==============================================================================\n",
      "Omnibus:                       73.331   Durbin-Watson:                   2.019\n",
      "Prob(Omnibus):                  0.000   Jarque-Bera (JB):              192.939\n",
      "Skew:                          -0.718   Prob(JB):                     1.27e-42\n",
      "Kurtosis:                       5.649   Cond. No.                         19.1\n",
      "==============================================================================\n",
      "\n",
      "Notes:\n",
      "[1] Standard Errors assume that the covariance matrix of the errors is correctly specified.\n"
     ]
    },
    {
     "name": "stderr",
     "output_type": "stream",
     "text": [
      "C:\\Users\\gandhig\\Anaconda3\\lib\\site-packages\\statsmodels\\tsa\\tsatools.py:142: FutureWarning: In a future version of pandas all arguments of concat except for the argument 'objs' will be keyword-only\n",
      "  x = pd.concat(x[::order], 1)\n"
     ]
    }
   ],
   "source": [
    "X_train_rfe24 = sm.add_constant(X_train_rfe)\n",
    "lm24 = sm.OLS(y_train,X_train_rfe24).fit()\n",
    "print(lm24.summary())"
   ]
  },
  {
   "cell_type": "code",
   "execution_count": 840,
   "id": "ab3d8297",
   "metadata": {},
   "outputs": [
    {
     "data": {
      "text/html": [
       "<div>\n",
       "<style scoped>\n",
       "    .dataframe tbody tr th:only-of-type {\n",
       "        vertical-align: middle;\n",
       "    }\n",
       "\n",
       "    .dataframe tbody tr th {\n",
       "        vertical-align: top;\n",
       "    }\n",
       "\n",
       "    .dataframe thead th {\n",
       "        text-align: right;\n",
       "    }\n",
       "</style>\n",
       "<table border=\"1\" class=\"dataframe\">\n",
       "  <thead>\n",
       "    <tr style=\"text-align: right;\">\n",
       "      <th></th>\n",
       "      <th>Features</th>\n",
       "      <th>VIF</th>\n",
       "    </tr>\n",
       "  </thead>\n",
       "  <tbody>\n",
       "    <tr>\n",
       "      <th>8</th>\n",
       "      <td>temp</td>\n",
       "      <td>5.27</td>\n",
       "    </tr>\n",
       "    <tr>\n",
       "      <th>7</th>\n",
       "      <td>workingday</td>\n",
       "      <td>4.64</td>\n",
       "    </tr>\n",
       "    <tr>\n",
       "      <th>9</th>\n",
       "      <td>windspeed</td>\n",
       "      <td>4.63</td>\n",
       "    </tr>\n",
       "    <tr>\n",
       "      <th>3</th>\n",
       "      <td>Spring</td>\n",
       "      <td>2.25</td>\n",
       "    </tr>\n",
       "    <tr>\n",
       "      <th>6</th>\n",
       "      <td>yr</td>\n",
       "      <td>2.07</td>\n",
       "    </tr>\n",
       "    <tr>\n",
       "      <th>4</th>\n",
       "      <td>Summer</td>\n",
       "      <td>1.87</td>\n",
       "    </tr>\n",
       "    <tr>\n",
       "      <th>0</th>\n",
       "      <td>Sat</td>\n",
       "      <td>1.83</td>\n",
       "    </tr>\n",
       "    <tr>\n",
       "      <th>5</th>\n",
       "      <td>Winter</td>\n",
       "      <td>1.74</td>\n",
       "    </tr>\n",
       "    <tr>\n",
       "      <th>2</th>\n",
       "      <td>Mist_Cloudy</td>\n",
       "      <td>1.55</td>\n",
       "    </tr>\n",
       "    <tr>\n",
       "      <th>1</th>\n",
       "      <td>Light_Snow_Rain_Thunderstorm</td>\n",
       "      <td>1.08</td>\n",
       "    </tr>\n",
       "  </tbody>\n",
       "</table>\n",
       "</div>"
      ],
      "text/plain": [
       "                       Features   VIF\n",
       "8                          temp  5.27\n",
       "7                    workingday  4.64\n",
       "9                     windspeed  4.63\n",
       "3                        Spring  2.25\n",
       "6                            yr  2.07\n",
       "4                        Summer  1.87\n",
       "0                           Sat  1.83\n",
       "5                        Winter  1.74\n",
       "2                   Mist_Cloudy  1.55\n",
       "1  Light_Snow_Rain_Thunderstorm  1.08"
      ]
     },
     "execution_count": 840,
     "metadata": {},
     "output_type": "execute_result"
    }
   ],
   "source": [
    "vif = pd.DataFrame()\n",
    "X = X_train_rfe\n",
    "vif['Features'] = X.columns\n",
    "vif['VIF'] = [variance_inflation_factor(X.values, i) for i in range(X.shape[1])]\n",
    "vif['VIF'] = round(vif['VIF'], 2)\n",
    "vif = vif.sort_values(by = \"VIF\", ascending = False)\n",
    "vif"
   ]
  },
  {
   "cell_type": "code",
   "execution_count": 841,
   "id": "4722c791",
   "metadata": {},
   "outputs": [],
   "source": [
    "#ADDING October AND CHECKING IF MODEL IMPROVES\n",
    "\n",
    "X_train_rfe['Oct']=X_train['Oct']\n"
   ]
  },
  {
   "cell_type": "code",
   "execution_count": 842,
   "id": "6c0f78c9",
   "metadata": {},
   "outputs": [
    {
     "name": "stdout",
     "output_type": "stream",
     "text": [
      "                            OLS Regression Results                            \n",
      "==============================================================================\n",
      "Dep. Variable:                    cnt   R-squared:                       0.830\n",
      "Model:                            OLS   Adj. R-squared:                  0.826\n",
      "Method:                 Least Squares   F-statistic:                     220.5\n",
      "Date:                Tue, 08 Feb 2022   Prob (F-statistic):          2.12e-183\n",
      "Time:                        02:38:47   Log-Likelihood:                 489.83\n",
      "No. Observations:                 510   AIC:                            -955.7\n",
      "Df Residuals:                     498   BIC:                            -904.9\n",
      "Df Model:                          11                                         \n",
      "Covariance Type:            nonrobust                                         \n",
      "================================================================================================\n",
      "                                   coef    std err          t      P>|t|      [0.025      0.975]\n",
      "------------------------------------------------------------------------------------------------\n",
      "const                            0.1825      0.031      5.795      0.000       0.121       0.244\n",
      "Sat                              0.0674      0.015      4.597      0.000       0.039       0.096\n",
      "Light_Snow_Rain_Thunderstorm    -0.2897      0.025    -11.425      0.000      -0.340      -0.240\n",
      "Mist_Cloudy                     -0.0789      0.009     -8.852      0.000      -0.096      -0.061\n",
      "Spring                          -0.0882      0.021     -4.222      0.000      -0.129      -0.047\n",
      "Summer                           0.0357      0.014      2.571      0.010       0.008       0.063\n",
      "Winter                           0.0622      0.019      3.308      0.001       0.025       0.099\n",
      "yr                               0.2347      0.008     27.973      0.000       0.218       0.251\n",
      "workingday                       0.0563      0.011      4.949      0.000       0.034       0.079\n",
      "temp                             0.4542      0.034     13.207      0.000       0.387       0.522\n",
      "windspeed                       -0.1580      0.026     -6.173      0.000      -0.208      -0.108\n",
      "Oct                              0.0324      0.018      1.787      0.075      -0.003       0.068\n",
      "==============================================================================\n",
      "Omnibus:                       81.167   Durbin-Watson:                   2.008\n",
      "Prob(Omnibus):                  0.000   Jarque-Bera (JB):              226.905\n",
      "Skew:                          -0.772   Prob(JB):                     5.35e-50\n",
      "Kurtosis:                       5.880   Cond. No.                         19.9\n",
      "==============================================================================\n",
      "\n",
      "Notes:\n",
      "[1] Standard Errors assume that the covariance matrix of the errors is correctly specified.\n"
     ]
    },
    {
     "name": "stderr",
     "output_type": "stream",
     "text": [
      "C:\\Users\\gandhig\\Anaconda3\\lib\\site-packages\\statsmodels\\tsa\\tsatools.py:142: FutureWarning: In a future version of pandas all arguments of concat except for the argument 'objs' will be keyword-only\n",
      "  x = pd.concat(x[::order], 1)\n"
     ]
    }
   ],
   "source": [
    "X_train_rfe25 = sm.add_constant(X_train_rfe)\n",
    "lm25 = sm.OLS(y_train,X_train_rfe25).fit()\n",
    "print(lm25.summary())"
   ]
  },
  {
   "cell_type": "code",
   "execution_count": 843,
   "id": "4f6dc377",
   "metadata": {},
   "outputs": [],
   "source": [
    "#October has a high P value , hence we would drop it \n",
    "X_train_rfe=X_train_rfe.drop(['Oct'],axis=1)"
   ]
  },
  {
   "cell_type": "code",
   "execution_count": 844,
   "id": "9d6f392d",
   "metadata": {},
   "outputs": [
    {
     "name": "stdout",
     "output_type": "stream",
     "text": [
      "                            OLS Regression Results                            \n",
      "==============================================================================\n",
      "Dep. Variable:                    cnt   R-squared:                       0.829\n",
      "Model:                            OLS   Adj. R-squared:                  0.825\n",
      "Method:                 Least Squares   F-statistic:                     241.2\n",
      "Date:                Tue, 08 Feb 2022   Prob (F-statistic):          6.50e-184\n",
      "Time:                        02:38:47   Log-Likelihood:                 488.20\n",
      "No. Observations:                 510   AIC:                            -954.4\n",
      "Df Residuals:                     499   BIC:                            -907.8\n",
      "Df Model:                          10                                         \n",
      "Covariance Type:            nonrobust                                         \n",
      "================================================================================================\n",
      "                                   coef    std err          t      P>|t|      [0.025      0.975]\n",
      "------------------------------------------------------------------------------------------------\n",
      "const                            0.1709      0.031      5.532      0.000       0.110       0.232\n",
      "Sat                              0.0668      0.015      4.548      0.000       0.038       0.096\n",
      "Light_Snow_Rain_Thunderstorm    -0.2843      0.025    -11.267      0.000      -0.334      -0.235\n",
      "Mist_Cloudy                     -0.0782      0.009     -8.769      0.000      -0.096      -0.061\n",
      "Spring                          -0.0811      0.021     -3.947      0.000      -0.122      -0.041\n",
      "Summer                           0.0386      0.014      2.794      0.005       0.011       0.066\n",
      "Winter                           0.0782      0.017      4.715      0.000       0.046       0.111\n",
      "yr                               0.2342      0.008     27.873      0.000       0.218       0.251\n",
      "workingday                       0.0557      0.011      4.887      0.000       0.033       0.078\n",
      "temp                             0.4688      0.033     13.995      0.000       0.403       0.535\n",
      "windspeed                       -0.1562      0.026     -6.093      0.000      -0.207      -0.106\n",
      "==============================================================================\n",
      "Omnibus:                       73.331   Durbin-Watson:                   2.019\n",
      "Prob(Omnibus):                  0.000   Jarque-Bera (JB):              192.939\n",
      "Skew:                          -0.718   Prob(JB):                     1.27e-42\n",
      "Kurtosis:                       5.649   Cond. No.                         19.1\n",
      "==============================================================================\n",
      "\n",
      "Notes:\n",
      "[1] Standard Errors assume that the covariance matrix of the errors is correctly specified.\n"
     ]
    },
    {
     "name": "stderr",
     "output_type": "stream",
     "text": [
      "C:\\Users\\gandhig\\Anaconda3\\lib\\site-packages\\statsmodels\\tsa\\tsatools.py:142: FutureWarning: In a future version of pandas all arguments of concat except for the argument 'objs' will be keyword-only\n",
      "  x = pd.concat(x[::order], 1)\n"
     ]
    }
   ],
   "source": [
    "X_train_rfe26 = sm.add_constant(X_train_rfe)\n",
    "lm26 = sm.OLS(y_train,X_train_rfe26).fit()\n",
    "print(lm26.summary())"
   ]
  },
  {
   "cell_type": "code",
   "execution_count": 845,
   "id": "967e2524",
   "metadata": {},
   "outputs": [
    {
     "data": {
      "text/html": [
       "<div>\n",
       "<style scoped>\n",
       "    .dataframe tbody tr th:only-of-type {\n",
       "        vertical-align: middle;\n",
       "    }\n",
       "\n",
       "    .dataframe tbody tr th {\n",
       "        vertical-align: top;\n",
       "    }\n",
       "\n",
       "    .dataframe thead th {\n",
       "        text-align: right;\n",
       "    }\n",
       "</style>\n",
       "<table border=\"1\" class=\"dataframe\">\n",
       "  <thead>\n",
       "    <tr style=\"text-align: right;\">\n",
       "      <th></th>\n",
       "      <th>Features</th>\n",
       "      <th>VIF</th>\n",
       "    </tr>\n",
       "  </thead>\n",
       "  <tbody>\n",
       "    <tr>\n",
       "      <th>8</th>\n",
       "      <td>temp</td>\n",
       "      <td>5.27</td>\n",
       "    </tr>\n",
       "    <tr>\n",
       "      <th>7</th>\n",
       "      <td>workingday</td>\n",
       "      <td>4.64</td>\n",
       "    </tr>\n",
       "    <tr>\n",
       "      <th>9</th>\n",
       "      <td>windspeed</td>\n",
       "      <td>4.63</td>\n",
       "    </tr>\n",
       "    <tr>\n",
       "      <th>3</th>\n",
       "      <td>Spring</td>\n",
       "      <td>2.25</td>\n",
       "    </tr>\n",
       "    <tr>\n",
       "      <th>6</th>\n",
       "      <td>yr</td>\n",
       "      <td>2.07</td>\n",
       "    </tr>\n",
       "    <tr>\n",
       "      <th>4</th>\n",
       "      <td>Summer</td>\n",
       "      <td>1.87</td>\n",
       "    </tr>\n",
       "    <tr>\n",
       "      <th>0</th>\n",
       "      <td>Sat</td>\n",
       "      <td>1.83</td>\n",
       "    </tr>\n",
       "    <tr>\n",
       "      <th>5</th>\n",
       "      <td>Winter</td>\n",
       "      <td>1.74</td>\n",
       "    </tr>\n",
       "    <tr>\n",
       "      <th>2</th>\n",
       "      <td>Mist_Cloudy</td>\n",
       "      <td>1.55</td>\n",
       "    </tr>\n",
       "    <tr>\n",
       "      <th>1</th>\n",
       "      <td>Light_Snow_Rain_Thunderstorm</td>\n",
       "      <td>1.08</td>\n",
       "    </tr>\n",
       "  </tbody>\n",
       "</table>\n",
       "</div>"
      ],
      "text/plain": [
       "                       Features   VIF\n",
       "8                          temp  5.27\n",
       "7                    workingday  4.64\n",
       "9                     windspeed  4.63\n",
       "3                        Spring  2.25\n",
       "6                            yr  2.07\n",
       "4                        Summer  1.87\n",
       "0                           Sat  1.83\n",
       "5                        Winter  1.74\n",
       "2                   Mist_Cloudy  1.55\n",
       "1  Light_Snow_Rain_Thunderstorm  1.08"
      ]
     },
     "execution_count": 845,
     "metadata": {},
     "output_type": "execute_result"
    }
   ],
   "source": [
    "vif = pd.DataFrame()\n",
    "X = X_train_rfe\n",
    "vif['Features'] = X.columns\n",
    "vif['VIF'] = [variance_inflation_factor(X.values, i) for i in range(X.shape[1])]\n",
    "vif['VIF'] = round(vif['VIF'], 2)\n",
    "vif = vif.sort_values(by = \"VIF\", ascending = False)\n",
    "vif"
   ]
  },
  {
   "cell_type": "code",
   "execution_count": null,
   "id": "385f8101",
   "metadata": {},
   "outputs": [],
   "source": []
  },
  {
   "cell_type": "code",
   "execution_count": 846,
   "id": "26cbf100",
   "metadata": {},
   "outputs": [],
   "source": [
    "#ADDING August AND CHECKING IF MODEL IMPROVES\n",
    "\n",
    "X_train_rfe['Aug']=X_train['Aug']\n"
   ]
  },
  {
   "cell_type": "code",
   "execution_count": 847,
   "id": "45eddc2c",
   "metadata": {},
   "outputs": [
    {
     "name": "stdout",
     "output_type": "stream",
     "text": [
      "                            OLS Regression Results                            \n",
      "==============================================================================\n",
      "Dep. Variable:                    cnt   R-squared:                       0.829\n",
      "Model:                            OLS   Adj. R-squared:                  0.825\n",
      "Method:                 Least Squares   F-statistic:                     218.8\n",
      "Date:                Tue, 08 Feb 2022   Prob (F-statistic):          1.03e-182\n",
      "Time:                        02:38:47   Log-Likelihood:                 488.21\n",
      "No. Observations:                 510   AIC:                            -952.4\n",
      "Df Residuals:                     498   BIC:                            -901.6\n",
      "Df Model:                          11                                         \n",
      "Covariance Type:            nonrobust                                         \n",
      "================================================================================================\n",
      "                                   coef    std err          t      P>|t|      [0.025      0.975]\n",
      "------------------------------------------------------------------------------------------------\n",
      "const                            0.1704      0.031      5.438      0.000       0.109       0.232\n",
      "Sat                              0.0667      0.015      4.536      0.000       0.038       0.096\n",
      "Light_Snow_Rain_Thunderstorm    -0.2842      0.025    -11.242      0.000      -0.334      -0.235\n",
      "Mist_Cloudy                     -0.0783      0.009     -8.749      0.000      -0.096      -0.061\n",
      "Spring                          -0.0806      0.021     -3.763      0.000      -0.123      -0.039\n",
      "Summer                           0.0391      0.015      2.585      0.010       0.009       0.069\n",
      "Winter                           0.0787      0.018      4.460      0.000       0.044       0.113\n",
      "yr                               0.2342      0.008     27.827      0.000       0.218       0.251\n",
      "workingday                       0.0557      0.011      4.876      0.000       0.033       0.078\n",
      "temp                             0.4687      0.034     13.979      0.000       0.403       0.535\n",
      "windspeed                       -0.1562      0.026     -6.087      0.000      -0.207      -0.106\n",
      "Aug                              0.0015      0.017      0.086      0.932      -0.032       0.035\n",
      "==============================================================================\n",
      "Omnibus:                       73.078   Durbin-Watson:                   2.018\n",
      "Prob(Omnibus):                  0.000   Jarque-Bera (JB):              192.548\n",
      "Skew:                          -0.715   Prob(JB):                     1.54e-42\n",
      "Kurtosis:                       5.649   Cond. No.                         19.4\n",
      "==============================================================================\n",
      "\n",
      "Notes:\n",
      "[1] Standard Errors assume that the covariance matrix of the errors is correctly specified.\n"
     ]
    },
    {
     "name": "stderr",
     "output_type": "stream",
     "text": [
      "C:\\Users\\gandhig\\Anaconda3\\lib\\site-packages\\statsmodels\\tsa\\tsatools.py:142: FutureWarning: In a future version of pandas all arguments of concat except for the argument 'objs' will be keyword-only\n",
      "  x = pd.concat(x[::order], 1)\n"
     ]
    }
   ],
   "source": [
    "X_train_rfe27 = sm.add_constant(X_train_rfe)\n",
    "lm27 = sm.OLS(y_train,X_train_rfe27).fit()\n",
    "print(lm27.summary())"
   ]
  },
  {
   "cell_type": "code",
   "execution_count": 848,
   "id": "0e52bc4e",
   "metadata": {},
   "outputs": [],
   "source": [
    "#August has a high P value , hence we would drop it \n",
    "X_train_rfe=X_train_rfe.drop(['Aug'],axis=1)"
   ]
  },
  {
   "cell_type": "code",
   "execution_count": 849,
   "id": "707276fb",
   "metadata": {},
   "outputs": [
    {
     "name": "stderr",
     "output_type": "stream",
     "text": [
      "C:\\Users\\gandhig\\Anaconda3\\lib\\site-packages\\statsmodels\\tsa\\tsatools.py:142: FutureWarning: In a future version of pandas all arguments of concat except for the argument 'objs' will be keyword-only\n",
      "  x = pd.concat(x[::order], 1)\n"
     ]
    },
    {
     "name": "stdout",
     "output_type": "stream",
     "text": [
      "                            OLS Regression Results                            \n",
      "==============================================================================\n",
      "Dep. Variable:                    cnt   R-squared:                       0.829\n",
      "Model:                            OLS   Adj. R-squared:                  0.825\n",
      "Method:                 Least Squares   F-statistic:                     241.2\n",
      "Date:                Tue, 08 Feb 2022   Prob (F-statistic):          6.50e-184\n",
      "Time:                        02:38:47   Log-Likelihood:                 488.20\n",
      "No. Observations:                 510   AIC:                            -954.4\n",
      "Df Residuals:                     499   BIC:                            -907.8\n",
      "Df Model:                          10                                         \n",
      "Covariance Type:            nonrobust                                         \n",
      "================================================================================================\n",
      "                                   coef    std err          t      P>|t|      [0.025      0.975]\n",
      "------------------------------------------------------------------------------------------------\n",
      "const                            0.1709      0.031      5.532      0.000       0.110       0.232\n",
      "Sat                              0.0668      0.015      4.548      0.000       0.038       0.096\n",
      "Light_Snow_Rain_Thunderstorm    -0.2843      0.025    -11.267      0.000      -0.334      -0.235\n",
      "Mist_Cloudy                     -0.0782      0.009     -8.769      0.000      -0.096      -0.061\n",
      "Spring                          -0.0811      0.021     -3.947      0.000      -0.122      -0.041\n",
      "Summer                           0.0386      0.014      2.794      0.005       0.011       0.066\n",
      "Winter                           0.0782      0.017      4.715      0.000       0.046       0.111\n",
      "yr                               0.2342      0.008     27.873      0.000       0.218       0.251\n",
      "workingday                       0.0557      0.011      4.887      0.000       0.033       0.078\n",
      "temp                             0.4688      0.033     13.995      0.000       0.403       0.535\n",
      "windspeed                       -0.1562      0.026     -6.093      0.000      -0.207      -0.106\n",
      "==============================================================================\n",
      "Omnibus:                       73.331   Durbin-Watson:                   2.019\n",
      "Prob(Omnibus):                  0.000   Jarque-Bera (JB):              192.939\n",
      "Skew:                          -0.718   Prob(JB):                     1.27e-42\n",
      "Kurtosis:                       5.649   Cond. No.                         19.1\n",
      "==============================================================================\n",
      "\n",
      "Notes:\n",
      "[1] Standard Errors assume that the covariance matrix of the errors is correctly specified.\n"
     ]
    }
   ],
   "source": [
    "X_train_rfe29 = sm.add_constant(X_train_rfe)\n",
    "lm29 = sm.OLS(y_train,X_train_rfe29).fit()\n",
    "print(lm29.summary())"
   ]
  },
  {
   "cell_type": "code",
   "execution_count": 850,
   "id": "cd070499",
   "metadata": {},
   "outputs": [
    {
     "data": {
      "text/html": [
       "<div>\n",
       "<style scoped>\n",
       "    .dataframe tbody tr th:only-of-type {\n",
       "        vertical-align: middle;\n",
       "    }\n",
       "\n",
       "    .dataframe tbody tr th {\n",
       "        vertical-align: top;\n",
       "    }\n",
       "\n",
       "    .dataframe thead th {\n",
       "        text-align: right;\n",
       "    }\n",
       "</style>\n",
       "<table border=\"1\" class=\"dataframe\">\n",
       "  <thead>\n",
       "    <tr style=\"text-align: right;\">\n",
       "      <th></th>\n",
       "      <th>Features</th>\n",
       "      <th>VIF</th>\n",
       "    </tr>\n",
       "  </thead>\n",
       "  <tbody>\n",
       "    <tr>\n",
       "      <th>8</th>\n",
       "      <td>temp</td>\n",
       "      <td>5.27</td>\n",
       "    </tr>\n",
       "    <tr>\n",
       "      <th>7</th>\n",
       "      <td>workingday</td>\n",
       "      <td>4.64</td>\n",
       "    </tr>\n",
       "    <tr>\n",
       "      <th>9</th>\n",
       "      <td>windspeed</td>\n",
       "      <td>4.63</td>\n",
       "    </tr>\n",
       "    <tr>\n",
       "      <th>3</th>\n",
       "      <td>Spring</td>\n",
       "      <td>2.25</td>\n",
       "    </tr>\n",
       "    <tr>\n",
       "      <th>6</th>\n",
       "      <td>yr</td>\n",
       "      <td>2.07</td>\n",
       "    </tr>\n",
       "    <tr>\n",
       "      <th>4</th>\n",
       "      <td>Summer</td>\n",
       "      <td>1.87</td>\n",
       "    </tr>\n",
       "    <tr>\n",
       "      <th>0</th>\n",
       "      <td>Sat</td>\n",
       "      <td>1.83</td>\n",
       "    </tr>\n",
       "    <tr>\n",
       "      <th>5</th>\n",
       "      <td>Winter</td>\n",
       "      <td>1.74</td>\n",
       "    </tr>\n",
       "    <tr>\n",
       "      <th>2</th>\n",
       "      <td>Mist_Cloudy</td>\n",
       "      <td>1.55</td>\n",
       "    </tr>\n",
       "    <tr>\n",
       "      <th>1</th>\n",
       "      <td>Light_Snow_Rain_Thunderstorm</td>\n",
       "      <td>1.08</td>\n",
       "    </tr>\n",
       "  </tbody>\n",
       "</table>\n",
       "</div>"
      ],
      "text/plain": [
       "                       Features   VIF\n",
       "8                          temp  5.27\n",
       "7                    workingday  4.64\n",
       "9                     windspeed  4.63\n",
       "3                        Spring  2.25\n",
       "6                            yr  2.07\n",
       "4                        Summer  1.87\n",
       "0                           Sat  1.83\n",
       "5                        Winter  1.74\n",
       "2                   Mist_Cloudy  1.55\n",
       "1  Light_Snow_Rain_Thunderstorm  1.08"
      ]
     },
     "execution_count": 850,
     "metadata": {},
     "output_type": "execute_result"
    }
   ],
   "source": [
    "vif = pd.DataFrame()\n",
    "X = X_train_rfe\n",
    "vif['Features'] = X.columns\n",
    "vif['VIF'] = [variance_inflation_factor(X.values, i) for i in range(X.shape[1])]\n",
    "vif['VIF'] = round(vif['VIF'], 2)\n",
    "vif = vif.sort_values(by = \"VIF\", ascending = False)\n",
    "vif"
   ]
  },
  {
   "cell_type": "code",
   "execution_count": null,
   "id": "2ba96219",
   "metadata": {},
   "outputs": [],
   "source": []
  },
  {
   "cell_type": "code",
   "execution_count": null,
   "id": "1930395e",
   "metadata": {},
   "outputs": [],
   "source": []
  },
  {
   "cell_type": "code",
   "execution_count": 851,
   "id": "46e90284",
   "metadata": {},
   "outputs": [],
   "source": [
    "#Dropping Saturday and checking model functionality \n",
    "#X_train_rfe=X_train_rfe.drop(['Sat'],axis=1)"
   ]
  },
  {
   "cell_type": "code",
   "execution_count": 852,
   "id": "9a6a499a",
   "metadata": {},
   "outputs": [],
   "source": [
    "#X_train_rfe29 = sm.add_constant(X_train_rfe)\n",
    "#lm29 = sm.OLS(y_train,X_train_rfe29).fit()\n",
    "#print(lm29.summary())"
   ]
  },
  {
   "cell_type": "code",
   "execution_count": 853,
   "id": "ebd0ad17",
   "metadata": {},
   "outputs": [],
   "source": [
    "#vif = pd.DataFrame()\n",
    "#X = X_train_rfe\n",
    "#vif['Features'] = X.columns\n",
    "#vif['VIF'] = [variance_inflation_factor(X.values, i) for i in range(X.shape[1])]\n",
    "#vif['VIF'] = round(vif['VIF'], 2)\n",
    "#vif = vif.sort_values(by = \"VIF\", ascending = False)\n",
    "#vif"
   ]
  },
  {
   "cell_type": "code",
   "execution_count": null,
   "id": "13eb9798",
   "metadata": {},
   "outputs": [],
   "source": []
  },
  {
   "cell_type": "code",
   "execution_count": null,
   "id": "e9eedd3e",
   "metadata": {},
   "outputs": [],
   "source": []
  },
  {
   "cell_type": "code",
   "execution_count": null,
   "id": "b17b9876",
   "metadata": {},
   "outputs": [],
   "source": []
  },
  {
   "cell_type": "code",
   "execution_count": null,
   "id": "e2a1543f",
   "metadata": {},
   "outputs": [],
   "source": []
  },
  {
   "cell_type": "code",
   "execution_count": 854,
   "id": "c220f95d",
   "metadata": {},
   "outputs": [],
   "source": [
    "### ALL THE COLUMNS HAVE BEEN CHECKED : NOW SELECTING THE BEST MODEL \n",
    "#lm29 IS THE BEST MODEL AS PER RQAURED AND CIF VALUES : HENCE WE WOULD ACCEPT THAT"
   ]
  },
  {
   "cell_type": "code",
   "execution_count": 855,
   "id": "1310abe5",
   "metadata": {},
   "outputs": [],
   "source": [
    "#Predicting values\n",
    "y_train_cnt = lm29.predict(X_train_rfe29)"
   ]
  },
  {
   "cell_type": "code",
   "execution_count": 856,
   "id": "10471f8a",
   "metadata": {},
   "outputs": [],
   "source": [
    "import matplotlib.pyplot as plt\n",
    "import seaborn as sns\n",
    "%matplotlib inline"
   ]
  },
  {
   "cell_type": "code",
   "execution_count": 857,
   "id": "e6e52d9c",
   "metadata": {},
   "outputs": [],
   "source": [
    "#CALCULATING RESIDUALS\n",
    "\n",
    "res=y_train - y_train_cnt"
   ]
  },
  {
   "cell_type": "code",
   "execution_count": 858,
   "id": "bef33a35",
   "metadata": {},
   "outputs": [
    {
     "name": "stderr",
     "output_type": "stream",
     "text": [
      "C:\\Users\\gandhig\\Anaconda3\\lib\\site-packages\\seaborn\\distributions.py:2619: FutureWarning: `distplot` is a deprecated function and will be removed in a future version. Please adapt your code to use either `displot` (a figure-level function with similar flexibility) or `histplot` (an axes-level function for histograms).\n",
      "  warnings.warn(msg, FutureWarning)\n"
     ]
    },
    {
     "data": {
      "text/plain": [
       "Text(0.5, 0, 'Errors')"
      ]
     },
     "execution_count": 858,
     "metadata": {},
     "output_type": "execute_result"
    },
    {
     "data": {
      "image/png": "[encoded data removed]",
      "text/plain": [
       "<Figure size 432x288 with 1 Axes>"
      ]
     },
     "metadata": {
      "needs_background": "light"
     },
     "output_type": "display_data"
    }
   ],
   "source": [
    "#Checking ASSUMPTION OF NORMALITY:\n",
    "# Plot the histogram of the error terms\n",
    "fig = plt.figure()\n",
    "sns.distplot((res), bins = 20)\n",
    "fig.suptitle('Error Terms', fontsize = 18)                  # Plot heading \n",
    "plt.xlabel('Errors', fontsize = 16)                         # X-label\n",
    "\n",
    "#The error terms are normally distributed."
   ]
  },
  {
   "cell_type": "code",
   "execution_count": 859,
   "id": "e78f1748",
   "metadata": {},
   "outputs": [
    {
     "data": {
      "text/plain": [
       "Index(['const', 'Sat', 'Light_Snow_Rain_Thunderstorm', 'Mist_Cloudy', 'Spring',\n",
       "       'Summer', 'Winter', 'yr', 'workingday', 'temp', 'windspeed'],\n",
       "      dtype='object')"
      ]
     },
     "execution_count": 859,
     "metadata": {},
     "output_type": "execute_result"
    }
   ],
   "source": [
    "#Checking columns\n",
    "X_train_rfe29.columns"
   ]
  },
  {
   "cell_type": "code",
   "execution_count": 860,
   "id": "e35e1485",
   "metadata": {},
   "outputs": [
    {
     "name": "stdout",
     "output_type": "stream",
     "text": [
      "(510, 11)\n",
      "(510,)\n"
     ]
    }
   ],
   "source": [
    "print(X_train_rfe29.shape)\n",
    "print(res.shape)"
   ]
  },
  {
   "cell_type": "code",
   "execution_count": 861,
   "id": "084b3212",
   "metadata": {},
   "outputs": [],
   "source": [
    "#Scaling the test data\n",
    "\n",
    "num_vars=['temp','hum','windspeed','cnt']\n",
    "\n"
   ]
  },
  {
   "cell_type": "code",
   "execution_count": 862,
   "id": "c3f6e1f9",
   "metadata": {},
   "outputs": [
    {
     "name": "stderr",
     "output_type": "stream",
     "text": [
      "C:\\Users\\gandhig\\Anaconda3\\lib\\site-packages\\pandas\\core\\frame.py:3678: SettingWithCopyWarning: \n",
      "A value is trying to be set on a copy of a slice from a DataFrame.\n",
      "Try using .loc[row_indexer,col_indexer] = value instead\n",
      "\n",
      "See the caveats in the documentation: https://pandas.pydata.org/pandas-docs/stable/user_guide/indexing.html#returning-a-view-versus-a-copy\n",
      "  self[col] = igetitem(value, i)\n"
     ]
    }
   ],
   "source": [
    "df2_test[num_vars] = scaler.transform(df2_test[num_vars])"
   ]
  },
  {
   "cell_type": "code",
   "execution_count": 863,
   "id": "0e151cce",
   "metadata": {},
   "outputs": [],
   "source": [
    "#Creating x and y sets\n",
    "\n",
    "y_test = df2_test.pop('cnt')\n",
    "X_test = df2_test"
   ]
  },
  {
   "cell_type": "code",
   "execution_count": 864,
   "id": "14739d37",
   "metadata": {},
   "outputs": [],
   "source": [
    "X_train_new=X_train_rfe28.drop(['const'], axis=1)"
   ]
  },
  {
   "cell_type": "code",
   "execution_count": 865,
   "id": "53b55470",
   "metadata": {},
   "outputs": [
    {
     "name": "stderr",
     "output_type": "stream",
     "text": [
      "C:\\Users\\gandhig\\Anaconda3\\lib\\site-packages\\statsmodels\\tsa\\tsatools.py:142: FutureWarning: In a future version of pandas all arguments of concat except for the argument 'objs' will be keyword-only\n",
      "  x = pd.concat(x[::order], 1)\n"
     ]
    }
   ],
   "source": [
    "# Creating X_test_new dataframe by dropping variables from X_test\n",
    "\n",
    "X_test_new = X_test[X_train_new.columns]\n",
    "\n",
    "# Adding a constant variable \n",
    "X_test_new = sm.add_constant(X_test_new)"
   ]
  },
  {
   "cell_type": "code",
   "execution_count": 866,
   "id": "585c101b",
   "metadata": {},
   "outputs": [
    {
     "data": {
      "text/plain": [
       "Index(['const', 'Sat', 'Light_Snow_Rain_Thunderstorm', 'Mist_Cloudy', 'Spring',\n",
       "       'Summer', 'Winter', 'yr', 'workingday', 'temp', 'windspeed'],\n",
       "      dtype='object')"
      ]
     },
     "execution_count": 866,
     "metadata": {},
     "output_type": "execute_result"
    }
   ],
   "source": [
    "X_train_rfe29.columns"
   ]
  },
  {
   "cell_type": "code",
   "execution_count": 867,
   "id": "cde63d4c",
   "metadata": {},
   "outputs": [],
   "source": [
    "#Making predictions on the chosen model\n",
    "\n",
    "y_pred = lm29.predict(X_test_new)"
   ]
  },
  {
   "cell_type": "code",
   "execution_count": 868,
   "id": "d26e486a",
   "metadata": {},
   "outputs": [
    {
     "data": {
      "text/plain": [
       "Text(0, 0.5, 'y_pred')"
      ]
     },
     "execution_count": 868,
     "metadata": {},
     "output_type": "execute_result"
    },
    {
     "data": {
      "image/png": "[encoded data removed]",
      "text/plain": [
       "<Figure size 432x288 with 1 Axes>"
      ]
     },
     "metadata": {
      "needs_background": "light"
     },
     "output_type": "display_data"
    }
   ],
   "source": [
    "#CHECKING PREDICTED V/s TEST DATA \n",
    "\n",
    "fig = plt.figure()\n",
    "plt.scatter(y_test,y_pred)\n",
    "fig.suptitle('y_test vs y_pred', fontsize=20)              # Plot heading \n",
    "plt.xlabel('y_test', fontsize=20)                          # X-label\n",
    "plt.ylabel('y_pred', fontsize=18)                          # Y-label\n",
    "\n",
    "# the results seem to be good of our model "
   ]
  },
  {
   "cell_type": "code",
   "execution_count": 869,
   "id": "f84e4359",
   "metadata": {},
   "outputs": [],
   "source": [
    "from sklearn.metrics import mean_squared_error\n",
    "from sklearn.metrics import r2_score"
   ]
  },
  {
   "cell_type": "code",
   "execution_count": 870,
   "id": "f1df7275",
   "metadata": {},
   "outputs": [
    {
     "data": {
      "text/plain": [
       "0.09734607749053104"
      ]
     },
     "execution_count": 870,
     "metadata": {},
     "output_type": "execute_result"
    }
   ],
   "source": [
    "\n",
    "np.sqrt(mean_squared_error(y_test, y_pred))"
   ]
  },
  {
   "cell_type": "code",
   "execution_count": 871,
   "id": "966f7430",
   "metadata": {},
   "outputs": [
    {
     "data": {
      "text/plain": [
       "0.8004822073390505"
      ]
     },
     "execution_count": 871,
     "metadata": {},
     "output_type": "execute_result"
    }
   ],
   "source": [
    "#Calculate the r square for test\n",
    "\n",
    "r_squared = r2_score(y_test, y_pred)\n",
    "r_squared"
   ]
  },
  {
   "cell_type": "code",
   "execution_count": 872,
   "id": "3de206c1",
   "metadata": {},
   "outputs": [],
   "source": [
    "# value for training data set was R-squared: 0.829 and for test data set is 0.80 : hence the model is a good fit "
   ]
  },
  {
   "cell_type": "code",
   "execution_count": 873,
   "id": "f1f39c7d",
   "metadata": {},
   "outputs": [
    {
     "name": "stdout",
     "output_type": "stream",
     "text": [
      "Index(['const', 'Sat', 'Light_Snow_Rain_Thunderstorm', 'Mist_Cloudy', 'Spring',\n",
      "       'Summer', 'Winter', 'yr', 'workingday', 'temp', 'windspeed'],\n",
      "      dtype='object')\n",
      "                            OLS Regression Results                            \n",
      "==============================================================================\n",
      "Dep. Variable:                    cnt   R-squared:                       0.829\n",
      "Model:                            OLS   Adj. R-squared:                  0.825\n",
      "Method:                 Least Squares   F-statistic:                     241.2\n",
      "Date:                Tue, 08 Feb 2022   Prob (F-statistic):          6.50e-184\n",
      "Time:                        02:38:47   Log-Likelihood:                 488.20\n",
      "No. Observations:                 510   AIC:                            -954.4\n",
      "Df Residuals:                     499   BIC:                            -907.8\n",
      "Df Model:                          10                                         \n",
      "Covariance Type:            nonrobust                                         \n",
      "================================================================================================\n",
      "                                   coef    std err          t      P>|t|      [0.025      0.975]\n",
      "------------------------------------------------------------------------------------------------\n",
      "const                            0.1709      0.031      5.532      0.000       0.110       0.232\n",
      "Sat                              0.0668      0.015      4.548      0.000       0.038       0.096\n",
      "Light_Snow_Rain_Thunderstorm    -0.2843      0.025    -11.267      0.000      -0.334      -0.235\n",
      "Mist_Cloudy                     -0.0782      0.009     -8.769      0.000      -0.096      -0.061\n",
      "Spring                          -0.0811      0.021     -3.947      0.000      -0.122      -0.041\n",
      "Summer                           0.0386      0.014      2.794      0.005       0.011       0.066\n",
      "Winter                           0.0782      0.017      4.715      0.000       0.046       0.111\n",
      "yr                               0.2342      0.008     27.873      0.000       0.218       0.251\n",
      "workingday                       0.0557      0.011      4.887      0.000       0.033       0.078\n",
      "temp                             0.4688      0.033     13.995      0.000       0.403       0.535\n",
      "windspeed                       -0.1562      0.026     -6.093      0.000      -0.207      -0.106\n",
      "==============================================================================\n",
      "Omnibus:                       73.331   Durbin-Watson:                   2.019\n",
      "Prob(Omnibus):                  0.000   Jarque-Bera (JB):              192.939\n",
      "Skew:                          -0.718   Prob(JB):                     1.27e-42\n",
      "Kurtosis:                       5.649   Cond. No.                         19.1\n",
      "==============================================================================\n",
      "\n",
      "Notes:\n",
      "[1] Standard Errors assume that the covariance matrix of the errors is correctly specified.\n"
     ]
    }
   ],
   "source": [
    "print(X_train_rfe29.columns)\n",
    "print(lm29.summary())"
   ]
  },
  {
   "cell_type": "code",
   "execution_count": null,
   "id": "10050e4a",
   "metadata": {},
   "outputs": [],
   "source": []
  },
  {
   "cell_type": "code",
   "execution_count": 874,
   "id": "e6c2a054",
   "metadata": {},
   "outputs": [
    {
     "name": "stderr",
     "output_type": "stream",
     "text": [
      "C:\\Users\\gandhig\\Anaconda3\\lib\\site-packages\\seaborn\\_decorators.py:36: FutureWarning: Pass the following variables as keyword args: x, y. From version 0.12, the only valid positional argument will be `data`, and passing other arguments without an explicit keyword will result in an error or misinterpretation.\n",
      "  warnings.warn(\n"
     ]
    },
    {
     "data": {
      "text/plain": [
       "<AxesSubplot:xlabel='cnt'>"
      ]
     },
     "execution_count": 874,
     "metadata": {},
     "output_type": "execute_result"
    },
    {
     "data": {
      "image/png": "[encoded data removed]",
      "text/plain": [
       "<Figure size 432x288 with 1 Axes>"
      ]
     },
     "metadata": {
      "needs_background": "light"
     },
     "output_type": "display_data"
    }
   ],
   "source": [
    "fig = plt.figure()\n",
    "sns.lineplot(y_test,y_pred)\n",
    "         \n"
   ]
  },
  {
   "cell_type": "code",
   "execution_count": 876,
   "id": "d980727b",
   "metadata": {},
   "outputs": [],
   "source": [
    "X_t=X_train_new.iloc[:,0].values"
   ]
  },
  {
   "cell_type": "code",
   "execution_count": 877,
   "id": "b0a28c2b",
   "metadata": {},
   "outputs": [
    {
     "data": {
      "image/png": "[encoded data removed]",
      "text/plain": [
       "<Figure size 432x288 with 1 Axes>"
      ]
     },
     "metadata": {
      "needs_background": "light"
     },
     "output_type": "display_data"
    }
   ],
   "source": [
    "#PLotting the residuals to see if a pattern exists\n",
    "#Checking assumption of homoscedasticity and autocorrelation\n",
    "plt.figure()\n",
    "plt.scatter(X_t,res)\n",
    "fig.suptitle('Independent vars vs res', fontsize=20)              # Plot heading \n",
    "plt.xlabel('Independent variables', fontsize=18)                          # X-label\n",
    "plt.ylabel('Residuals', fontsize=16)  \n",
    "plt.show()\n",
    "\n",
    "#the regression is likely to suffer from autocorrelation because demand next year will certainly be dependent on demand this year."
   ]
  },
  {
   "cell_type": "code",
   "execution_count": null,
   "id": "b395a233",
   "metadata": {},
   "outputs": [],
   "source": [
    "#Variables which postiviely effect demand of bikes : Sat , yr , Summer , Winter , workingday , temp\n",
    "#Variables which negativly effect demand of bikes : Spring , Light_Snow_Rain_Thunderstorm , Mist_Cloudy ,windspeed"
   ]
  },
  {
   "cell_type": "code",
   "execution_count": null,
   "id": "e47ccafa",
   "metadata": {},
   "outputs": [],
   "source": [
    "#cnt=  0.0668 X Sat + 0.2342 X yr  - 0.0811 X Spring - 0.2842 X Light_Snow_Rain_Thunderstorm - 0.0782 X Mist_Cloudy + 0.0386 X Summer + 0.0782 X Winter + 0.0557 X workingday + 0.4688 X temp - 0.1562 X windspeed + 0.1709 "
   ]
  }
 ],
 "metadata": {
  "kernelspec": {
   "display_name": "Python 3 (ipykernel)",
   "language": "python",
   "name": "python3"
  },
  "language_info": {
   "codemirror_mode": {
    "name": "ipython",
    "version": 3
   },
   "file_extension": ".py",
   "mimetype": "text/x-python",
   "name": "python",
   "nbconvert_exporter": "python",
   "pygments_lexer": "ipython3",
   "version": "3.9.7"
  }
 },
 "nbformat": 4,
 "nbformat_minor": 5
}
